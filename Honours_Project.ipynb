{
  "cells": [
    {
      "cell_type": "markdown",
      "metadata": {},
      "source": [
        "# Phishing and Spam Detection Using Various Machine Learning Algorithms"
      ]
    },
    {
      "cell_type": "markdown",
      "metadata": {
        "id": "agJ7dWLclIr-"
      },
      "source": [
        "# 1 Introduction"
      ]
    },
    {
      "cell_type": "markdown",
      "metadata": {},
      "source": [
        "Authors: Anisaftab Saiyed, Terrence Manly-Elliott, Noah Ndahirwa\n",
        "Supervisor: Mohamad Hoda"
      ]
    },
    {
      "cell_type": "markdown",
      "metadata": {},
      "source": [
        "In this research project, our objective is to develop machine learning models that can effectively detect spam and phishing emails. Spam and phishing emails pose significant threats to individuals and organizations, as they aim to deceive recipients and extract sensitive information or engage in malicious activities.\n",
        "\n",
        "The detection of spam and phishing emails is a challenging task due to the constantly evolving techniques used by attackers. Machine learning algorithms provide a promising approach to tackle this problem by leveraging patterns and features within email content, headers, and metadata.\n",
        "\n",
        "By training machine learning models on a diverse dataset of labeled emails, we aim to build robust classifiers that can accurately identify and classify spam and phishing emails. These models will be capable of distinguishing between legitimate emails and malicious ones, enabling users to take appropriate actions to protect themselves and their organizations.\n",
        "\n",
        "Throughout this research project, we will explore various machine learning algorithms, including logistic regression, support vector machines, random forests, and neural networks. We will evaluate the performance of these models using metrics such as accuracy, precision, recall, and F1-score.\n",
        "\n",
        "The outcomes of this research project have the potential to contribute to the development of effective email filtering systems and enhance email security for individuals and organizations. By improving the detection of spam and phishing emails, we can mitigate the risks associated with cyber threats and safeguard sensitive information."
      ]
    },
    {
      "cell_type": "markdown",
      "metadata": {
        "id": "zy7hgvzUlN6F"
      },
      "source": [
        "# 2 Imports"
      ]
    },
    {
      "cell_type": "code",
      "execution_count": 5,
      "metadata": {
        "id": "0EK7JymQAVJT"
      },
      "outputs": [],
      "source": [
        "import pandas as pd\n",
        "import numpy as np\n",
        "import re\n",
        "import quopri\n",
        "import spacy\n",
        "import gc\n",
        "import os\n",
        "import warnings\n",
        "import lightgbm as lgb\n",
        "import tensorflow as tf\n",
        "import matplotlib.pyplot as plt\n",
        "import prettytable as pt\n",
        "from nltk.corpus import stopwords\n",
        "from sklearn.feature_extraction.text import TfidfVectorizer\n",
        "from sklearn.model_selection import train_test_split\n",
        "from sklearn.linear_model import LogisticRegression, SGDClassifier\n",
        "from bs4 import BeautifulSoup\n",
        "from email import message_from_string\n",
        "from sklearn.metrics import accuracy_score,f1_score,classification_report,ConfusionMatrixDisplay,confusion_matrix\n",
        "from tensorflow.keras.preprocessing.text import Tokenizer\n",
        "from tensorflow.keras.preprocessing.sequence import pad_sequences\n",
        "from sklearn.preprocessing import LabelEncoder\n",
        "from sklearn.model_selection import KFold\n",
        "from tensorflow.keras.models import load_model\n",
        "import joblib "
      ]
    },
    {
      "cell_type": "code",
      "execution_count": 6,
      "metadata": {
        "id": "OdytMGFPYbiH"
      },
      "outputs": [],
      "source": [
        "warnings.filterwarnings('ignore')"
      ]
    },
    {
      "cell_type": "markdown",
      "metadata": {
        "id": "D5MsDU2mlQ4V"
      },
      "source": [
        "# 3 Data Preparation"
      ]
    },
    {
      "cell_type": "markdown",
      "metadata": {
        "id": "DsLL4fzjgEQc"
      },
      "source": [
        "Useful Functions"
      ]
    },
    {
      "cell_type": "code",
      "execution_count": 7,
      "metadata": {
        "id": "29OQwXefgD5q"
      },
      "outputs": [],
      "source": [
        "#Function to convert MIME to plain text\n",
        "def mime_to_text(mime_text):\n",
        "  #Parse the MIME content\n",
        "  email_message = message_from_string(mime_text)\n",
        "  text_content = \"\"\n",
        "\n",
        "  #Check if the email is multipart\n",
        "  if email_message.is_multipart():\n",
        "      for part in email_message.walk():\n",
        "          content_type = part.get_content_type()\n",
        "          content_disposition = str(part.get(\"Content-Disposition\"))\n",
        "\n",
        "          #Extract plain text\n",
        "          if content_type == \"text/plain\" and \"attachment\" not in content_disposition:\n",
        "              text = part.get_payload(decode=True)\n",
        "              try:\n",
        "                  text_content += text.decode('utf-8')\n",
        "              except UnicodeDecodeError:\n",
        "                  text_content += text.decode('utf-8', errors='replace')\n",
        "          #Convert HTML parts to text\n",
        "          elif content_type == \"text/html\" and \"attachment\" not in content_disposition:\n",
        "              html = part.get_payload(decode=True)\n",
        "              try:\n",
        "                  soup = BeautifulSoup(html.decode('utf-8'), \"html.parser\")\n",
        "                  text_content += soup.get_text()\n",
        "              except UnicodeDecodeError:\n",
        "                  soup = BeautifulSoup(html.decode('utf-8', errors='replace'), \"html.parser\")\n",
        "                  text_content += soup.get_text()\n",
        "  else:\n",
        "      #Return text if not multipart\n",
        "      try:\n",
        "          text_content = email_message.get_payload(decode=True).decode('utf-8')\n",
        "      except UnicodeDecodeError:\n",
        "          text_content = email_message.get_payload(decode=True).decode('utf-8', errors='replace')\n",
        "  return text_content\n",
        "\n",
        "#function to convert html to plain text\n",
        "def html_to_text(text):\n",
        "  soup = BeautifulSoup(text, 'lxml')\n",
        "  return soup.get_text()"
      ]
    },
    {
      "cell_type": "markdown",
      "metadata": {
        "id": "GCTRulEOnOed"
      },
      "source": [
        "## 3.1 Spam Dataset"
      ]
    },
    {
      "cell_type": "markdown",
      "metadata": {
        "id": "hs840Ja5nUUP"
      },
      "source": [
        "### 3.1.1 Data Extraction"
      ]
    },
    {
      "cell_type": "code",
      "execution_count": 8,
      "metadata": {
        "id": "0gOhuxGEa5rU"
      },
      "outputs": [],
      "source": [
        "spam_df = pd.read_csv(\"https://raw.githubusercontent.com/terrenceme/Honours_Project/main/Spam%20Email%20raw%20text%20for%20NLP.csv\")\n",
        "spam_df.rename(columns={'CATEGORY': 'SPAM_CATEGORY'}, inplace=True)"
      ]
    },
    {
      "cell_type": "code",
      "execution_count": 9,
      "metadata": {
        "colab": {
          "base_uri": "https://localhost:8080/",
          "height": 712
        },
        "id": "L_eQ3bgoflKo",
        "outputId": "9fa30e99-fdff-426c-a342-e190ad234276"
      },
      "outputs": [
        {
          "data": {
            "text/html": [
              "<div>\n",
              "<style scoped>\n",
              "    .dataframe tbody tr th:only-of-type {\n",
              "        vertical-align: middle;\n",
              "    }\n",
              "\n",
              "    .dataframe tbody tr th {\n",
              "        vertical-align: top;\n",
              "    }\n",
              "\n",
              "    .dataframe thead th {\n",
              "        text-align: right;\n",
              "    }\n",
              "</style>\n",
              "<table border=\"1\" class=\"dataframe\">\n",
              "  <thead>\n",
              "    <tr style=\"text-align: right;\">\n",
              "      <th></th>\n",
              "      <th>SPAM_CATEGORY</th>\n",
              "      <th>MESSAGE</th>\n",
              "    </tr>\n",
              "  </thead>\n",
              "  <tbody>\n",
              "    <tr>\n",
              "      <th>0</th>\n",
              "      <td>1</td>\n",
              "      <td>Dear Homeowner,\\n\\n \\n\\nInterest Rates are at their lowest point in 40 years!\\n\\n\\n\\nWe help you find the best rate for your situation by\\n\\nmatching your needs with hundreds of lenders!\\n\\n\\n\\nHome Improvement, Refinance, Second Mortgage,\\n\\nHome Equity Loans, and More! Even with less than\\n\\nperfect credit!\\n\\n\\n\\nThis service is 100% FREE to home owners and new\\n\\nhome buyers without any obligation. \\n\\n\\n\\nJust fill out a quick, simple form and jump-start\\n\\nyour future plans today!\\n\\n\\n\\n\\n\\nVisit http://61.145.116.186/user0201/index.asp?Afft=QM10\\n\\n\\n\\n\\n\\n\\n\\n\\n\\n\\n\\n\\n\\nTo unsubscribe, please visit:\\n\\n\\n\\nhttp://61.145.116.186/light/watch.asp\\n\\n\\n\\n\\n</td>\n",
              "    </tr>\n",
              "    <tr>\n",
              "      <th>1</th>\n",
              "      <td>1</td>\n",
              "      <td>ATTENTION: This is a MUST for ALL Computer Users!!!\\n\\n\\n\\n*NEW-Special Package Deal!*\\n\\n\\n\\nNorton SystemWorks 2002 Software Suite -Professional Edition-\\n\\n\\n\\nIncludes Six - Yes 6! - Feature-Packed Utilities\\n\\nALL For 1 Special LOW Price!\\n\\n\\n\\nThis Software Will:\\n\\n- Protect your computer from unwanted and hazardous viruses\\n\\n- Help secure your private &amp; valuable information\\n\\n- Allow you to transfer files and send e-mails safely\\n\\n- Backup your ALL your data quick and easily\\n\\n- Improve your PC's performance w/superior integral diagnostics!\\n\\n\\n\\n6 Feature-Packed Utilities...1 Great Price!\\n\\nA $300+ Combined Retail Value!\\n\\n\\n\\nYOURS for Only $29.99!  &lt;Includes FREE Shipping!&gt;\\n\\n\\n\\nDon't fall prey to destructive viruses or hackers!\\n\\nProtect  your computer and your valuable information!\\n\\n\\n\\n\\n\\nSo don't delay...get your copy TODAY!\\n\\n\\n\\n\\n\\nhttp://euro.specialdiscounts4u.com/\\n\\n++++++++++++++++++++++++++++++++++++++++++++++++++++++++++++++++++++++++++++\\n\\n...</td>\n",
              "    </tr>\n",
              "    <tr>\n",
              "      <th>2</th>\n",
              "      <td>1</td>\n",
              "      <td>This is a multi-part message in MIME format.\\n\\n\\n\\n------=_NextPart_000_1CDC19_01C25366.4B57F3A0\\n\\nContent-Type: text/plain;\\n\\n\\tcharset=\"Windows-1252\"\\n\\nContent-Transfer-Encoding: quoted-printable\\n\\n\\n\\n We dare you...\\n\\n Try to find a better annuity!\\n\\n=20\\n\\n  - 5.40% Guaranteed for 6 Years=0A=\\n\\n- 6 Year Surrender Charge=0A=\\n\\n- 5% Agent\\n\\nCommission up to age 80=09\\n\\nCall today for more information!\\n\\n 800-888-7641 ext. 103\\n\\n- or -\\n\\n\\n\\nPlease fill out the form below for more information\\t=20\\n\\nName:\\t \\t  =09\\n\\nE-mail:\\t \\t=20\\n\\nPhone:\\t \\t=20\\n\\nCity:\\t \\t State:\\t \\t=20\\n\\n \\t    =09\\n\\n=20\\n\\n PMG Financial Services\\n\\n*5.40% for deposits of $100,000 and up, 5.25% interest for deposits\\n\\ntotalling $25,000-$99,999.\\t=20\\n\\nWe don't want anyone to receive our mailings who does not wish to\\n\\nreceive them. This is a professional communication sent to insurance\\n\\nprofessionals. To be removed from this mailing list, DO NOT REPLY to\\n\\nthis message. Instead,...</td>\n",
              "    </tr>\n",
              "    <tr>\n",
              "      <th>3</th>\n",
              "      <td>1</td>\n",
              "      <td>IMPORTANT INFORMATION:\\n\\n\\n\\nThe new domain names are finally available to the general public at discount prices. Now you can register one of the exciting new .BIZ or .INFO domain names, as well as the original .COM and .NET names for just $14.95. These brand new domain extensions were recently approved by ICANN and have the same rights as the original .COM and .NET domain names. The biggest benefit is of-course that the .BIZ and .INFO domain names are currently more available. i.e. it will be much easier to register an attractive and easy-to-remember domain name for the same price.  Visit: http://www.affordable-domains.com today for more info.\\n\\n \\n\\nRegister your domain name today for just $14.95 at: http://www.affordable-domains.com/  Registration fees include full access to an easy-to-use control panel to manage your domain name in the future.\\n\\n \\n\\nSincerely,\\n\\n \\n\\nDomain Administrator\\n\\nAffordable Domains\\n\\n\\n\\n\\n\\nTo remove your email address from further promotional...</td>\n",
              "    </tr>\n",
              "    <tr>\n",
              "      <th>4</th>\n",
              "      <td>1</td>\n",
              "      <td>This is the bottom line.  If you can GIVE AWAY CD's for FREE to people (like 80-100 in one month) and then let ME talk to them FOR you - if you can GIVE AWAY free product samples -  then YOU can earn $5,000 in the next 30 - 45 days.\\n\\n\\n\\nThink I'm kidding?  We earned PRECISELY $26,087.58 in our first 94 days doing JUST that - and we scanned our checks online for you to see them with your own eyes!  We've TWEAKED things a little because WE DON'T WANT you to talk to ANYONE.  WE WANT to talk to people FOR YOU.\\n\\n\\n\\nif you are ....\\n\\nVERY BUSY or,\\n\\nAren't GOOD AT TALKING TO PEOPLE or,\\n\\nDON'T WANT to talk to people....\\n\\n\\n\\nThen let US work FULL TIME for you.  We've helped others....\\n\\n   Julie P. earned $750 in one week with us\\n\\n   Jeff A. earned $6500 in 5 weeks with us\\n\\n\\n\\nAnd we NOW have an EXACT business plan for you and can tell you EXACTLY what to expect with where you're starting.  No guesswork - we've done it.\\n\\n\\n\\nAnd if you DO want to seriously evaluate thi...</td>\n",
              "    </tr>\n",
              "  </tbody>\n",
              "</table>\n",
              "</div>"
            ],
            "text/plain": [
              "   SPAM_CATEGORY  \\\n",
              "0              1   \n",
              "1              1   \n",
              "2              1   \n",
              "3              1   \n",
              "4              1   \n",
              "\n",
              "                                                                                                                                                                                                                                                                                                                                                                                                                                                                                                                                                                                                                                                                                                                                                                                                                                                                                                                                                                                                                                   MESSAGE  \n",
              "0                                                                                                                                                                                                                                                                                                                                          Dear Homeowner,\\n\\n \\n\\nInterest Rates are at their lowest point in 40 years!\\n\\n\\n\\nWe help you find the best rate for your situation by\\n\\nmatching your needs with hundreds of lenders!\\n\\n\\n\\nHome Improvement, Refinance, Second Mortgage,\\n\\nHome Equity Loans, and More! Even with less than\\n\\nperfect credit!\\n\\n\\n\\nThis service is 100% FREE to home owners and new\\n\\nhome buyers without any obligation. \\n\\n\\n\\nJust fill out a quick, simple form and jump-start\\n\\nyour future plans today!\\n\\n\\n\\n\\n\\nVisit http://61.145.116.186/user0201/index.asp?Afft=QM10\\n\\n\\n\\n\\n\\n\\n\\n\\n\\n\\n\\n\\n\\nTo unsubscribe, please visit:\\n\\n\\n\\nhttp://61.145.116.186/light/watch.asp\\n\\n\\n\\n\\n  \n",
              "1  ATTENTION: This is a MUST for ALL Computer Users!!!\\n\\n\\n\\n*NEW-Special Package Deal!*\\n\\n\\n\\nNorton SystemWorks 2002 Software Suite -Professional Edition-\\n\\n\\n\\nIncludes Six - Yes 6! - Feature-Packed Utilities\\n\\nALL For 1 Special LOW Price!\\n\\n\\n\\nThis Software Will:\\n\\n- Protect your computer from unwanted and hazardous viruses\\n\\n- Help secure your private & valuable information\\n\\n- Allow you to transfer files and send e-mails safely\\n\\n- Backup your ALL your data quick and easily\\n\\n- Improve your PC's performance w/superior integral diagnostics!\\n\\n\\n\\n6 Feature-Packed Utilities...1 Great Price!\\n\\nA $300+ Combined Retail Value!\\n\\n\\n\\nYOURS for Only $29.99!  <Includes FREE Shipping!>\\n\\n\\n\\nDon't fall prey to destructive viruses or hackers!\\n\\nProtect  your computer and your valuable information!\\n\\n\\n\\n\\n\\nSo don't delay...get your copy TODAY!\\n\\n\\n\\n\\n\\nhttp://euro.specialdiscounts4u.com/\\n\\n++++++++++++++++++++++++++++++++++++++++++++++++++++++++++++++++++++++++++++\\n\\n...  \n",
              "2  This is a multi-part message in MIME format.\\n\\n\\n\\n------=_NextPart_000_1CDC19_01C25366.4B57F3A0\\n\\nContent-Type: text/plain;\\n\\n\\tcharset=\"Windows-1252\"\\n\\nContent-Transfer-Encoding: quoted-printable\\n\\n\\n\\n We dare you...\\n\\n Try to find a better annuity!\\n\\n=20\\n\\n  - 5.40% Guaranteed for 6 Years=0A=\\n\\n- 6 Year Surrender Charge=0A=\\n\\n- 5% Agent\\n\\nCommission up to age 80=09\\n\\nCall today for more information!\\n\\n 800-888-7641 ext. 103\\n\\n- or -\\n\\n\\n\\nPlease fill out the form below for more information\\t=20\\n\\nName:\\t \\t  =09\\n\\nE-mail:\\t \\t=20\\n\\nPhone:\\t \\t=20\\n\\nCity:\\t \\t State:\\t \\t=20\\n\\n \\t    =09\\n\\n=20\\n\\n PMG Financial Services\\n\\n*5.40% for deposits of $100,000 and up, 5.25% interest for deposits\\n\\ntotalling $25,000-$99,999.\\t=20\\n\\nWe don't want anyone to receive our mailings who does not wish to\\n\\nreceive them. This is a professional communication sent to insurance\\n\\nprofessionals. To be removed from this mailing list, DO NOT REPLY to\\n\\nthis message. Instead,...  \n",
              "3  IMPORTANT INFORMATION:\\n\\n\\n\\nThe new domain names are finally available to the general public at discount prices. Now you can register one of the exciting new .BIZ or .INFO domain names, as well as the original .COM and .NET names for just $14.95. These brand new domain extensions were recently approved by ICANN and have the same rights as the original .COM and .NET domain names. The biggest benefit is of-course that the .BIZ and .INFO domain names are currently more available. i.e. it will be much easier to register an attractive and easy-to-remember domain name for the same price.  Visit: http://www.affordable-domains.com today for more info.\\n\\n \\n\\nRegister your domain name today for just $14.95 at: http://www.affordable-domains.com/  Registration fees include full access to an easy-to-use control panel to manage your domain name in the future.\\n\\n \\n\\nSincerely,\\n\\n \\n\\nDomain Administrator\\n\\nAffordable Domains\\n\\n\\n\\n\\n\\nTo remove your email address from further promotional...  \n",
              "4  This is the bottom line.  If you can GIVE AWAY CD's for FREE to people (like 80-100 in one month) and then let ME talk to them FOR you - if you can GIVE AWAY free product samples -  then YOU can earn $5,000 in the next 30 - 45 days.\\n\\n\\n\\nThink I'm kidding?  We earned PRECISELY $26,087.58 in our first 94 days doing JUST that - and we scanned our checks online for you to see them with your own eyes!  We've TWEAKED things a little because WE DON'T WANT you to talk to ANYONE.  WE WANT to talk to people FOR YOU.\\n\\n\\n\\nif you are ....\\n\\nVERY BUSY or,\\n\\nAren't GOOD AT TALKING TO PEOPLE or,\\n\\nDON'T WANT to talk to people....\\n\\n\\n\\nThen let US work FULL TIME for you.  We've helped others....\\n\\n   Julie P. earned $750 in one week with us\\n\\n   Jeff A. earned $6500 in 5 weeks with us\\n\\n\\n\\nAnd we NOW have an EXACT business plan for you and can tell you EXACTLY what to expect with where you're starting.  No guesswork - we've done it.\\n\\n\\n\\nAnd if you DO want to seriously evaluate thi...  "
            ]
          },
          "execution_count": 9,
          "metadata": {},
          "output_type": "execute_result"
        }
      ],
      "source": [
        "# Display the entire content of MESSAGE column\n",
        "pd.set_option('display.max_colwidth', 1000)\n",
        "#Removing unrequired column\n",
        "spam_df.drop(columns=['FILE_NAME'], inplace=True)\n",
        "spam_df.head()"
      ]
    },
    {
      "cell_type": "markdown",
      "metadata": {
        "id": "F0HnOT3bnEq9"
      },
      "source": [
        "### 3.1.2 Text Preprocessing\n"
      ]
    },
    {
      "cell_type": "code",
      "execution_count": 10,
      "metadata": {
        "colab": {
          "base_uri": "https://localhost:8080/",
          "height": 1000
        },
        "id": "P8l1SVF2Ylkj",
        "outputId": "3c674000-61a3-4c43-8e28-0d8dc7987767"
      },
      "outputs": [
        {
          "data": {
            "text/html": [
              "<div>\n",
              "<style scoped>\n",
              "    .dataframe tbody tr th:only-of-type {\n",
              "        vertical-align: middle;\n",
              "    }\n",
              "\n",
              "    .dataframe tbody tr th {\n",
              "        vertical-align: top;\n",
              "    }\n",
              "\n",
              "    .dataframe thead th {\n",
              "        text-align: right;\n",
              "    }\n",
              "</style>\n",
              "<table border=\"1\" class=\"dataframe\">\n",
              "  <thead>\n",
              "    <tr style=\"text-align: right;\">\n",
              "      <th></th>\n",
              "      <th>SPAM_CATEGORY</th>\n",
              "      <th>MESSAGE</th>\n",
              "    </tr>\n",
              "  </thead>\n",
              "  <tbody>\n",
              "    <tr>\n",
              "      <th>0</th>\n",
              "      <td>1</td>\n",
              "      <td>dear homeowner, interest rates are at their lowest point in 40 years! we help you find the best rate for your situation by matching your needs with hundreds of lenders! home improvement, refinance, second mortgage, home equity loans, and more! even with less than perfect credit! this service is 100% free to home owners and new home buyers without any obligation. just fill out a quick, simple form and jump-start your future plans today! visit http://61.145.116.186/user0201/index.asp?afft=qm10 to unsubscribe, please visit: http://61.145.116.186/light/watch.asp</td>\n",
              "    </tr>\n",
              "    <tr>\n",
              "      <th>1</th>\n",
              "      <td>1</td>\n",
              "      <td>*new-special package deal!* norton systemworks 2002 software suite -professional edition- includes six - yes 6! - feature-packed utilities all for 1 special low price! this software will: - protect your computer from unwanted and hazardous viruses - help secure your private &amp; valuable information - allow you to transfer files and send e-mails safely - backup your all your data quick and easily - improve your pc's performance w/superior integral diagnostics! 6 feature-packed utilities...1 great price! a $300+ combined retail value! yours for only $29.99! don't fall prey to destructive viruses or hackers! protect your computer and your valuable information! so don't delay...get your copy today! http://euro.specialdiscounts4u.com/ ++++++++++++++++++++++++++++++++++++++++++++++++++++++++++++++++++++++++++++ this email has been screened and filtered by our in house \"\"opt-out\"\" system in compliance with state laws. if you wish to \"opt-out\" from this mailing as well as the lists of thousa...</td>\n",
              "    </tr>\n",
              "    <tr>\n",
              "      <th>2</th>\n",
              "      <td>1</td>\n",
              "      <td>this is a multi-part message in mime format. ------= nextpart 000 1cdc19 01c25366.4b57f3a0 content-type: text/plain; charset=\"windows-1252\" content-transfer-encoding: quoted-printable we dare you... try to find a better annuity! =20 - 5.40% guaranteed for 6 years=0a= - 6 year surrender charge=0a= - 5% agent commission up to age 80=09 call today for more information! 800-888-7641 ext. 103 - or - please fill out the form below for more information =20 name: =09 e-mail: =20 phone: =20 city: state: =20 =09 =20 pmg financial services *5.40% for deposits of $100,000 and up, 5.25% interest for deposits totalling $25,000-$99,999. =20 we don't want anyone to receive our mailings who does not wish to receive them. this is a professional communication sent to insurance professionals. to be removed from this mailing list, do not reply to this message. instead, go here: http://www.insuranceiq.com/optout =20 legal notice =20 ------= nextpart 000 1cdc19 01c25366.4b57f3a0 content-type: text/html; ...</td>\n",
              "    </tr>\n",
              "    <tr>\n",
              "      <th>3</th>\n",
              "      <td>1</td>\n",
              "      <td>important information: the new domain names are finally available to the general public at discount prices. now you can register one of the exciting new .biz or .info domain names, as well as the original .com and .net names for just $14.95. these brand new domain extensions were recently approved by icann and have the same rights as the original .com and .net domain names. the biggest benefit is of-course that the .biz and .info domain names are currently more available. i.e. it will be much easier to register an attractive and easy-to-remember domain name for the same price. visit: http://www.affordable-domains.com today for more info. register your domain name today for just $14.95 at: http://www.affordable-domains.com/ registration fees include full access to an easy-to-use control panel to manage your domain name in the future. sincerely, domain administrator affordable domains to remove your email address from further promotional mailings from this company, click here: http:/...</td>\n",
              "    </tr>\n",
              "    <tr>\n",
              "      <th>4</th>\n",
              "      <td>1</td>\n",
              "      <td>this is the bottom line. if you can give away cd's for free to people (like 80-100 in one month) and then let me talk to them for you - if you can give away free product samples - then you can earn $5,000 in the next 30 - 45 days. think i'm kidding? we earned precisely $26,087.58 in our first 94 days doing just that - and we scanned our checks online for you to see them with your own eyes! we've tweaked things a little because we don't want you to talk to anyone. we want to talk to people for you. if you are .... very busy or, aren't good at talking to people or, don't want to talk to people.... then let us work full time for you. we've helped others.... julie p. earned $750 in one week with us jeff a. earned $6500 in 5 weeks with us and we now have an exact business plan for you and can tell you exactly what to expect with where you're starting. no guesswork - we've done it. and if you do want to seriously evaluate this, we would be happy to even fly you to los angeles at our expe...</td>\n",
              "    </tr>\n",
              "    <tr>\n",
              "      <th>...</th>\n",
              "      <td>...</td>\n",
              "      <td>...</td>\n",
              "    </tr>\n",
              "    <tr>\n",
              "      <th>5791</th>\n",
              "      <td>0</td>\n",
              "      <td>i'm one of the 30,000 but it's not working very well this week with the tes updates and servers not syncing. -----original message----- from: jordan ritter [mailto:jpr5@darkridge.com] sent: thursday, august 08, 2002 4:45 pm to: razor-users@example.sourceforge.net subject: re: [razor-users] what's wrong with the razor servers now? on thu, aug 08, 2002 at 01:36:15pm -0700, craig r.hughes wrote: # razor2 seems to have been a long time in coming, [...] and doesn't # currently work. quite a strong statement, craig, one which over 30,000 active users a day would strongly disagree with. --jordan ------------------------------------------------------- this sf.net email is sponsored by:thinkgeek welcome to geek heaven. http://thinkgeek.com/sf                                                 razor-users mailing list razor-users@lists.sourceforge.net https://lists.sourceforge.net/lists/listinfo/razor-users</td>\n",
              "    </tr>\n",
              "    <tr>\n",
              "      <th>5792</th>\n",
              "      <td>0</td>\n",
              "      <td>damien morton quoted: &gt;w3c approves html 4 'emotitags' - now you'll be able to say it with feeling &gt;&gt;from the rockall times (http://www.therockalltimes.co.uk/), definitely the source of much funniness. r http://xent.com/mailman/listinfo/fork</td>\n",
              "    </tr>\n",
              "    <tr>\n",
              "      <th>5793</th>\n",
              "      <td>0</td>\n",
              "      <td>on mon, 2002-07-22 at 06:50, che wrote: &gt; thats the correct lines to be added to sources.list for the repository &gt; i just did a apt-get install gnome-session its still progressing :) excellent - might give it a bash tonight :)                                                 rpm-list mailing list http://lists.freshrpms.net/mailman/listinfo/rpm-list</td>\n",
              "    </tr>\n",
              "    <tr>\n",
              "      <th>5794</th>\n",
              "      <td>0</td>\n",
              "      <td>once upon a time, manfred wrote : &gt; i would like to install rpm itself. i have tried to get the information &gt; by visiting www.rpm.org and the related links they &gt; give but they all seems to assume that rpm already is installed. &gt; i have a firewall based on linux-2.2.20 (smoothwall) for private use. &gt; i would like to install the rpm package/program but there is no &gt; information how to do this from scratch. &gt; found this site and hopefully some have the knowledge. &gt; best regards manfred grobosch well, you can simply use an rpm tarball (or extract one from a source rpm on a machine that has rpm scripts install \"rpm2cpio | cpio -dimv\" and \"./configure &amp;&amp; make &amp;&amp; make install\" as usual. you need db3 or db4 development files at least, and once everything installed you'll need to initialize your rpm database. if you need more help, i suggest you join the rpm-list@redhat.com by subscribing at https://listman.redhat.com/ matthias -- matthias saou world trade center ------------- edificio nor...</td>\n",
              "    </tr>\n",
              "    <tr>\n",
              "      <th>5795</th>\n",
              "      <td>0</td>\n",
              "      <td>if you run pick, and then use the \"new ftoc\" button to show only those messages selected by pick, then the ftoc display was considered \"invalid\" in the old code. this prevented the display from being cached, and it meant that you could get back to the full folder display by clicking on the folder lablel. that doesn't work anymore. you have to resort to rescan folder. in fact, when you change folders you continue to have the pick results, not the new folder contents. if you go to a any folder and do rescan, then it heals itself. -- brent welch software architect, panasas inc pioneering the world's most scalable and agile storage network www.panasas.com welch@panasas.com                                                 exmh-workers mailing list exmh-workers@redhat.com https://listman.redhat.com/mailman/listinfo/exmh-workers</td>\n",
              "    </tr>\n",
              "  </tbody>\n",
              "</table>\n",
              "<p>5796 rows × 2 columns</p>\n",
              "</div>"
            ],
            "text/plain": [
              "      SPAM_CATEGORY  \\\n",
              "0                 1   \n",
              "1                 1   \n",
              "2                 1   \n",
              "3                 1   \n",
              "4                 1   \n",
              "...             ...   \n",
              "5791              0   \n",
              "5792              0   \n",
              "5793              0   \n",
              "5794              0   \n",
              "5795              0   \n",
              "\n",
              "                                                                                                                                                                                                                                                                                                                                                                                                                                                                                                                                                                                                                                                                                                                                                                                                                                                                                                                                                                                                                                      MESSAGE  \n",
              "0                                                                                                                                                                                                                                                                                                                                                                                                                                                        dear homeowner, interest rates are at their lowest point in 40 years! we help you find the best rate for your situation by matching your needs with hundreds of lenders! home improvement, refinance, second mortgage, home equity loans, and more! even with less than perfect credit! this service is 100% free to home owners and new home buyers without any obligation. just fill out a quick, simple form and jump-start your future plans today! visit http://61.145.116.186/user0201/index.asp?afft=qm10 to unsubscribe, please visit: http://61.145.116.186/light/watch.asp  \n",
              "1     *new-special package deal!* norton systemworks 2002 software suite -professional edition- includes six - yes 6! - feature-packed utilities all for 1 special low price! this software will: - protect your computer from unwanted and hazardous viruses - help secure your private & valuable information - allow you to transfer files and send e-mails safely - backup your all your data quick and easily - improve your pc's performance w/superior integral diagnostics! 6 feature-packed utilities...1 great price! a $300+ combined retail value! yours for only $29.99! don't fall prey to destructive viruses or hackers! protect your computer and your valuable information! so don't delay...get your copy today! http://euro.specialdiscounts4u.com/ ++++++++++++++++++++++++++++++++++++++++++++++++++++++++++++++++++++++++++++ this email has been screened and filtered by our in house \"\"opt-out\"\" system in compliance with state laws. if you wish to \"opt-out\" from this mailing as well as the lists of thousa...  \n",
              "2     this is a multi-part message in mime format. ------= nextpart 000 1cdc19 01c25366.4b57f3a0 content-type: text/plain; charset=\"windows-1252\" content-transfer-encoding: quoted-printable we dare you... try to find a better annuity! =20 - 5.40% guaranteed for 6 years=0a= - 6 year surrender charge=0a= - 5% agent commission up to age 80=09 call today for more information! 800-888-7641 ext. 103 - or - please fill out the form below for more information =20 name: =09 e-mail: =20 phone: =20 city: state: =20 =09 =20 pmg financial services *5.40% for deposits of $100,000 and up, 5.25% interest for deposits totalling $25,000-$99,999. =20 we don't want anyone to receive our mailings who does not wish to receive them. this is a professional communication sent to insurance professionals. to be removed from this mailing list, do not reply to this message. instead, go here: http://www.insuranceiq.com/optout =20 legal notice =20 ------= nextpart 000 1cdc19 01c25366.4b57f3a0 content-type: text/html; ...  \n",
              "3     important information: the new domain names are finally available to the general public at discount prices. now you can register one of the exciting new .biz or .info domain names, as well as the original .com and .net names for just $14.95. these brand new domain extensions were recently approved by icann and have the same rights as the original .com and .net domain names. the biggest benefit is of-course that the .biz and .info domain names are currently more available. i.e. it will be much easier to register an attractive and easy-to-remember domain name for the same price. visit: http://www.affordable-domains.com today for more info. register your domain name today for just $14.95 at: http://www.affordable-domains.com/ registration fees include full access to an easy-to-use control panel to manage your domain name in the future. sincerely, domain administrator affordable domains to remove your email address from further promotional mailings from this company, click here: http:/...  \n",
              "4     this is the bottom line. if you can give away cd's for free to people (like 80-100 in one month) and then let me talk to them for you - if you can give away free product samples - then you can earn $5,000 in the next 30 - 45 days. think i'm kidding? we earned precisely $26,087.58 in our first 94 days doing just that - and we scanned our checks online for you to see them with your own eyes! we've tweaked things a little because we don't want you to talk to anyone. we want to talk to people for you. if you are .... very busy or, aren't good at talking to people or, don't want to talk to people.... then let us work full time for you. we've helped others.... julie p. earned $750 in one week with us jeff a. earned $6500 in 5 weeks with us and we now have an exact business plan for you and can tell you exactly what to expect with where you're starting. no guesswork - we've done it. and if you do want to seriously evaluate this, we would be happy to even fly you to los angeles at our expe...  \n",
              "...                                                                                                                                                                                                                                                                                                                                                                                                                                                                                                                                                                                                                                                                                                                                                                                                                                                                                                                                                                                                                                       ...  \n",
              "5791                                                                                              i'm one of the 30,000 but it's not working very well this week with the tes updates and servers not syncing. -----original message----- from: jordan ritter [mailto:jpr5@darkridge.com] sent: thursday, august 08, 2002 4:45 pm to: razor-users@example.sourceforge.net subject: re: [razor-users] what's wrong with the razor servers now? on thu, aug 08, 2002 at 01:36:15pm -0700, craig r.hughes wrote: # razor2 seems to have been a long time in coming, [...] and doesn't # currently work. quite a strong statement, craig, one which over 30,000 active users a day would strongly disagree with. --jordan ------------------------------------------------------- this sf.net email is sponsored by:thinkgeek welcome to geek heaven. http://thinkgeek.com/sf                                                 razor-users mailing list razor-users@lists.sourceforge.net https://lists.sourceforge.net/lists/listinfo/razor-users  \n",
              "5792                                                                                                                                                                                                                                                                                                                                                                                                                                                                                                                                                                                                                                                                                                                                                                                        damien morton quoted: >w3c approves html 4 'emotitags' - now you'll be able to say it with feeling >>from the rockall times (http://www.therockalltimes.co.uk/), definitely the source of much funniness. r http://xent.com/mailman/listinfo/fork  \n",
              "5793                                                                                                                                                                                                                                                                                                                                                                                                                                                                                                                                                                                                                                                                            on mon, 2002-07-22 at 06:50, che wrote: > thats the correct lines to be added to sources.list for the repository > i just did a apt-get install gnome-session its still progressing :) excellent - might give it a bash tonight :)                                                 rpm-list mailing list http://lists.freshrpms.net/mailman/listinfo/rpm-list  \n",
              "5794  once upon a time, manfred wrote : > i would like to install rpm itself. i have tried to get the information > by visiting www.rpm.org and the related links they > give but they all seems to assume that rpm already is installed. > i have a firewall based on linux-2.2.20 (smoothwall) for private use. > i would like to install the rpm package/program but there is no > information how to do this from scratch. > found this site and hopefully some have the knowledge. > best regards manfred grobosch well, you can simply use an rpm tarball (or extract one from a source rpm on a machine that has rpm scripts install \"rpm2cpio | cpio -dimv\" and \"./configure && make && make install\" as usual. you need db3 or db4 development files at least, and once everything installed you'll need to initialize your rpm database. if you need more help, i suggest you join the rpm-list@redhat.com by subscribing at https://listman.redhat.com/ matthias -- matthias saou world trade center ------------- edificio nor...  \n",
              "5795                                                                                                                                                                         if you run pick, and then use the \"new ftoc\" button to show only those messages selected by pick, then the ftoc display was considered \"invalid\" in the old code. this prevented the display from being cached, and it meant that you could get back to the full folder display by clicking on the folder lablel. that doesn't work anymore. you have to resort to rescan folder. in fact, when you change folders you continue to have the pick results, not the new folder contents. if you go to a any folder and do rescan, then it heals itself. -- brent welch software architect, panasas inc pioneering the world's most scalable and agile storage network www.panasas.com welch@panasas.com                                                 exmh-workers mailing list exmh-workers@redhat.com https://listman.redhat.com/mailman/listinfo/exmh-workers  \n",
              "\n",
              "[5796 rows x 2 columns]"
            ]
          },
          "execution_count": 10,
          "metadata": {},
          "output_type": "execute_result"
        }
      ],
      "source": [
        "#TEXT PREPROCESSING\n",
        "#Removing duplicates\n",
        "spam_df.drop_duplicates()\n",
        "\n",
        "\n",
        "#Convert all text to lowercase\n",
        "spam_df['MESSAGE'] = spam_df['MESSAGE'].str.lower()\n",
        "\n",
        "#Convert formats to plain text\n",
        "spam_df['MESSAGE'] = spam_df['MESSAGE'].apply(mime_to_text)\n",
        "spam_df['MESSAGE'] = spam_df['MESSAGE'].apply(html_to_text)\n",
        "\n",
        "#Removing special whitespace characters\n",
        "spam_df['MESSAGE'] = spam_df['MESSAGE'].str.replace(r\"\\s+\", \" \", regex=True)\n",
        "\n",
        "#Removing all punctuation from MESSAGE column\n",
        "spam_df['MESSAGE'] = spam_df['MESSAGE'].str.replace('[^\\w\\s]',' ').str.replace('_', ' ', regex=False)\n",
        "\n",
        "#Trim whitespaces\n",
        "spam_df['MESSAGE'] = spam_df['MESSAGE'].str.strip()\n",
        "\n",
        "spam_df"
      ]
    },
    {
      "cell_type": "markdown",
      "metadata": {
        "id": "T_qy_lN5IeMW"
      },
      "source": [
        "### 3.1.3 Tokenizing and Encoding"
      ]
    },
    {
      "cell_type": "code",
      "execution_count": 11,
      "metadata": {
        "id": "iFb2mXXXIcfM"
      },
      "outputs": [],
      "source": [
        "#Naming the Features column\n",
        "spam_X = spam_df['MESSAGE']\n",
        "\n",
        "#Naming the target column\n",
        "spam_y = np.array(spam_df['SPAM_CATEGORY'])\n",
        "\n",
        "#Vectorize the features column\n",
        "vectorizer = TfidfVectorizer(max_features= 30000, stop_words='english')\n",
        "spam_X = vectorizer.fit_transform(spam_X).toarray()\n",
        "#Save vectorizer\n",
        "joblib.dump(vectorizer, 'vectorizer.joblib')\n",
        "\n",
        "#Leaving 10% of the dataset untouched and splitting the rest as a 70%/30% training/testing split\n",
        "spam_X__untouched, spam_X_leftover, spam_y__untouched, spam_y_leftover = train_test_split(spam_X,spam_y,test_size=0.9)\n",
        "spam_X_train, spam_X_test, spam_y_train, spam_y_test = train_test_split(spam_X_leftover,spam_y_leftover,test_size=0.3)\n",
        "\n",
        "#Tokenizing the text for the neurel network model\n",
        "nn_X_train, nn_X_test, nn_y_train, nn_y_test = train_test_split(spam_df['MESSAGE'], spam_df['SPAM_CATEGORY'], test_size=0.4, random_state=42)\n",
        "\n",
        "tokenizer = Tokenizer(num_words=14804)  # Assuming you want to use 30000 most frequent words\n",
        "tokenizer.fit_on_texts(spam_df['MESSAGE'])\n",
        "X_train_tokenized = tokenizer.texts_to_sequences(nn_X_train)\n",
        "X_test_tokenized = tokenizer.texts_to_sequences(nn_X_test)\n",
        "\n",
        "label_encoder = LabelEncoder()\n",
        "y_train_encoded = label_encoder.fit_transform(nn_y_train)\n",
        "y_test_encoded = label_encoder.transform(nn_y_test)\n",
        "\n",
        "max_sequence_length = 14804  # Max length of your sequences\n",
        "X_train_padded = pad_sequences(X_train_tokenized, maxlen=max_sequence_length)\n",
        "X_test_padded = pad_sequences(X_test_tokenized, maxlen=max_sequence_length)"
      ]
    },
    {
      "cell_type": "code",
      "execution_count": 12,
      "metadata": {},
      "outputs": [],
      "source": [
        "X_untouched_tokenized = tokenizer.texts_to_sequences([str(text) for text in spam_X__untouched])\n",
        "X_untouched_padded = pad_sequences(X_untouched_tokenized, maxlen=max_sequence_length)\n",
        "y_untouched_encoded = label_encoder.transform(spam_y__untouched)"
      ]
    },
    {
      "cell_type": "markdown",
      "metadata": {
        "id": "exGf2FJ6nhRr"
      },
      "source": [
        "## 3.2 Phishing Dataset"
      ]
    },
    {
      "cell_type": "markdown",
      "metadata": {
        "id": "_YuB6DkuwRJz"
      },
      "source": [
        "### 3.2.1 Data Extraction"
      ]
    },
    {
      "cell_type": "code",
      "execution_count": 13,
      "metadata": {
        "id": "ZW9b-e8PwYw_"
      },
      "outputs": [],
      "source": [
        "#read phishing dataset into pandas dataframe\n",
        "phish_df = pd.read_csv(\"https://dl.dropboxusercontent.com/scl/fi/imp09i8kxevoa5ahzg5e9/Phishing_Email.csv?rlkey=z0cqsyccz3sms8o817ylr5ixz&dl=0\")"
      ]
    },
    {
      "cell_type": "markdown",
      "metadata": {
        "id": "7flK8u9hN5T8"
      },
      "source": [
        "### 3.2.2 Balance of Phishing Dataset"
      ]
    },
    {
      "cell_type": "code",
      "execution_count": 14,
      "metadata": {
        "colab": {
          "base_uri": "https://localhost:8080/",
          "height": 472
        },
        "id": "rs-PM5wgNxBc",
        "outputId": "b626cd54-c3ca-45b1-f274-b6474ef81a8e"
      },
      "outputs": [
        {
          "data": {
            "image/png": "[encoded data removed]",
            "text/plain": [
              "<Figure size 640x480 with 1 Axes>"
            ]
          },
          "metadata": {},
          "output_type": "display_data"
        }
      ],
      "source": [
        "#Remove null values\n",
        "phish_df.dropna(inplace=True,axis=0)\n",
        "\n",
        "#Remove duplicates\n",
        "phish_df = phish_df.drop_duplicates()\n",
        "\n",
        "#Check balance of dataset\n",
        "index = phish_df['Email Type'].value_counts().index\n",
        "values = phish_df['Email Type'].value_counts().values\n",
        "plt.bar(index,values,color=['blue','red'])\n",
        "plt.title(\"Label Distribution\")\n",
        "plt.xlabel(\"Label\")\n",
        "plt.ylabel(\"Count\")\n",
        "plt.show()"
      ]
    },
    {
      "cell_type": "markdown",
      "metadata": {
        "id": "PSEQalB39UTn"
      },
      "source": [
        "### 3.2.3 Text Preprocessing"
      ]
    },
    {
      "cell_type": "code",
      "execution_count": 15,
      "metadata": {
        "colab": {
          "base_uri": "https://localhost:8080/",
          "height": 211
        },
        "id": "8c4Ad-kjhJBP",
        "outputId": "d59a3ee7-e223-48d2-fb23-07e2827c1766"
      },
      "outputs": [
        {
          "data": {
            "text/html": [
              "<div>\n",
              "<style scoped>\n",
              "    .dataframe tbody tr th:only-of-type {\n",
              "        vertical-align: middle;\n",
              "    }\n",
              "\n",
              "    .dataframe tbody tr th {\n",
              "        vertical-align: top;\n",
              "    }\n",
              "\n",
              "    .dataframe thead th {\n",
              "        text-align: right;\n",
              "    }\n",
              "</style>\n",
              "<table border=\"1\" class=\"dataframe\">\n",
              "  <thead>\n",
              "    <tr style=\"text-align: right;\">\n",
              "      <th></th>\n",
              "      <th>Unnamed: 0</th>\n",
              "      <th>Email Text</th>\n",
              "      <th>Email Type</th>\n",
              "    </tr>\n",
              "  </thead>\n",
              "  <tbody>\n",
              "    <tr>\n",
              "      <th>0</th>\n",
              "      <td>0</td>\n",
              "      <td>re : 6 . 1100 , disc : uniformitarianism , re : 1086 ; sex / lang dick hudson 's observations on us use of 's on ' but not 'd aughter ' as a vocative are very thought-provoking , but i am not sure that it is fair to attribute this to \" sons \" being \" treated like senior relatives \" . for one thing , we do n't normally use ' brother ' in this way any more than we do 'd aughter ' , and it is hard to imagine a natural class comprising senior relatives and 's on ' but excluding ' brother ' . for another , there seem to me to be differences here . if i am not imagining a distinction that is not there , it seems to me that the senior relative terms are used in a wider variety of contexts , e . g . , calling out from a distance to get someone 's attention , and hence at the beginning of an utterance , whereas 's on ' seems more natural in utterances like ' yes , son ' , ' hand me that , son ' than in ones like ' son ! ' or ' son , help me ! ' ( although perhaps these latter ones are not c...</td>\n",
              "      <td>1</td>\n",
              "    </tr>\n",
              "    <tr>\n",
              "      <th>1</th>\n",
              "      <td>1</td>\n",
              "      <td>the other side of * galicismos * * galicismo * is a spanish term which names the improper introduction of french words which are spanish sounding and thus very deceptive to the ear . * galicismo * is often considered to be a * barbarismo * . what would be the term which designates the opposite phenomenon , that is unlawful words of spanish origin which may have crept into french ? can someone provide examples ? thank you joseph m kozono &lt; kozonoj @ gunet . georgetown . edu &gt;</td>\n",
              "      <td>1</td>\n",
              "    </tr>\n",
              "    <tr>\n",
              "      <th>2</th>\n",
              "      <td>2</td>\n",
              "      <td>re : equistar deal tickets are you still available to assist robert with entering the new deal tickets for equistar ? after talking with bryan hull and anita luong , kyle and i decided we only need 1 additional sale ticket and 1 additional buyback ticket set up . - - - - - - - - - - - - - - - - - - - - - - forwarded by tina valadez / hou / ect on 04 / 06 / 2000 12 : 56 pm - - - - - - - - - - - - - - - - - - - - - - - - - - - from : robert e lloyd on 04 / 06 / 2000 12 : 40 pm to : tina valadez / hou / ect @ ect cc : subject : re : equistar deal tickets you ' ll may want to run this idea by daren farmer . i don ' t normally add tickets into sitara . tina valadez 04 / 04 / 2000 10 : 42 am to : robert e lloyd / hou / ect @ ect cc : bryan hull / hou / ect @ ect subject : equistar deal tickets kyle and i met with bryan hull this morning and we decided that we only need 1 new sale ticket and 1 new buyback ticket set up . the time period for both tickets should be july 1999 - forward . the...</td>\n",
              "      <td>1</td>\n",
              "    </tr>\n",
              "    <tr>\n",
              "      <th>3</th>\n",
              "      <td>3</td>\n",
              "      <td>hello i am your hot lil horny toy. i am the one you dream about, i am a very open minded person, love to talk about and any subject. fantasy is my way of life, ultimate in sex play. ummmmmmmmmmmmmm i am wet and ready for you. it is not your looks but your imagination that matters most, with my sexy voice i can make your dream come true... hurry up! call me let me cummmmm for you.......................... toll-free: 1-877-451-teen (1-877-451-8336)for phone billing: 1-900-993-2582 --                                                 sign-up for your own free personalized e-mail at mail.com http://www.mail.com/?sr=signup</td>\n",
              "      <td>0</td>\n",
              "    </tr>\n",
              "    <tr>\n",
              "      <th>4</th>\n",
              "      <td>4</td>\n",
              "      <td>software at incredibly low prices ( 86 % lower ) . drapery seventeen term represent any sing . feet wild break able build . tail , send subtract represent . job cow student inch gave . let still warm , family draw , land book . glass plan include . sentence is , hat silent nothing . order , wild famous long their . inch such , saw , person , save . face , especially sentence science . certain , cry does . two depend yes , written carry .</td>\n",
              "      <td>0</td>\n",
              "    </tr>\n",
              "  </tbody>\n",
              "</table>\n",
              "</div>"
            ],
            "text/plain": [
              "   Unnamed: 0  \\\n",
              "0           0   \n",
              "1           1   \n",
              "2           2   \n",
              "3           3   \n",
              "4           4   \n",
              "\n",
              "                                                                                                                                                                                                                                                                                                                                                                                                                                                                                                                                                                                                                                                                                                                                                                                                                                                                                                                                                                                                                                Email Text  \\\n",
              "0  re : 6 . 1100 , disc : uniformitarianism , re : 1086 ; sex / lang dick hudson 's observations on us use of 's on ' but not 'd aughter ' as a vocative are very thought-provoking , but i am not sure that it is fair to attribute this to \" sons \" being \" treated like senior relatives \" . for one thing , we do n't normally use ' brother ' in this way any more than we do 'd aughter ' , and it is hard to imagine a natural class comprising senior relatives and 's on ' but excluding ' brother ' . for another , there seem to me to be differences here . if i am not imagining a distinction that is not there , it seems to me that the senior relative terms are used in a wider variety of contexts , e . g . , calling out from a distance to get someone 's attention , and hence at the beginning of an utterance , whereas 's on ' seems more natural in utterances like ' yes , son ' , ' hand me that , son ' than in ones like ' son ! ' or ' son , help me ! ' ( although perhaps these latter ones are not c...   \n",
              "1                                                                                                                                                                                                                                                                                                                                                                                                                                                                                                                                          the other side of * galicismos * * galicismo * is a spanish term which names the improper introduction of french words which are spanish sounding and thus very deceptive to the ear . * galicismo * is often considered to be a * barbarismo * . what would be the term which designates the opposite phenomenon , that is unlawful words of spanish origin which may have crept into french ? can someone provide examples ? thank you joseph m kozono < kozonoj @ gunet . georgetown . edu >   \n",
              "2  re : equistar deal tickets are you still available to assist robert with entering the new deal tickets for equistar ? after talking with bryan hull and anita luong , kyle and i decided we only need 1 additional sale ticket and 1 additional buyback ticket set up . - - - - - - - - - - - - - - - - - - - - - - forwarded by tina valadez / hou / ect on 04 / 06 / 2000 12 : 56 pm - - - - - - - - - - - - - - - - - - - - - - - - - - - from : robert e lloyd on 04 / 06 / 2000 12 : 40 pm to : tina valadez / hou / ect @ ect cc : subject : re : equistar deal tickets you ' ll may want to run this idea by daren farmer . i don ' t normally add tickets into sitara . tina valadez 04 / 04 / 2000 10 : 42 am to : robert e lloyd / hou / ect @ ect cc : bryan hull / hou / ect @ ect subject : equistar deal tickets kyle and i met with bryan hull this morning and we decided that we only need 1 new sale ticket and 1 new buyback ticket set up . the time period for both tickets should be july 1999 - forward . the...   \n",
              "3                                                                                                                                                                                                                                                                                                                                                                                          hello i am your hot lil horny toy. i am the one you dream about, i am a very open minded person, love to talk about and any subject. fantasy is my way of life, ultimate in sex play. ummmmmmmmmmmmmm i am wet and ready for you. it is not your looks but your imagination that matters most, with my sexy voice i can make your dream come true... hurry up! call me let me cummmmm for you.......................... toll-free: 1-877-451-teen (1-877-451-8336)for phone billing: 1-900-993-2582 --                                                 sign-up for your own free personalized e-mail at mail.com http://www.mail.com/?sr=signup   \n",
              "4                                                                                                                                                                                                                                                                                                                                                                                                                                                                                                                                                                                software at incredibly low prices ( 86 % lower ) . drapery seventeen term represent any sing . feet wild break able build . tail , send subtract represent . job cow student inch gave . let still warm , family draw , land book . glass plan include . sentence is , hat silent nothing . order , wild famous long their . inch such , saw , person , save . face , especially sentence science . certain , cry does . two depend yes , written carry .   \n",
              "\n",
              "   Email Type  \n",
              "0           1  \n",
              "1           1  \n",
              "2           1  \n",
              "3           0  \n",
              "4           0  "
            ]
          },
          "execution_count": 15,
          "metadata": {},
          "output_type": "execute_result"
        }
      ],
      "source": [
        "#Lowercase\n",
        "phish_df['Email Text'] = phish_df['Email Text'].str.lower()\n",
        "\n",
        "#Convert MIME to text and HTML to text\n",
        "phish_df['Email Text'] = phish_df['Email Text'].astype(str)\n",
        "phish_df['Email Text'] = phish_df['Email Text'].apply(mime_to_text)\n",
        "phish_df['Email Text'] = phish_df['Email Text'].apply(html_to_text)\n",
        "\n",
        "#Remove special whitespace characters\n",
        "phish_df['Email Text'] = phish_df['Email Text'].str.replace(r\"\\s+\", \" \", regex=True)\n",
        "\n",
        "#Trim whitespaces\n",
        "phish_df['Email Text'] = phish_df['Email Text'].str.strip()\n",
        "\n",
        "#Removing all punctuation from MESSAGE column\n",
        "phish_df['Email Text'] = phish_df['Email Text'].str.replace('[^\\w\\s]',' ').str.replace('_', ' ', regex=False)\n",
        "\n",
        "#Display the dataframe\n",
        "pd.set_option('display.max_colwidth', 1000)\n",
        "\n",
        "#Encode the target column 0 for phishing email andc 1 for safe email\n",
        "phish_df['Email Type'] = LabelEncoder().fit_transform(phish_df['Email Type'])\n",
        "\n",
        "phish_df.head()"
      ]
    },
    {
      "cell_type": "markdown",
      "metadata": {
        "id": "__JgYX_5khD8"
      },
      "source": [
        "### 3.2.4 Tokenizing and Encoding"
      ]
    },
    {
      "cell_type": "code",
      "execution_count": 16,
      "metadata": {
        "id": "2lC-tJ8OlJ_y"
      },
      "outputs": [],
      "source": [
        "#Naming the Features column\n",
        "phish_X = phish_df['Email Text']\n",
        "\n",
        "#Naming the target column\n",
        "phish_y = np.array(phish_df['Email Type'])\n",
        "\n",
        "#Encoding the features column\n",
        "vectorizer = TfidfVectorizer(max_features= 30000, stop_words='english')\n",
        "phish_X = vectorizer.fit_transform(phish_X).toarray()\n",
        "\n",
        "#Leaving 10% of the dataset untouched and splitting the rest as a 70%/30% training/testing split\n",
        "phish_X__untouched, phish_X_leftover, phish_y__untouched, phish_y_leftover = train_test_split(phish_X,phish_y,test_size=0.9)\n",
        "phish_X_train, phish_X_test, phish_y_train, phish_y_test = train_test_split(phish_X_leftover,phish_y_leftover,test_size=0.3)"
      ]
    },
    {
      "cell_type": "markdown",
      "metadata": {
        "id": "g_Hw__9DBYKA"
      },
      "source": [
        "# 4 Model Training/Testing"
      ]
    },
    {
      "cell_type": "markdown",
      "metadata": {
        "id": "8HM4GF2yBdop"
      },
      "source": [
        "## 4.1 Spam Model"
      ]
    },
    {
      "cell_type": "markdown",
      "metadata": {
        "id": "mjfe_qzWBwgd"
      },
      "source": [
        "### 4.1.1 Training"
      ]
    },
    {
      "cell_type": "markdown",
      "metadata": {
        "id": "LNh_LX8-qqBX"
      },
      "source": [
        "#### Neural Network Model"
      ]
    },
    {
      "cell_type": "code",
      "execution_count": 17,
      "metadata": {},
      "outputs": [],
      "source": [
        "def create_nn_model(max_sequence_length):\n",
        "    # Define custom initializer function\n",
        "    def custom_initializer(shape, dtype=None):\n",
        "        return tf.random.normal(shape, mean=0.0, stddev=0.1, dtype=dtype)\n",
        "\n",
        "    inputs = tf.keras.Input(shape=(max_sequence_length,))\n",
        "    embedding = tf.keras.layers.Embedding(\n",
        "        input_dim=max_sequence_length,\n",
        "        output_dim=64,\n",
        "        embeddings_initializer=custom_initializer\n",
        "    )(inputs)\n",
        "    flatten = tf.keras.layers.Flatten()(embedding)\n",
        "    outputs = tf.keras.layers.Dense(1, activation='sigmoid')(flatten)\n",
        "\n",
        "    nn_model = tf.keras.Model(inputs=inputs, outputs=outputs)\n",
        "    nn_model.compile(\n",
        "        optimizer='adam',\n",
        "        loss='binary_crossentropy',\n",
        "        metrics=['accuracy']\n",
        "    )\n",
        "    return nn_model"
      ]
    },
    {
      "cell_type": "code",
      "execution_count": 18,
      "metadata": {
        "id": "VmyMSdEKrDUl"
      },
      "outputs": [],
      "source": [
        "#Initialize 4-Fold cross-validation\n",
        "kf = KFold(n_splits=4, shuffle=True, random_state=42)\n",
        "\n",
        "max_sequence_length = 14804\n",
        "nn_model = create_nn_model(max_sequence_length)"
      ]
    },
    {
      "cell_type": "code",
      "execution_count": 19,
      "metadata": {},
      "outputs": [
        {
          "name": "stdout",
          "output_type": "stream",
          "text": [
            "Epoch 1/5\n",
            "\u001b[1m109/109\u001b[0m \u001b[32m━━━━━━━━━━━━━━━━━━━━\u001b[0m\u001b[37m\u001b[0m \u001b[1m11s\u001b[0m 84ms/step - accuracy: 0.6388 - loss: 4.9499 - val_accuracy: 0.9401 - val_loss: 0.1754\n",
            "Epoch 2/5\n",
            "\u001b[1m109/109\u001b[0m \u001b[32m━━━━━━━━━━━━━━━━━━━━\u001b[0m\u001b[37m\u001b[0m \u001b[1m7s\u001b[0m 67ms/step - accuracy: 0.9779 - loss: 0.0932 - val_accuracy: 0.9733 - val_loss: 0.0772\n",
            "Epoch 3/5\n",
            "\u001b[1m109/109\u001b[0m \u001b[32m━━━━━━━━━━━━━━━━━━━━\u001b[0m\u001b[37m\u001b[0m \u001b[1m7s\u001b[0m 67ms/step - accuracy: 0.9957 - loss: 0.0297 - val_accuracy: 0.9832 - val_loss: 0.0548\n",
            "Epoch 4/5\n",
            "\u001b[1m109/109\u001b[0m \u001b[32m━━━━━━━━━━━━━━━━━━━━\u001b[0m\u001b[37m\u001b[0m \u001b[1m7s\u001b[0m 68ms/step - accuracy: 0.9979 - loss: 0.0165 - val_accuracy: 0.9832 - val_loss: 0.0473\n",
            "Epoch 5/5\n",
            "\u001b[1m109/109\u001b[0m \u001b[32m━━━━━━━━━━━━━━━━━━━━\u001b[0m\u001b[37m\u001b[0m \u001b[1m8s\u001b[0m 71ms/step - accuracy: 0.9986 - loss: 0.0100 - val_accuracy: 0.9875 - val_loss: 0.0419\n"
          ]
        },
        {
          "data": {
            "text/plain": [
              "<keras.src.callbacks.history.History at 0x20ce1a5ea50>"
            ]
          },
          "execution_count": 19,
          "metadata": {},
          "output_type": "execute_result"
        }
      ],
      "source": [
        "nn_model.fit(\n",
        "    X_train_padded,\n",
        "    y_train_encoded,\n",
        "    epochs=5,\n",
        "    batch_size=32,\n",
        "    validation_data=(X_test_padded, y_test_encoded)\n",
        ")"
      ]
    },
    {
      "cell_type": "markdown",
      "metadata": {
        "id": "iY5-7mEoGXQJ"
      },
      "source": [
        "#### LightGBM Classifier"
      ]
    },
    {
      "cell_type": "code",
      "execution_count": 20,
      "metadata": {
        "id": "BtVSOIz8Gfc2"
      },
      "outputs": [
        {
          "name": "stdout",
          "output_type": "stream",
          "text": [
            "[LightGBM] [Info] Number of positive: 1221, number of negative: 2430\n",
            "[LightGBM] [Info] Auto-choosing row-wise multi-threading, the overhead of testing was 0.070968 seconds.\n",
            "You can set `force_row_wise=true` to remove the overhead.\n",
            "And if memory is not enough, you can set `force_col_wise=true`.\n",
            "[LightGBM] [Info] Total Bins 81891\n",
            "[LightGBM] [Info] Number of data points in the train set: 3651, number of used features: 3052\n",
            "[LightGBM] [Info] [binary:BoostFromScore]: pavg=0.334429 -> initscore=-0.688221\n",
            "[LightGBM] [Info] Start training from score -0.688221\n"
          ]
        },
        {
          "data": {
            "text/html": [
              "<style>#sk-container-id-1 {\n",
              "  /* Definition of color scheme common for light and dark mode */\n",
              "  --sklearn-color-text: black;\n",
              "  --sklearn-color-line: gray;\n",
              "  /* Definition of color scheme for unfitted estimators */\n",
              "  --sklearn-color-unfitted-level-0: #fff5e6;\n",
              "  --sklearn-color-unfitted-level-1: #f6e4d2;\n",
              "  --sklearn-color-unfitted-level-2: #ffe0b3;\n",
              "  --sklearn-color-unfitted-level-3: chocolate;\n",
              "  /* Definition of color scheme for fitted estimators */\n",
              "  --sklearn-color-fitted-level-0: #f0f8ff;\n",
              "  --sklearn-color-fitted-level-1: #d4ebff;\n",
              "  --sklearn-color-fitted-level-2: #b3dbfd;\n",
              "  --sklearn-color-fitted-level-3: cornflowerblue;\n",
              "\n",
              "  /* Specific color for light theme */\n",
              "  --sklearn-color-text-on-default-background: var(--sg-text-color, var(--theme-code-foreground, var(--jp-content-font-color1, black)));\n",
              "  --sklearn-color-background: var(--sg-background-color, var(--theme-background, var(--jp-layout-color0, white)));\n",
              "  --sklearn-color-border-box: var(--sg-text-color, var(--theme-code-foreground, var(--jp-content-font-color1, black)));\n",
              "  --sklearn-color-icon: #696969;\n",
              "\n",
              "  @media (prefers-color-scheme: dark) {\n",
              "    /* Redefinition of color scheme for dark theme */\n",
              "    --sklearn-color-text-on-default-background: var(--sg-text-color, var(--theme-code-foreground, var(--jp-content-font-color1, white)));\n",
              "    --sklearn-color-background: var(--sg-background-color, var(--theme-background, var(--jp-layout-color0, #111)));\n",
              "    --sklearn-color-border-box: var(--sg-text-color, var(--theme-code-foreground, var(--jp-content-font-color1, white)));\n",
              "    --sklearn-color-icon: #878787;\n",
              "  }\n",
              "}\n",
              "\n",
              "#sk-container-id-1 {\n",
              "  color: var(--sklearn-color-text);\n",
              "}\n",
              "\n",
              "#sk-container-id-1 pre {\n",
              "  padding: 0;\n",
              "}\n",
              "\n",
              "#sk-container-id-1 input.sk-hidden--visually {\n",
              "  border: 0;\n",
              "  clip: rect(1px 1px 1px 1px);\n",
              "  clip: rect(1px, 1px, 1px, 1px);\n",
              "  height: 1px;\n",
              "  margin: -1px;\n",
              "  overflow: hidden;\n",
              "  padding: 0;\n",
              "  position: absolute;\n",
              "  width: 1px;\n",
              "}\n",
              "\n",
              "#sk-container-id-1 div.sk-dashed-wrapped {\n",
              "  border: 1px dashed var(--sklearn-color-line);\n",
              "  margin: 0 0.4em 0.5em 0.4em;\n",
              "  box-sizing: border-box;\n",
              "  padding-bottom: 0.4em;\n",
              "  background-color: var(--sklearn-color-background);\n",
              "}\n",
              "\n",
              "#sk-container-id-1 div.sk-container {\n",
              "  /* jupyter's `normalize.less` sets `[hidden] { display: none; }`\n",
              "     but bootstrap.min.css set `[hidden] { display: none !important; }`\n",
              "     so we also need the `!important` here to be able to override the\n",
              "     default hidden behavior on the sphinx rendered scikit-learn.org.\n",
              "     See: https://github.com/scikit-learn/scikit-learn/issues/21755 */\n",
              "  display: inline-block !important;\n",
              "  position: relative;\n",
              "}\n",
              "\n",
              "#sk-container-id-1 div.sk-text-repr-fallback {\n",
              "  display: none;\n",
              "}\n",
              "\n",
              "div.sk-parallel-item,\n",
              "div.sk-serial,\n",
              "div.sk-item {\n",
              "  /* draw centered vertical line to link estimators */\n",
              "  background-image: linear-gradient(var(--sklearn-color-text-on-default-background), var(--sklearn-color-text-on-default-background));\n",
              "  background-size: 2px 100%;\n",
              "  background-repeat: no-repeat;\n",
              "  background-position: center center;\n",
              "}\n",
              "\n",
              "/* Parallel-specific style estimator block */\n",
              "\n",
              "#sk-container-id-1 div.sk-parallel-item::after {\n",
              "  content: \"\";\n",
              "  width: 100%;\n",
              "  border-bottom: 2px solid var(--sklearn-color-text-on-default-background);\n",
              "  flex-grow: 1;\n",
              "}\n",
              "\n",
              "#sk-container-id-1 div.sk-parallel {\n",
              "  display: flex;\n",
              "  align-items: stretch;\n",
              "  justify-content: center;\n",
              "  background-color: var(--sklearn-color-background);\n",
              "  position: relative;\n",
              "}\n",
              "\n",
              "#sk-container-id-1 div.sk-parallel-item {\n",
              "  display: flex;\n",
              "  flex-direction: column;\n",
              "}\n",
              "\n",
              "#sk-container-id-1 div.sk-parallel-item:first-child::after {\n",
              "  align-self: flex-end;\n",
              "  width: 50%;\n",
              "}\n",
              "\n",
              "#sk-container-id-1 div.sk-parallel-item:last-child::after {\n",
              "  align-self: flex-start;\n",
              "  width: 50%;\n",
              "}\n",
              "\n",
              "#sk-container-id-1 div.sk-parallel-item:only-child::after {\n",
              "  width: 0;\n",
              "}\n",
              "\n",
              "/* Serial-specific style estimator block */\n",
              "\n",
              "#sk-container-id-1 div.sk-serial {\n",
              "  display: flex;\n",
              "  flex-direction: column;\n",
              "  align-items: center;\n",
              "  background-color: var(--sklearn-color-background);\n",
              "  padding-right: 1em;\n",
              "  padding-left: 1em;\n",
              "}\n",
              "\n",
              "\n",
              "/* Toggleable style: style used for estimator/Pipeline/ColumnTransformer box that is\n",
              "clickable and can be expanded/collapsed.\n",
              "- Pipeline and ColumnTransformer use this feature and define the default style\n",
              "- Estimators will overwrite some part of the style using the `sk-estimator` class\n",
              "*/\n",
              "\n",
              "/* Pipeline and ColumnTransformer style (default) */\n",
              "\n",
              "#sk-container-id-1 div.sk-toggleable {\n",
              "  /* Default theme specific background. It is overwritten whether we have a\n",
              "  specific estimator or a Pipeline/ColumnTransformer */\n",
              "  background-color: var(--sklearn-color-background);\n",
              "}\n",
              "\n",
              "/* Toggleable label */\n",
              "#sk-container-id-1 label.sk-toggleable__label {\n",
              "  cursor: pointer;\n",
              "  display: block;\n",
              "  width: 100%;\n",
              "  margin-bottom: 0;\n",
              "  padding: 0.5em;\n",
              "  box-sizing: border-box;\n",
              "  text-align: center;\n",
              "}\n",
              "\n",
              "#sk-container-id-1 label.sk-toggleable__label-arrow:before {\n",
              "  /* Arrow on the left of the label */\n",
              "  content: \"▸\";\n",
              "  float: left;\n",
              "  margin-right: 0.25em;\n",
              "  color: var(--sklearn-color-icon);\n",
              "}\n",
              "\n",
              "#sk-container-id-1 label.sk-toggleable__label-arrow:hover:before {\n",
              "  color: var(--sklearn-color-text);\n",
              "}\n",
              "\n",
              "/* Toggleable content - dropdown */\n",
              "\n",
              "#sk-container-id-1 div.sk-toggleable__content {\n",
              "  max-height: 0;\n",
              "  max-width: 0;\n",
              "  overflow: hidden;\n",
              "  text-align: left;\n",
              "  /* unfitted */\n",
              "  background-color: var(--sklearn-color-unfitted-level-0);\n",
              "}\n",
              "\n",
              "#sk-container-id-1 div.sk-toggleable__content.fitted {\n",
              "  /* fitted */\n",
              "  background-color: var(--sklearn-color-fitted-level-0);\n",
              "}\n",
              "\n",
              "#sk-container-id-1 div.sk-toggleable__content pre {\n",
              "  margin: 0.2em;\n",
              "  border-radius: 0.25em;\n",
              "  color: var(--sklearn-color-text);\n",
              "  /* unfitted */\n",
              "  background-color: var(--sklearn-color-unfitted-level-0);\n",
              "}\n",
              "\n",
              "#sk-container-id-1 div.sk-toggleable__content.fitted pre {\n",
              "  /* unfitted */\n",
              "  background-color: var(--sklearn-color-fitted-level-0);\n",
              "}\n",
              "\n",
              "#sk-container-id-1 input.sk-toggleable__control:checked~div.sk-toggleable__content {\n",
              "  /* Expand drop-down */\n",
              "  max-height: 200px;\n",
              "  max-width: 100%;\n",
              "  overflow: auto;\n",
              "}\n",
              "\n",
              "#sk-container-id-1 input.sk-toggleable__control:checked~label.sk-toggleable__label-arrow:before {\n",
              "  content: \"▾\";\n",
              "}\n",
              "\n",
              "/* Pipeline/ColumnTransformer-specific style */\n",
              "\n",
              "#sk-container-id-1 div.sk-label input.sk-toggleable__control:checked~label.sk-toggleable__label {\n",
              "  color: var(--sklearn-color-text);\n",
              "  background-color: var(--sklearn-color-unfitted-level-2);\n",
              "}\n",
              "\n",
              "#sk-container-id-1 div.sk-label.fitted input.sk-toggleable__control:checked~label.sk-toggleable__label {\n",
              "  background-color: var(--sklearn-color-fitted-level-2);\n",
              "}\n",
              "\n",
              "/* Estimator-specific style */\n",
              "\n",
              "/* Colorize estimator box */\n",
              "#sk-container-id-1 div.sk-estimator input.sk-toggleable__control:checked~label.sk-toggleable__label {\n",
              "  /* unfitted */\n",
              "  background-color: var(--sklearn-color-unfitted-level-2);\n",
              "}\n",
              "\n",
              "#sk-container-id-1 div.sk-estimator.fitted input.sk-toggleable__control:checked~label.sk-toggleable__label {\n",
              "  /* fitted */\n",
              "  background-color: var(--sklearn-color-fitted-level-2);\n",
              "}\n",
              "\n",
              "#sk-container-id-1 div.sk-label label.sk-toggleable__label,\n",
              "#sk-container-id-1 div.sk-label label {\n",
              "  /* The background is the default theme color */\n",
              "  color: var(--sklearn-color-text-on-default-background);\n",
              "}\n",
              "\n",
              "/* On hover, darken the color of the background */\n",
              "#sk-container-id-1 div.sk-label:hover label.sk-toggleable__label {\n",
              "  color: var(--sklearn-color-text);\n",
              "  background-color: var(--sklearn-color-unfitted-level-2);\n",
              "}\n",
              "\n",
              "/* Label box, darken color on hover, fitted */\n",
              "#sk-container-id-1 div.sk-label.fitted:hover label.sk-toggleable__label.fitted {\n",
              "  color: var(--sklearn-color-text);\n",
              "  background-color: var(--sklearn-color-fitted-level-2);\n",
              "}\n",
              "\n",
              "/* Estimator label */\n",
              "\n",
              "#sk-container-id-1 div.sk-label label {\n",
              "  font-family: monospace;\n",
              "  font-weight: bold;\n",
              "  display: inline-block;\n",
              "  line-height: 1.2em;\n",
              "}\n",
              "\n",
              "#sk-container-id-1 div.sk-label-container {\n",
              "  text-align: center;\n",
              "}\n",
              "\n",
              "/* Estimator-specific */\n",
              "#sk-container-id-1 div.sk-estimator {\n",
              "  font-family: monospace;\n",
              "  border: 1px dotted var(--sklearn-color-border-box);\n",
              "  border-radius: 0.25em;\n",
              "  box-sizing: border-box;\n",
              "  margin-bottom: 0.5em;\n",
              "  /* unfitted */\n",
              "  background-color: var(--sklearn-color-unfitted-level-0);\n",
              "}\n",
              "\n",
              "#sk-container-id-1 div.sk-estimator.fitted {\n",
              "  /* fitted */\n",
              "  background-color: var(--sklearn-color-fitted-level-0);\n",
              "}\n",
              "\n",
              "/* on hover */\n",
              "#sk-container-id-1 div.sk-estimator:hover {\n",
              "  /* unfitted */\n",
              "  background-color: var(--sklearn-color-unfitted-level-2);\n",
              "}\n",
              "\n",
              "#sk-container-id-1 div.sk-estimator.fitted:hover {\n",
              "  /* fitted */\n",
              "  background-color: var(--sklearn-color-fitted-level-2);\n",
              "}\n",
              "\n",
              "/* Specification for estimator info (e.g. \"i\" and \"?\") */\n",
              "\n",
              "/* Common style for \"i\" and \"?\" */\n",
              "\n",
              ".sk-estimator-doc-link,\n",
              "a:link.sk-estimator-doc-link,\n",
              "a:visited.sk-estimator-doc-link {\n",
              "  float: right;\n",
              "  font-size: smaller;\n",
              "  line-height: 1em;\n",
              "  font-family: monospace;\n",
              "  background-color: var(--sklearn-color-background);\n",
              "  border-radius: 1em;\n",
              "  height: 1em;\n",
              "  width: 1em;\n",
              "  text-decoration: none !important;\n",
              "  margin-left: 1ex;\n",
              "  /* unfitted */\n",
              "  border: var(--sklearn-color-unfitted-level-1) 1pt solid;\n",
              "  color: var(--sklearn-color-unfitted-level-1);\n",
              "}\n",
              "\n",
              ".sk-estimator-doc-link.fitted,\n",
              "a:link.sk-estimator-doc-link.fitted,\n",
              "a:visited.sk-estimator-doc-link.fitted {\n",
              "  /* fitted */\n",
              "  border: var(--sklearn-color-fitted-level-1) 1pt solid;\n",
              "  color: var(--sklearn-color-fitted-level-1);\n",
              "}\n",
              "\n",
              "/* On hover */\n",
              "div.sk-estimator:hover .sk-estimator-doc-link:hover,\n",
              ".sk-estimator-doc-link:hover,\n",
              "div.sk-label-container:hover .sk-estimator-doc-link:hover,\n",
              ".sk-estimator-doc-link:hover {\n",
              "  /* unfitted */\n",
              "  background-color: var(--sklearn-color-unfitted-level-3);\n",
              "  color: var(--sklearn-color-background);\n",
              "  text-decoration: none;\n",
              "}\n",
              "\n",
              "div.sk-estimator.fitted:hover .sk-estimator-doc-link.fitted:hover,\n",
              ".sk-estimator-doc-link.fitted:hover,\n",
              "div.sk-label-container:hover .sk-estimator-doc-link.fitted:hover,\n",
              ".sk-estimator-doc-link.fitted:hover {\n",
              "  /* fitted */\n",
              "  background-color: var(--sklearn-color-fitted-level-3);\n",
              "  color: var(--sklearn-color-background);\n",
              "  text-decoration: none;\n",
              "}\n",
              "\n",
              "/* Span, style for the box shown on hovering the info icon */\n",
              ".sk-estimator-doc-link span {\n",
              "  display: none;\n",
              "  z-index: 9999;\n",
              "  position: relative;\n",
              "  font-weight: normal;\n",
              "  right: .2ex;\n",
              "  padding: .5ex;\n",
              "  margin: .5ex;\n",
              "  width: min-content;\n",
              "  min-width: 20ex;\n",
              "  max-width: 50ex;\n",
              "  color: var(--sklearn-color-text);\n",
              "  box-shadow: 2pt 2pt 4pt #999;\n",
              "  /* unfitted */\n",
              "  background: var(--sklearn-color-unfitted-level-0);\n",
              "  border: .5pt solid var(--sklearn-color-unfitted-level-3);\n",
              "}\n",
              "\n",
              ".sk-estimator-doc-link.fitted span {\n",
              "  /* fitted */\n",
              "  background: var(--sklearn-color-fitted-level-0);\n",
              "  border: var(--sklearn-color-fitted-level-3);\n",
              "}\n",
              "\n",
              ".sk-estimator-doc-link:hover span {\n",
              "  display: block;\n",
              "}\n",
              "\n",
              "/* \"?\"-specific style due to the `<a>` HTML tag */\n",
              "\n",
              "#sk-container-id-1 a.estimator_doc_link {\n",
              "  float: right;\n",
              "  font-size: 1rem;\n",
              "  line-height: 1em;\n",
              "  font-family: monospace;\n",
              "  background-color: var(--sklearn-color-background);\n",
              "  border-radius: 1rem;\n",
              "  height: 1rem;\n",
              "  width: 1rem;\n",
              "  text-decoration: none;\n",
              "  /* unfitted */\n",
              "  color: var(--sklearn-color-unfitted-level-1);\n",
              "  border: var(--sklearn-color-unfitted-level-1) 1pt solid;\n",
              "}\n",
              "\n",
              "#sk-container-id-1 a.estimator_doc_link.fitted {\n",
              "  /* fitted */\n",
              "  border: var(--sklearn-color-fitted-level-1) 1pt solid;\n",
              "  color: var(--sklearn-color-fitted-level-1);\n",
              "}\n",
              "\n",
              "/* On hover */\n",
              "#sk-container-id-1 a.estimator_doc_link:hover {\n",
              "  /* unfitted */\n",
              "  background-color: var(--sklearn-color-unfitted-level-3);\n",
              "  color: var(--sklearn-color-background);\n",
              "  text-decoration: none;\n",
              "}\n",
              "\n",
              "#sk-container-id-1 a.estimator_doc_link.fitted:hover {\n",
              "  /* fitted */\n",
              "  background-color: var(--sklearn-color-fitted-level-3);\n",
              "}\n",
              "</style><div id=\"sk-container-id-1\" class=\"sk-top-container\"><div class=\"sk-text-repr-fallback\"><pre>LGBMClassifier()</pre><b>In a Jupyter environment, please rerun this cell to show the HTML representation or trust the notebook. <br />On GitHub, the HTML representation is unable to render, please try loading this page with nbviewer.org.</b></div><div class=\"sk-container\" hidden><div class=\"sk-item\"><div class=\"sk-estimator fitted sk-toggleable\"><input class=\"sk-toggleable__control sk-hidden--visually\" id=\"sk-estimator-id-1\" type=\"checkbox\" checked><label for=\"sk-estimator-id-1\" class=\"sk-toggleable__label fitted sk-toggleable__label-arrow fitted\">&nbsp;LGBMClassifier<span class=\"sk-estimator-doc-link fitted\">i<span>Fitted</span></span></label><div class=\"sk-toggleable__content fitted\"><pre>LGBMClassifier()</pre></div> </div></div></div></div>"
            ],
            "text/plain": [
              "LGBMClassifier()"
            ]
          },
          "execution_count": 20,
          "metadata": {},
          "output_type": "execute_result"
        }
      ],
      "source": [
        "lgbm_model = lgb.LGBMClassifier()\n",
        "lgbm_model.fit(spam_X_train, spam_y_train)"
      ]
    },
    {
      "cell_type": "markdown",
      "metadata": {
        "id": "NDe-wdhxBtrJ"
      },
      "source": [
        "### 4.1.2 Testing"
      ]
    },
    {
      "cell_type": "markdown",
      "metadata": {
        "id": "VhJcWHvXGH0h"
      },
      "source": [
        "#### Neural Network Model"
      ]
    },
    {
      "cell_type": "code",
      "execution_count": 21,
      "metadata": {
        "id": "0jPb0DHZT2Q4"
      },
      "outputs": [
        {
          "name": "stdout",
          "output_type": "stream",
          "text": [
            "\u001b[1m73/73\u001b[0m \u001b[32m━━━━━━━━━━━━━━━━━━━━\u001b[0m\u001b[37m\u001b[0m \u001b[1m1s\u001b[0m 14ms/step\n"
          ]
        }
      ],
      "source": [
        "# Predictions from neural network model\n",
        "nn_predict = nn_model.predict(X_test_padded)\n",
        "nn_predict_binary = (nn_predict > 0.5).astype(\"int32\")  # Converting probabilities to binary predictions"
      ]
    },
    {
      "cell_type": "code",
      "execution_count": 22,
      "metadata": {
        "id": "IZLXIutXyLcP"
      },
      "outputs": [
        {
          "name": "stdout",
          "output_type": "stream",
          "text": [
            "Accuracy from neural network model: 98.75 %\n",
            "F1 score from neural network model: 98.19 % \n",
            "\n",
            "Classification report : \n",
            "               precision    recall  f1-score   support\n",
            "\n",
            "           0       0.99      0.99      0.99      1513\n",
            "           1       0.99      0.98      0.98       806\n",
            "\n",
            "    accuracy                           0.99      2319\n",
            "   macro avg       0.99      0.99      0.99      2319\n",
            "weighted avg       0.99      0.99      0.99      2319\n",
            "\n"
          ]
        },
        {
          "data": {
            "image/png": "[encoded data removed]",
            "text/plain": [
              "<Figure size 640x480 with 2 Axes>"
            ]
          },
          "metadata": {},
          "output_type": "display_data"
        }
      ],
      "source": [
        "# Output model statistics\n",
        "print(f\"Accuracy from neural network model: {accuracy_score(y_test_encoded, nn_predict_binary)*100:.2f} %\")\n",
        "print(f\"F1 score from neural network model: {f1_score(y_test_encoded, nn_predict_binary)*100:.2f} % \\n\")\n",
        "print(\"Classification report : \\n\", classification_report(y_test_encoded, nn_predict_binary))\n",
        "\n",
        "# Creating confusion matrix for neural network model\n",
        "nn_cm = confusion_matrix(y_test_encoded, nn_predict_binary)\n",
        "nn_cmd = ConfusionMatrixDisplay(nn_cm, display_labels=['Not Phishing', 'Phishing'])\n",
        "nn_cmd.plot(cmap='YlOrRd')\n",
        "plt.title('Neural Network Confusion Matrix')\n",
        "plt.xlabel('Predicted Labels')\n",
        "plt.ylabel('True Labels')\n",
        "plt.show()"
      ]
    },
    {
      "cell_type": "markdown",
      "metadata": {
        "id": "JojgI4H9F22M"
      },
      "source": [
        "#### LightGBM Classifier"
      ]
    },
    {
      "cell_type": "code",
      "execution_count": 23,
      "metadata": {
        "id": "3_0CflQcF13i"
      },
      "outputs": [
        {
          "name": "stdout",
          "output_type": "stream",
          "text": [
            "Accuracy from LightGBM classifier: 98.15 %\n",
            "F1 score from LightGBM classifier: 96.99 % \n",
            "\n",
            "Classification report : \n",
            "               precision    recall  f1-score   support\n",
            "\n",
            "           0       0.98      0.99      0.99      1082\n",
            "           1       0.97      0.96      0.97       484\n",
            "\n",
            "    accuracy                           0.98      1566\n",
            "   macro avg       0.98      0.98      0.98      1566\n",
            "weighted avg       0.98      0.98      0.98      1566\n",
            "\n"
          ]
        },
        {
          "data": {
            "text/plain": [
              "Text(0, 0.5, 'True Labels')"
            ]
          },
          "execution_count": 23,
          "metadata": {},
          "output_type": "execute_result"
        },
        {
          "data": {
            "image/png": "[encoded data removed]",
            "text/plain": [
              "<Figure size 640x480 with 2 Axes>"
            ]
          },
          "metadata": {},
          "output_type": "display_data"
        }
      ],
      "source": [
        "# Make predictions\n",
        "lgbm_predict = lgbm_model.predict(spam_X_test)\n",
        "\n",
        "# Output model statistics\n",
        "print(f\"Accuracy from LightGBM classifier: {accuracy_score(spam_y_test, lgbm_predict)*100:.2f} %\")\n",
        "print(f\"F1 score from LightGBM classifier: {f1_score(spam_y_test, lgbm_predict)*100:.2f} % \\n\")\n",
        "print(\"Classification report : \\n\", classification_report(spam_y_test, lgbm_predict))\n",
        "\n",
        "# Creating confusion matrix for LightGBM classifier\n",
        "lgbm_cm = confusion_matrix(spam_y_test, lgbm_predict)\n",
        "lgbm_cmd = ConfusionMatrixDisplay(lgbm_cm, display_labels=['Not Phishing', 'Phishing'])\n",
        "lgbm_cmd.plot(cmap='YlOrRd')\n",
        "plt.title('LightGBM Classifier Confusion Matrix')\n",
        "plt.xlabel('Predicted Labels')\n",
        "plt.ylabel('True Labels')"
      ]
    },
    {
      "cell_type": "markdown",
      "metadata": {
        "id": "yMRzdJZ9BhCd"
      },
      "source": [
        "## 4.2 Phishing Model"
      ]
    },
    {
      "cell_type": "markdown",
      "metadata": {
        "id": "aZIKO_aiB0mS"
      },
      "source": [
        "### 4.2.1 Training"
      ]
    },
    {
      "cell_type": "markdown",
      "metadata": {
        "id": "yO5jOn7cU4g2"
      },
      "source": [
        "#### Logistic Regression"
      ]
    },
    {
      "cell_type": "code",
      "execution_count": 24,
      "metadata": {
        "id": "-JqbMeazVZ-w"
      },
      "outputs": [
        {
          "data": {
            "text/html": [
              "<style>#sk-container-id-2 {\n",
              "  /* Definition of color scheme common for light and dark mode */\n",
              "  --sklearn-color-text: black;\n",
              "  --sklearn-color-line: gray;\n",
              "  /* Definition of color scheme for unfitted estimators */\n",
              "  --sklearn-color-unfitted-level-0: #fff5e6;\n",
              "  --sklearn-color-unfitted-level-1: #f6e4d2;\n",
              "  --sklearn-color-unfitted-level-2: #ffe0b3;\n",
              "  --sklearn-color-unfitted-level-3: chocolate;\n",
              "  /* Definition of color scheme for fitted estimators */\n",
              "  --sklearn-color-fitted-level-0: #f0f8ff;\n",
              "  --sklearn-color-fitted-level-1: #d4ebff;\n",
              "  --sklearn-color-fitted-level-2: #b3dbfd;\n",
              "  --sklearn-color-fitted-level-3: cornflowerblue;\n",
              "\n",
              "  /* Specific color for light theme */\n",
              "  --sklearn-color-text-on-default-background: var(--sg-text-color, var(--theme-code-foreground, var(--jp-content-font-color1, black)));\n",
              "  --sklearn-color-background: var(--sg-background-color, var(--theme-background, var(--jp-layout-color0, white)));\n",
              "  --sklearn-color-border-box: var(--sg-text-color, var(--theme-code-foreground, var(--jp-content-font-color1, black)));\n",
              "  --sklearn-color-icon: #696969;\n",
              "\n",
              "  @media (prefers-color-scheme: dark) {\n",
              "    /* Redefinition of color scheme for dark theme */\n",
              "    --sklearn-color-text-on-default-background: var(--sg-text-color, var(--theme-code-foreground, var(--jp-content-font-color1, white)));\n",
              "    --sklearn-color-background: var(--sg-background-color, var(--theme-background, var(--jp-layout-color0, #111)));\n",
              "    --sklearn-color-border-box: var(--sg-text-color, var(--theme-code-foreground, var(--jp-content-font-color1, white)));\n",
              "    --sklearn-color-icon: #878787;\n",
              "  }\n",
              "}\n",
              "\n",
              "#sk-container-id-2 {\n",
              "  color: var(--sklearn-color-text);\n",
              "}\n",
              "\n",
              "#sk-container-id-2 pre {\n",
              "  padding: 0;\n",
              "}\n",
              "\n",
              "#sk-container-id-2 input.sk-hidden--visually {\n",
              "  border: 0;\n",
              "  clip: rect(1px 1px 1px 1px);\n",
              "  clip: rect(1px, 1px, 1px, 1px);\n",
              "  height: 1px;\n",
              "  margin: -1px;\n",
              "  overflow: hidden;\n",
              "  padding: 0;\n",
              "  position: absolute;\n",
              "  width: 1px;\n",
              "}\n",
              "\n",
              "#sk-container-id-2 div.sk-dashed-wrapped {\n",
              "  border: 1px dashed var(--sklearn-color-line);\n",
              "  margin: 0 0.4em 0.5em 0.4em;\n",
              "  box-sizing: border-box;\n",
              "  padding-bottom: 0.4em;\n",
              "  background-color: var(--sklearn-color-background);\n",
              "}\n",
              "\n",
              "#sk-container-id-2 div.sk-container {\n",
              "  /* jupyter's `normalize.less` sets `[hidden] { display: none; }`\n",
              "     but bootstrap.min.css set `[hidden] { display: none !important; }`\n",
              "     so we also need the `!important` here to be able to override the\n",
              "     default hidden behavior on the sphinx rendered scikit-learn.org.\n",
              "     See: https://github.com/scikit-learn/scikit-learn/issues/21755 */\n",
              "  display: inline-block !important;\n",
              "  position: relative;\n",
              "}\n",
              "\n",
              "#sk-container-id-2 div.sk-text-repr-fallback {\n",
              "  display: none;\n",
              "}\n",
              "\n",
              "div.sk-parallel-item,\n",
              "div.sk-serial,\n",
              "div.sk-item {\n",
              "  /* draw centered vertical line to link estimators */\n",
              "  background-image: linear-gradient(var(--sklearn-color-text-on-default-background), var(--sklearn-color-text-on-default-background));\n",
              "  background-size: 2px 100%;\n",
              "  background-repeat: no-repeat;\n",
              "  background-position: center center;\n",
              "}\n",
              "\n",
              "/* Parallel-specific style estimator block */\n",
              "\n",
              "#sk-container-id-2 div.sk-parallel-item::after {\n",
              "  content: \"\";\n",
              "  width: 100%;\n",
              "  border-bottom: 2px solid var(--sklearn-color-text-on-default-background);\n",
              "  flex-grow: 1;\n",
              "}\n",
              "\n",
              "#sk-container-id-2 div.sk-parallel {\n",
              "  display: flex;\n",
              "  align-items: stretch;\n",
              "  justify-content: center;\n",
              "  background-color: var(--sklearn-color-background);\n",
              "  position: relative;\n",
              "}\n",
              "\n",
              "#sk-container-id-2 div.sk-parallel-item {\n",
              "  display: flex;\n",
              "  flex-direction: column;\n",
              "}\n",
              "\n",
              "#sk-container-id-2 div.sk-parallel-item:first-child::after {\n",
              "  align-self: flex-end;\n",
              "  width: 50%;\n",
              "}\n",
              "\n",
              "#sk-container-id-2 div.sk-parallel-item:last-child::after {\n",
              "  align-self: flex-start;\n",
              "  width: 50%;\n",
              "}\n",
              "\n",
              "#sk-container-id-2 div.sk-parallel-item:only-child::after {\n",
              "  width: 0;\n",
              "}\n",
              "\n",
              "/* Serial-specific style estimator block */\n",
              "\n",
              "#sk-container-id-2 div.sk-serial {\n",
              "  display: flex;\n",
              "  flex-direction: column;\n",
              "  align-items: center;\n",
              "  background-color: var(--sklearn-color-background);\n",
              "  padding-right: 1em;\n",
              "  padding-left: 1em;\n",
              "}\n",
              "\n",
              "\n",
              "/* Toggleable style: style used for estimator/Pipeline/ColumnTransformer box that is\n",
              "clickable and can be expanded/collapsed.\n",
              "- Pipeline and ColumnTransformer use this feature and define the default style\n",
              "- Estimators will overwrite some part of the style using the `sk-estimator` class\n",
              "*/\n",
              "\n",
              "/* Pipeline and ColumnTransformer style (default) */\n",
              "\n",
              "#sk-container-id-2 div.sk-toggleable {\n",
              "  /* Default theme specific background. It is overwritten whether we have a\n",
              "  specific estimator or a Pipeline/ColumnTransformer */\n",
              "  background-color: var(--sklearn-color-background);\n",
              "}\n",
              "\n",
              "/* Toggleable label */\n",
              "#sk-container-id-2 label.sk-toggleable__label {\n",
              "  cursor: pointer;\n",
              "  display: block;\n",
              "  width: 100%;\n",
              "  margin-bottom: 0;\n",
              "  padding: 0.5em;\n",
              "  box-sizing: border-box;\n",
              "  text-align: center;\n",
              "}\n",
              "\n",
              "#sk-container-id-2 label.sk-toggleable__label-arrow:before {\n",
              "  /* Arrow on the left of the label */\n",
              "  content: \"▸\";\n",
              "  float: left;\n",
              "  margin-right: 0.25em;\n",
              "  color: var(--sklearn-color-icon);\n",
              "}\n",
              "\n",
              "#sk-container-id-2 label.sk-toggleable__label-arrow:hover:before {\n",
              "  color: var(--sklearn-color-text);\n",
              "}\n",
              "\n",
              "/* Toggleable content - dropdown */\n",
              "\n",
              "#sk-container-id-2 div.sk-toggleable__content {\n",
              "  max-height: 0;\n",
              "  max-width: 0;\n",
              "  overflow: hidden;\n",
              "  text-align: left;\n",
              "  /* unfitted */\n",
              "  background-color: var(--sklearn-color-unfitted-level-0);\n",
              "}\n",
              "\n",
              "#sk-container-id-2 div.sk-toggleable__content.fitted {\n",
              "  /* fitted */\n",
              "  background-color: var(--sklearn-color-fitted-level-0);\n",
              "}\n",
              "\n",
              "#sk-container-id-2 div.sk-toggleable__content pre {\n",
              "  margin: 0.2em;\n",
              "  border-radius: 0.25em;\n",
              "  color: var(--sklearn-color-text);\n",
              "  /* unfitted */\n",
              "  background-color: var(--sklearn-color-unfitted-level-0);\n",
              "}\n",
              "\n",
              "#sk-container-id-2 div.sk-toggleable__content.fitted pre {\n",
              "  /* unfitted */\n",
              "  background-color: var(--sklearn-color-fitted-level-0);\n",
              "}\n",
              "\n",
              "#sk-container-id-2 input.sk-toggleable__control:checked~div.sk-toggleable__content {\n",
              "  /* Expand drop-down */\n",
              "  max-height: 200px;\n",
              "  max-width: 100%;\n",
              "  overflow: auto;\n",
              "}\n",
              "\n",
              "#sk-container-id-2 input.sk-toggleable__control:checked~label.sk-toggleable__label-arrow:before {\n",
              "  content: \"▾\";\n",
              "}\n",
              "\n",
              "/* Pipeline/ColumnTransformer-specific style */\n",
              "\n",
              "#sk-container-id-2 div.sk-label input.sk-toggleable__control:checked~label.sk-toggleable__label {\n",
              "  color: var(--sklearn-color-text);\n",
              "  background-color: var(--sklearn-color-unfitted-level-2);\n",
              "}\n",
              "\n",
              "#sk-container-id-2 div.sk-label.fitted input.sk-toggleable__control:checked~label.sk-toggleable__label {\n",
              "  background-color: var(--sklearn-color-fitted-level-2);\n",
              "}\n",
              "\n",
              "/* Estimator-specific style */\n",
              "\n",
              "/* Colorize estimator box */\n",
              "#sk-container-id-2 div.sk-estimator input.sk-toggleable__control:checked~label.sk-toggleable__label {\n",
              "  /* unfitted */\n",
              "  background-color: var(--sklearn-color-unfitted-level-2);\n",
              "}\n",
              "\n",
              "#sk-container-id-2 div.sk-estimator.fitted input.sk-toggleable__control:checked~label.sk-toggleable__label {\n",
              "  /* fitted */\n",
              "  background-color: var(--sklearn-color-fitted-level-2);\n",
              "}\n",
              "\n",
              "#sk-container-id-2 div.sk-label label.sk-toggleable__label,\n",
              "#sk-container-id-2 div.sk-label label {\n",
              "  /* The background is the default theme color */\n",
              "  color: var(--sklearn-color-text-on-default-background);\n",
              "}\n",
              "\n",
              "/* On hover, darken the color of the background */\n",
              "#sk-container-id-2 div.sk-label:hover label.sk-toggleable__label {\n",
              "  color: var(--sklearn-color-text);\n",
              "  background-color: var(--sklearn-color-unfitted-level-2);\n",
              "}\n",
              "\n",
              "/* Label box, darken color on hover, fitted */\n",
              "#sk-container-id-2 div.sk-label.fitted:hover label.sk-toggleable__label.fitted {\n",
              "  color: var(--sklearn-color-text);\n",
              "  background-color: var(--sklearn-color-fitted-level-2);\n",
              "}\n",
              "\n",
              "/* Estimator label */\n",
              "\n",
              "#sk-container-id-2 div.sk-label label {\n",
              "  font-family: monospace;\n",
              "  font-weight: bold;\n",
              "  display: inline-block;\n",
              "  line-height: 1.2em;\n",
              "}\n",
              "\n",
              "#sk-container-id-2 div.sk-label-container {\n",
              "  text-align: center;\n",
              "}\n",
              "\n",
              "/* Estimator-specific */\n",
              "#sk-container-id-2 div.sk-estimator {\n",
              "  font-family: monospace;\n",
              "  border: 1px dotted var(--sklearn-color-border-box);\n",
              "  border-radius: 0.25em;\n",
              "  box-sizing: border-box;\n",
              "  margin-bottom: 0.5em;\n",
              "  /* unfitted */\n",
              "  background-color: var(--sklearn-color-unfitted-level-0);\n",
              "}\n",
              "\n",
              "#sk-container-id-2 div.sk-estimator.fitted {\n",
              "  /* fitted */\n",
              "  background-color: var(--sklearn-color-fitted-level-0);\n",
              "}\n",
              "\n",
              "/* on hover */\n",
              "#sk-container-id-2 div.sk-estimator:hover {\n",
              "  /* unfitted */\n",
              "  background-color: var(--sklearn-color-unfitted-level-2);\n",
              "}\n",
              "\n",
              "#sk-container-id-2 div.sk-estimator.fitted:hover {\n",
              "  /* fitted */\n",
              "  background-color: var(--sklearn-color-fitted-level-2);\n",
              "}\n",
              "\n",
              "/* Specification for estimator info (e.g. \"i\" and \"?\") */\n",
              "\n",
              "/* Common style for \"i\" and \"?\" */\n",
              "\n",
              ".sk-estimator-doc-link,\n",
              "a:link.sk-estimator-doc-link,\n",
              "a:visited.sk-estimator-doc-link {\n",
              "  float: right;\n",
              "  font-size: smaller;\n",
              "  line-height: 1em;\n",
              "  font-family: monospace;\n",
              "  background-color: var(--sklearn-color-background);\n",
              "  border-radius: 1em;\n",
              "  height: 1em;\n",
              "  width: 1em;\n",
              "  text-decoration: none !important;\n",
              "  margin-left: 1ex;\n",
              "  /* unfitted */\n",
              "  border: var(--sklearn-color-unfitted-level-1) 1pt solid;\n",
              "  color: var(--sklearn-color-unfitted-level-1);\n",
              "}\n",
              "\n",
              ".sk-estimator-doc-link.fitted,\n",
              "a:link.sk-estimator-doc-link.fitted,\n",
              "a:visited.sk-estimator-doc-link.fitted {\n",
              "  /* fitted */\n",
              "  border: var(--sklearn-color-fitted-level-1) 1pt solid;\n",
              "  color: var(--sklearn-color-fitted-level-1);\n",
              "}\n",
              "\n",
              "/* On hover */\n",
              "div.sk-estimator:hover .sk-estimator-doc-link:hover,\n",
              ".sk-estimator-doc-link:hover,\n",
              "div.sk-label-container:hover .sk-estimator-doc-link:hover,\n",
              ".sk-estimator-doc-link:hover {\n",
              "  /* unfitted */\n",
              "  background-color: var(--sklearn-color-unfitted-level-3);\n",
              "  color: var(--sklearn-color-background);\n",
              "  text-decoration: none;\n",
              "}\n",
              "\n",
              "div.sk-estimator.fitted:hover .sk-estimator-doc-link.fitted:hover,\n",
              ".sk-estimator-doc-link.fitted:hover,\n",
              "div.sk-label-container:hover .sk-estimator-doc-link.fitted:hover,\n",
              ".sk-estimator-doc-link.fitted:hover {\n",
              "  /* fitted */\n",
              "  background-color: var(--sklearn-color-fitted-level-3);\n",
              "  color: var(--sklearn-color-background);\n",
              "  text-decoration: none;\n",
              "}\n",
              "\n",
              "/* Span, style for the box shown on hovering the info icon */\n",
              ".sk-estimator-doc-link span {\n",
              "  display: none;\n",
              "  z-index: 9999;\n",
              "  position: relative;\n",
              "  font-weight: normal;\n",
              "  right: .2ex;\n",
              "  padding: .5ex;\n",
              "  margin: .5ex;\n",
              "  width: min-content;\n",
              "  min-width: 20ex;\n",
              "  max-width: 50ex;\n",
              "  color: var(--sklearn-color-text);\n",
              "  box-shadow: 2pt 2pt 4pt #999;\n",
              "  /* unfitted */\n",
              "  background: var(--sklearn-color-unfitted-level-0);\n",
              "  border: .5pt solid var(--sklearn-color-unfitted-level-3);\n",
              "}\n",
              "\n",
              ".sk-estimator-doc-link.fitted span {\n",
              "  /* fitted */\n",
              "  background: var(--sklearn-color-fitted-level-0);\n",
              "  border: var(--sklearn-color-fitted-level-3);\n",
              "}\n",
              "\n",
              ".sk-estimator-doc-link:hover span {\n",
              "  display: block;\n",
              "}\n",
              "\n",
              "/* \"?\"-specific style due to the `<a>` HTML tag */\n",
              "\n",
              "#sk-container-id-2 a.estimator_doc_link {\n",
              "  float: right;\n",
              "  font-size: 1rem;\n",
              "  line-height: 1em;\n",
              "  font-family: monospace;\n",
              "  background-color: var(--sklearn-color-background);\n",
              "  border-radius: 1rem;\n",
              "  height: 1rem;\n",
              "  width: 1rem;\n",
              "  text-decoration: none;\n",
              "  /* unfitted */\n",
              "  color: var(--sklearn-color-unfitted-level-1);\n",
              "  border: var(--sklearn-color-unfitted-level-1) 1pt solid;\n",
              "}\n",
              "\n",
              "#sk-container-id-2 a.estimator_doc_link.fitted {\n",
              "  /* fitted */\n",
              "  border: var(--sklearn-color-fitted-level-1) 1pt solid;\n",
              "  color: var(--sklearn-color-fitted-level-1);\n",
              "}\n",
              "\n",
              "/* On hover */\n",
              "#sk-container-id-2 a.estimator_doc_link:hover {\n",
              "  /* unfitted */\n",
              "  background-color: var(--sklearn-color-unfitted-level-3);\n",
              "  color: var(--sklearn-color-background);\n",
              "  text-decoration: none;\n",
              "}\n",
              "\n",
              "#sk-container-id-2 a.estimator_doc_link.fitted:hover {\n",
              "  /* fitted */\n",
              "  background-color: var(--sklearn-color-fitted-level-3);\n",
              "}\n",
              "</style><div id=\"sk-container-id-2\" class=\"sk-top-container\"><div class=\"sk-text-repr-fallback\"><pre>LogisticRegression(C=6, penalty=&#x27;l1&#x27;, solver=&#x27;liblinear&#x27;)</pre><b>In a Jupyter environment, please rerun this cell to show the HTML representation or trust the notebook. <br />On GitHub, the HTML representation is unable to render, please try loading this page with nbviewer.org.</b></div><div class=\"sk-container\" hidden><div class=\"sk-item\"><div class=\"sk-estimator fitted sk-toggleable\"><input class=\"sk-toggleable__control sk-hidden--visually\" id=\"sk-estimator-id-2\" type=\"checkbox\" checked><label for=\"sk-estimator-id-2\" class=\"sk-toggleable__label fitted sk-toggleable__label-arrow fitted\">&nbsp;&nbsp;LogisticRegression<a class=\"sk-estimator-doc-link fitted\" rel=\"noreferrer\" target=\"_blank\" href=\"https://scikit-learn.org/1.4/modules/generated/sklearn.linear_model.LogisticRegression.html\">?<span>Documentation for LogisticRegression</span></a><span class=\"sk-estimator-doc-link fitted\">i<span>Fitted</span></span></label><div class=\"sk-toggleable__content fitted\"><pre>LogisticRegression(C=6, penalty=&#x27;l1&#x27;, solver=&#x27;liblinear&#x27;)</pre></div> </div></div></div></div>"
            ],
            "text/plain": [
              "LogisticRegression(C=6, penalty='l1', solver='liblinear')"
            ]
          },
          "execution_count": 24,
          "metadata": {},
          "output_type": "execute_result"
        }
      ],
      "source": [
        "logisticRegression = LogisticRegression(C=6, solver='liblinear', penalty='l1')\n",
        "logisticRegression.fit(phish_X_train,phish_y_train)\n"
      ]
    },
    {
      "cell_type": "markdown",
      "metadata": {
        "id": "TS1yuFKJTySc"
      },
      "source": [
        "#### SGD Classifier"
      ]
    },
    {
      "cell_type": "code",
      "execution_count": 25,
      "metadata": {
        "id": "VHgR1zegB3cY"
      },
      "outputs": [
        {
          "data": {
            "text/html": [
              "<style>#sk-container-id-3 {\n",
              "  /* Definition of color scheme common for light and dark mode */\n",
              "  --sklearn-color-text: black;\n",
              "  --sklearn-color-line: gray;\n",
              "  /* Definition of color scheme for unfitted estimators */\n",
              "  --sklearn-color-unfitted-level-0: #fff5e6;\n",
              "  --sklearn-color-unfitted-level-1: #f6e4d2;\n",
              "  --sklearn-color-unfitted-level-2: #ffe0b3;\n",
              "  --sklearn-color-unfitted-level-3: chocolate;\n",
              "  /* Definition of color scheme for fitted estimators */\n",
              "  --sklearn-color-fitted-level-0: #f0f8ff;\n",
              "  --sklearn-color-fitted-level-1: #d4ebff;\n",
              "  --sklearn-color-fitted-level-2: #b3dbfd;\n",
              "  --sklearn-color-fitted-level-3: cornflowerblue;\n",
              "\n",
              "  /* Specific color for light theme */\n",
              "  --sklearn-color-text-on-default-background: var(--sg-text-color, var(--theme-code-foreground, var(--jp-content-font-color1, black)));\n",
              "  --sklearn-color-background: var(--sg-background-color, var(--theme-background, var(--jp-layout-color0, white)));\n",
              "  --sklearn-color-border-box: var(--sg-text-color, var(--theme-code-foreground, var(--jp-content-font-color1, black)));\n",
              "  --sklearn-color-icon: #696969;\n",
              "\n",
              "  @media (prefers-color-scheme: dark) {\n",
              "    /* Redefinition of color scheme for dark theme */\n",
              "    --sklearn-color-text-on-default-background: var(--sg-text-color, var(--theme-code-foreground, var(--jp-content-font-color1, white)));\n",
              "    --sklearn-color-background: var(--sg-background-color, var(--theme-background, var(--jp-layout-color0, #111)));\n",
              "    --sklearn-color-border-box: var(--sg-text-color, var(--theme-code-foreground, var(--jp-content-font-color1, white)));\n",
              "    --sklearn-color-icon: #878787;\n",
              "  }\n",
              "}\n",
              "\n",
              "#sk-container-id-3 {\n",
              "  color: var(--sklearn-color-text);\n",
              "}\n",
              "\n",
              "#sk-container-id-3 pre {\n",
              "  padding: 0;\n",
              "}\n",
              "\n",
              "#sk-container-id-3 input.sk-hidden--visually {\n",
              "  border: 0;\n",
              "  clip: rect(1px 1px 1px 1px);\n",
              "  clip: rect(1px, 1px, 1px, 1px);\n",
              "  height: 1px;\n",
              "  margin: -1px;\n",
              "  overflow: hidden;\n",
              "  padding: 0;\n",
              "  position: absolute;\n",
              "  width: 1px;\n",
              "}\n",
              "\n",
              "#sk-container-id-3 div.sk-dashed-wrapped {\n",
              "  border: 1px dashed var(--sklearn-color-line);\n",
              "  margin: 0 0.4em 0.5em 0.4em;\n",
              "  box-sizing: border-box;\n",
              "  padding-bottom: 0.4em;\n",
              "  background-color: var(--sklearn-color-background);\n",
              "}\n",
              "\n",
              "#sk-container-id-3 div.sk-container {\n",
              "  /* jupyter's `normalize.less` sets `[hidden] { display: none; }`\n",
              "     but bootstrap.min.css set `[hidden] { display: none !important; }`\n",
              "     so we also need the `!important` here to be able to override the\n",
              "     default hidden behavior on the sphinx rendered scikit-learn.org.\n",
              "     See: https://github.com/scikit-learn/scikit-learn/issues/21755 */\n",
              "  display: inline-block !important;\n",
              "  position: relative;\n",
              "}\n",
              "\n",
              "#sk-container-id-3 div.sk-text-repr-fallback {\n",
              "  display: none;\n",
              "}\n",
              "\n",
              "div.sk-parallel-item,\n",
              "div.sk-serial,\n",
              "div.sk-item {\n",
              "  /* draw centered vertical line to link estimators */\n",
              "  background-image: linear-gradient(var(--sklearn-color-text-on-default-background), var(--sklearn-color-text-on-default-background));\n",
              "  background-size: 2px 100%;\n",
              "  background-repeat: no-repeat;\n",
              "  background-position: center center;\n",
              "}\n",
              "\n",
              "/* Parallel-specific style estimator block */\n",
              "\n",
              "#sk-container-id-3 div.sk-parallel-item::after {\n",
              "  content: \"\";\n",
              "  width: 100%;\n",
              "  border-bottom: 2px solid var(--sklearn-color-text-on-default-background);\n",
              "  flex-grow: 1;\n",
              "}\n",
              "\n",
              "#sk-container-id-3 div.sk-parallel {\n",
              "  display: flex;\n",
              "  align-items: stretch;\n",
              "  justify-content: center;\n",
              "  background-color: var(--sklearn-color-background);\n",
              "  position: relative;\n",
              "}\n",
              "\n",
              "#sk-container-id-3 div.sk-parallel-item {\n",
              "  display: flex;\n",
              "  flex-direction: column;\n",
              "}\n",
              "\n",
              "#sk-container-id-3 div.sk-parallel-item:first-child::after {\n",
              "  align-self: flex-end;\n",
              "  width: 50%;\n",
              "}\n",
              "\n",
              "#sk-container-id-3 div.sk-parallel-item:last-child::after {\n",
              "  align-self: flex-start;\n",
              "  width: 50%;\n",
              "}\n",
              "\n",
              "#sk-container-id-3 div.sk-parallel-item:only-child::after {\n",
              "  width: 0;\n",
              "}\n",
              "\n",
              "/* Serial-specific style estimator block */\n",
              "\n",
              "#sk-container-id-3 div.sk-serial {\n",
              "  display: flex;\n",
              "  flex-direction: column;\n",
              "  align-items: center;\n",
              "  background-color: var(--sklearn-color-background);\n",
              "  padding-right: 1em;\n",
              "  padding-left: 1em;\n",
              "}\n",
              "\n",
              "\n",
              "/* Toggleable style: style used for estimator/Pipeline/ColumnTransformer box that is\n",
              "clickable and can be expanded/collapsed.\n",
              "- Pipeline and ColumnTransformer use this feature and define the default style\n",
              "- Estimators will overwrite some part of the style using the `sk-estimator` class\n",
              "*/\n",
              "\n",
              "/* Pipeline and ColumnTransformer style (default) */\n",
              "\n",
              "#sk-container-id-3 div.sk-toggleable {\n",
              "  /* Default theme specific background. It is overwritten whether we have a\n",
              "  specific estimator or a Pipeline/ColumnTransformer */\n",
              "  background-color: var(--sklearn-color-background);\n",
              "}\n",
              "\n",
              "/* Toggleable label */\n",
              "#sk-container-id-3 label.sk-toggleable__label {\n",
              "  cursor: pointer;\n",
              "  display: block;\n",
              "  width: 100%;\n",
              "  margin-bottom: 0;\n",
              "  padding: 0.5em;\n",
              "  box-sizing: border-box;\n",
              "  text-align: center;\n",
              "}\n",
              "\n",
              "#sk-container-id-3 label.sk-toggleable__label-arrow:before {\n",
              "  /* Arrow on the left of the label */\n",
              "  content: \"▸\";\n",
              "  float: left;\n",
              "  margin-right: 0.25em;\n",
              "  color: var(--sklearn-color-icon);\n",
              "}\n",
              "\n",
              "#sk-container-id-3 label.sk-toggleable__label-arrow:hover:before {\n",
              "  color: var(--sklearn-color-text);\n",
              "}\n",
              "\n",
              "/* Toggleable content - dropdown */\n",
              "\n",
              "#sk-container-id-3 div.sk-toggleable__content {\n",
              "  max-height: 0;\n",
              "  max-width: 0;\n",
              "  overflow: hidden;\n",
              "  text-align: left;\n",
              "  /* unfitted */\n",
              "  background-color: var(--sklearn-color-unfitted-level-0);\n",
              "}\n",
              "\n",
              "#sk-container-id-3 div.sk-toggleable__content.fitted {\n",
              "  /* fitted */\n",
              "  background-color: var(--sklearn-color-fitted-level-0);\n",
              "}\n",
              "\n",
              "#sk-container-id-3 div.sk-toggleable__content pre {\n",
              "  margin: 0.2em;\n",
              "  border-radius: 0.25em;\n",
              "  color: var(--sklearn-color-text);\n",
              "  /* unfitted */\n",
              "  background-color: var(--sklearn-color-unfitted-level-0);\n",
              "}\n",
              "\n",
              "#sk-container-id-3 div.sk-toggleable__content.fitted pre {\n",
              "  /* unfitted */\n",
              "  background-color: var(--sklearn-color-fitted-level-0);\n",
              "}\n",
              "\n",
              "#sk-container-id-3 input.sk-toggleable__control:checked~div.sk-toggleable__content {\n",
              "  /* Expand drop-down */\n",
              "  max-height: 200px;\n",
              "  max-width: 100%;\n",
              "  overflow: auto;\n",
              "}\n",
              "\n",
              "#sk-container-id-3 input.sk-toggleable__control:checked~label.sk-toggleable__label-arrow:before {\n",
              "  content: \"▾\";\n",
              "}\n",
              "\n",
              "/* Pipeline/ColumnTransformer-specific style */\n",
              "\n",
              "#sk-container-id-3 div.sk-label input.sk-toggleable__control:checked~label.sk-toggleable__label {\n",
              "  color: var(--sklearn-color-text);\n",
              "  background-color: var(--sklearn-color-unfitted-level-2);\n",
              "}\n",
              "\n",
              "#sk-container-id-3 div.sk-label.fitted input.sk-toggleable__control:checked~label.sk-toggleable__label {\n",
              "  background-color: var(--sklearn-color-fitted-level-2);\n",
              "}\n",
              "\n",
              "/* Estimator-specific style */\n",
              "\n",
              "/* Colorize estimator box */\n",
              "#sk-container-id-3 div.sk-estimator input.sk-toggleable__control:checked~label.sk-toggleable__label {\n",
              "  /* unfitted */\n",
              "  background-color: var(--sklearn-color-unfitted-level-2);\n",
              "}\n",
              "\n",
              "#sk-container-id-3 div.sk-estimator.fitted input.sk-toggleable__control:checked~label.sk-toggleable__label {\n",
              "  /* fitted */\n",
              "  background-color: var(--sklearn-color-fitted-level-2);\n",
              "}\n",
              "\n",
              "#sk-container-id-3 div.sk-label label.sk-toggleable__label,\n",
              "#sk-container-id-3 div.sk-label label {\n",
              "  /* The background is the default theme color */\n",
              "  color: var(--sklearn-color-text-on-default-background);\n",
              "}\n",
              "\n",
              "/* On hover, darken the color of the background */\n",
              "#sk-container-id-3 div.sk-label:hover label.sk-toggleable__label {\n",
              "  color: var(--sklearn-color-text);\n",
              "  background-color: var(--sklearn-color-unfitted-level-2);\n",
              "}\n",
              "\n",
              "/* Label box, darken color on hover, fitted */\n",
              "#sk-container-id-3 div.sk-label.fitted:hover label.sk-toggleable__label.fitted {\n",
              "  color: var(--sklearn-color-text);\n",
              "  background-color: var(--sklearn-color-fitted-level-2);\n",
              "}\n",
              "\n",
              "/* Estimator label */\n",
              "\n",
              "#sk-container-id-3 div.sk-label label {\n",
              "  font-family: monospace;\n",
              "  font-weight: bold;\n",
              "  display: inline-block;\n",
              "  line-height: 1.2em;\n",
              "}\n",
              "\n",
              "#sk-container-id-3 div.sk-label-container {\n",
              "  text-align: center;\n",
              "}\n",
              "\n",
              "/* Estimator-specific */\n",
              "#sk-container-id-3 div.sk-estimator {\n",
              "  font-family: monospace;\n",
              "  border: 1px dotted var(--sklearn-color-border-box);\n",
              "  border-radius: 0.25em;\n",
              "  box-sizing: border-box;\n",
              "  margin-bottom: 0.5em;\n",
              "  /* unfitted */\n",
              "  background-color: var(--sklearn-color-unfitted-level-0);\n",
              "}\n",
              "\n",
              "#sk-container-id-3 div.sk-estimator.fitted {\n",
              "  /* fitted */\n",
              "  background-color: var(--sklearn-color-fitted-level-0);\n",
              "}\n",
              "\n",
              "/* on hover */\n",
              "#sk-container-id-3 div.sk-estimator:hover {\n",
              "  /* unfitted */\n",
              "  background-color: var(--sklearn-color-unfitted-level-2);\n",
              "}\n",
              "\n",
              "#sk-container-id-3 div.sk-estimator.fitted:hover {\n",
              "  /* fitted */\n",
              "  background-color: var(--sklearn-color-fitted-level-2);\n",
              "}\n",
              "\n",
              "/* Specification for estimator info (e.g. \"i\" and \"?\") */\n",
              "\n",
              "/* Common style for \"i\" and \"?\" */\n",
              "\n",
              ".sk-estimator-doc-link,\n",
              "a:link.sk-estimator-doc-link,\n",
              "a:visited.sk-estimator-doc-link {\n",
              "  float: right;\n",
              "  font-size: smaller;\n",
              "  line-height: 1em;\n",
              "  font-family: monospace;\n",
              "  background-color: var(--sklearn-color-background);\n",
              "  border-radius: 1em;\n",
              "  height: 1em;\n",
              "  width: 1em;\n",
              "  text-decoration: none !important;\n",
              "  margin-left: 1ex;\n",
              "  /* unfitted */\n",
              "  border: var(--sklearn-color-unfitted-level-1) 1pt solid;\n",
              "  color: var(--sklearn-color-unfitted-level-1);\n",
              "}\n",
              "\n",
              ".sk-estimator-doc-link.fitted,\n",
              "a:link.sk-estimator-doc-link.fitted,\n",
              "a:visited.sk-estimator-doc-link.fitted {\n",
              "  /* fitted */\n",
              "  border: var(--sklearn-color-fitted-level-1) 1pt solid;\n",
              "  color: var(--sklearn-color-fitted-level-1);\n",
              "}\n",
              "\n",
              "/* On hover */\n",
              "div.sk-estimator:hover .sk-estimator-doc-link:hover,\n",
              ".sk-estimator-doc-link:hover,\n",
              "div.sk-label-container:hover .sk-estimator-doc-link:hover,\n",
              ".sk-estimator-doc-link:hover {\n",
              "  /* unfitted */\n",
              "  background-color: var(--sklearn-color-unfitted-level-3);\n",
              "  color: var(--sklearn-color-background);\n",
              "  text-decoration: none;\n",
              "}\n",
              "\n",
              "div.sk-estimator.fitted:hover .sk-estimator-doc-link.fitted:hover,\n",
              ".sk-estimator-doc-link.fitted:hover,\n",
              "div.sk-label-container:hover .sk-estimator-doc-link.fitted:hover,\n",
              ".sk-estimator-doc-link.fitted:hover {\n",
              "  /* fitted */\n",
              "  background-color: var(--sklearn-color-fitted-level-3);\n",
              "  color: var(--sklearn-color-background);\n",
              "  text-decoration: none;\n",
              "}\n",
              "\n",
              "/* Span, style for the box shown on hovering the info icon */\n",
              ".sk-estimator-doc-link span {\n",
              "  display: none;\n",
              "  z-index: 9999;\n",
              "  position: relative;\n",
              "  font-weight: normal;\n",
              "  right: .2ex;\n",
              "  padding: .5ex;\n",
              "  margin: .5ex;\n",
              "  width: min-content;\n",
              "  min-width: 20ex;\n",
              "  max-width: 50ex;\n",
              "  color: var(--sklearn-color-text);\n",
              "  box-shadow: 2pt 2pt 4pt #999;\n",
              "  /* unfitted */\n",
              "  background: var(--sklearn-color-unfitted-level-0);\n",
              "  border: .5pt solid var(--sklearn-color-unfitted-level-3);\n",
              "}\n",
              "\n",
              ".sk-estimator-doc-link.fitted span {\n",
              "  /* fitted */\n",
              "  background: var(--sklearn-color-fitted-level-0);\n",
              "  border: var(--sklearn-color-fitted-level-3);\n",
              "}\n",
              "\n",
              ".sk-estimator-doc-link:hover span {\n",
              "  display: block;\n",
              "}\n",
              "\n",
              "/* \"?\"-specific style due to the `<a>` HTML tag */\n",
              "\n",
              "#sk-container-id-3 a.estimator_doc_link {\n",
              "  float: right;\n",
              "  font-size: 1rem;\n",
              "  line-height: 1em;\n",
              "  font-family: monospace;\n",
              "  background-color: var(--sklearn-color-background);\n",
              "  border-radius: 1rem;\n",
              "  height: 1rem;\n",
              "  width: 1rem;\n",
              "  text-decoration: none;\n",
              "  /* unfitted */\n",
              "  color: var(--sklearn-color-unfitted-level-1);\n",
              "  border: var(--sklearn-color-unfitted-level-1) 1pt solid;\n",
              "}\n",
              "\n",
              "#sk-container-id-3 a.estimator_doc_link.fitted {\n",
              "  /* fitted */\n",
              "  border: var(--sklearn-color-fitted-level-1) 1pt solid;\n",
              "  color: var(--sklearn-color-fitted-level-1);\n",
              "}\n",
              "\n",
              "/* On hover */\n",
              "#sk-container-id-3 a.estimator_doc_link:hover {\n",
              "  /* unfitted */\n",
              "  background-color: var(--sklearn-color-unfitted-level-3);\n",
              "  color: var(--sklearn-color-background);\n",
              "  text-decoration: none;\n",
              "}\n",
              "\n",
              "#sk-container-id-3 a.estimator_doc_link.fitted:hover {\n",
              "  /* fitted */\n",
              "  background-color: var(--sklearn-color-fitted-level-3);\n",
              "}\n",
              "</style><div id=\"sk-container-id-3\" class=\"sk-top-container\"><div class=\"sk-text-repr-fallback\"><pre>SGDClassifier()</pre><b>In a Jupyter environment, please rerun this cell to show the HTML representation or trust the notebook. <br />On GitHub, the HTML representation is unable to render, please try loading this page with nbviewer.org.</b></div><div class=\"sk-container\" hidden><div class=\"sk-item\"><div class=\"sk-estimator fitted sk-toggleable\"><input class=\"sk-toggleable__control sk-hidden--visually\" id=\"sk-estimator-id-3\" type=\"checkbox\" checked><label for=\"sk-estimator-id-3\" class=\"sk-toggleable__label fitted sk-toggleable__label-arrow fitted\">&nbsp;&nbsp;SGDClassifier<a class=\"sk-estimator-doc-link fitted\" rel=\"noreferrer\" target=\"_blank\" href=\"https://scikit-learn.org/1.4/modules/generated/sklearn.linear_model.SGDClassifier.html\">?<span>Documentation for SGDClassifier</span></a><span class=\"sk-estimator-doc-link fitted\">i<span>Fitted</span></span></label><div class=\"sk-toggleable__content fitted\"><pre>SGDClassifier()</pre></div> </div></div></div></div>"
            ],
            "text/plain": [
              "SGDClassifier()"
            ]
          },
          "execution_count": 25,
          "metadata": {},
          "output_type": "execute_result"
        }
      ],
      "source": [
        "sgdClassifier = SGDClassifier()\n",
        "sgdClassifier.fit(phish_X_train,phish_y_train)"
      ]
    },
    {
      "cell_type": "markdown",
      "metadata": {
        "id": "Qgc0cvd2BzPK"
      },
      "source": [
        "### 4.2.2 Testing"
      ]
    },
    {
      "cell_type": "markdown",
      "metadata": {
        "id": "R8UTqJBnVuib"
      },
      "source": [
        "#### Logistic Regression"
      ]
    },
    {
      "cell_type": "code",
      "execution_count": 26,
      "metadata": {
        "id": "dV2C3B66Vq6U"
      },
      "outputs": [
        {
          "name": "stdout",
          "output_type": "stream",
          "text": [
            "accuracy from logistic regression: 95.41 %\n",
            "f1 score from logistic regression: 96.11 % \n",
            "\n",
            "classification report : \n",
            "               precision    recall  f1-score   support\n",
            "\n",
            "           0       0.92      0.97      0.94      2008\n",
            "           1       0.98      0.94      0.96      3024\n",
            "\n",
            "    accuracy                           0.95      5032\n",
            "   macro avg       0.95      0.96      0.95      5032\n",
            "weighted avg       0.96      0.95      0.95      5032\n",
            "\n"
          ]
        },
        {
          "data": {
            "image/png": "[encoded data removed]",
            "text/plain": [
              "<Figure size 640x480 with 2 Axes>"
            ]
          },
          "metadata": {},
          "output_type": "display_data"
        }
      ],
      "source": [
        "logReg_predict = logisticRegression.predict(phish_X_test)\n",
        "\n",
        "#Outputing model statistics\n",
        "print(f\"accuracy from logistic regression: {accuracy_score(phish_y_test,logReg_predict)*100:.2f} %\")\n",
        "print(f\"f1 score from logistic regression: {f1_score(phish_y_test,logReg_predict)*100:.2f} % \\n\")\n",
        "print(\"classification report : \\n\",classification_report(phish_y_test,logReg_predict))\n",
        "\n",
        "''' \n",
        "# Step 1: Identify incorrect predictions\n",
        "incorrect_indices = np.where(phish_y_test != logReg_predict)[0]\n",
        "\n",
        "# Step 2: Extract the incorrectly predicted instances\n",
        "# Assuming you have an array or a list that matches phish_X_test's structure, holding email contents or identifiers\n",
        "# For example, let's say email_ids is a list or array containing identifiers for each instance in phish_X_test\n",
        "#incorrect_emails = [email_ids[i] for i in incorrect_indices]\n",
        "\n",
        "# Step 3: Convert to DataFrame and save to CSV\n",
        "df_incorrect_emails = pd.DataFrame(incorrect_emails, columns=['Incorrect Email Identifiers'])\n",
        "df_incorrect_emails.to_csv('/mnt/data/incorrect_emails.csv', index=False)\n",
        "\n",
        "# Outputting the path to the saved CSV file for your reference\n",
        "'/mnt/data/incorrect_emails.csv'\n",
        "'''\n",
        "#Creating model confusion matrix\n",
        "logReg_cm = confusion_matrix(phish_y_test,logReg_predict)\n",
        "\n",
        "logReg_cmd = ConfusionMatrixDisplay(logReg_cm,display_labels=['Phishing', 'Safe'])\n",
        "\n",
        "logReg_cmd.plot(cmap='Blues')\n",
        "plt.title('Logistic Regression Confusion Matrix')\n",
        "plt.xlabel('Predicted Labels')\n",
        "plt.ylabel('True Labels')\n",
        "plt.show()"
      ]
    },
    {
      "cell_type": "markdown",
      "metadata": {
        "id": "yOQpRFjJT64X"
      },
      "source": [
        "#### SGD Classifier"
      ]
    },
    {
      "cell_type": "code",
      "execution_count": 27,
      "metadata": {
        "id": "zyRX1afKKNhu"
      },
      "outputs": [
        {
          "name": "stdout",
          "output_type": "stream",
          "text": [
            "accuracy from SGD Classifier: 95.71 %\n",
            "f1 score from SGD Classifier: 96.51 % \n",
            "\n",
            "classification report : \n",
            "               precision    recall  f1-score   support\n",
            "\n",
            "           0       0.98      0.91      0.94      2008\n",
            "           1       0.94      0.99      0.97      3024\n",
            "\n",
            "    accuracy                           0.96      5032\n",
            "   macro avg       0.96      0.95      0.95      5032\n",
            "weighted avg       0.96      0.96      0.96      5032\n",
            "\n"
          ]
        },
        {
          "data": {
            "image/png": "[encoded data removed]",
            "text/plain": [
              "<Figure size 640x480 with 2 Axes>"
            ]
          },
          "metadata": {},
          "output_type": "display_data"
        }
      ],
      "source": [
        "sgd_predict = sgdClassifier.predict(phish_X_test)\n",
        "\n",
        "sgd_predict\n",
        "print(f\"accuracy from SGD Classifier: {accuracy_score(phish_y_test,sgd_predict)*100:.2f} %\")\n",
        "print(f\"f1 score from SGD Classifier: {f1_score(phish_y_test,sgd_predict)*100:.2f} % \\n\")\n",
        "print(\"classification report : \\n\",classification_report(phish_y_test,sgd_predict))\n",
        "\n",
        "#Creating model confusion matrix\n",
        "sgd_cm = confusion_matrix(phish_y_test,sgd_predict)\n",
        "\n",
        "sgd_cmd = ConfusionMatrixDisplay(sgd_cm,display_labels=['Phishing', 'Safe'])\n",
        "\n",
        "sgd_cmd.plot(cmap='Blues')\n",
        "plt.title('SGD Classifier Confusion Matrix')\n",
        "plt.xlabel('Predicted Labels')\n",
        "plt.ylabel('True Labels')\n",
        "plt.show()"
      ]
    },
    {
      "cell_type": "markdown",
      "metadata": {},
      "source": [
        "# 5 Testing Models with untouched data"
      ]
    },
    {
      "cell_type": "markdown",
      "metadata": {},
      "source": [
        "## 5.1 Testing Spam Data Model"
      ]
    },
    {
      "cell_type": "markdown",
      "metadata": {},
      "source": [
        "### 5.1.1 Neural Network"
      ]
    },
    {
      "cell_type": "code",
      "execution_count": 28,
      "metadata": {},
      "outputs": [
        {
          "name": "stdout",
          "output_type": "stream",
          "text": [
            "\u001b[1m19/19\u001b[0m \u001b[32m━━━━━━━━━━━━━━━━━━━━\u001b[0m\u001b[37m\u001b[0m \u001b[1m0s\u001b[0m 14ms/step\n"
          ]
        }
      ],
      "source": [
        "nn_predict_untouched = nn_model.predict(X_untouched_padded)\n",
        "nn_predict_binary_untouched = (nn_predict > 0.5).astype(\"int32\")"
      ]
    },
    {
      "cell_type": "code",
      "execution_count": 29,
      "metadata": {},
      "outputs": [
        {
          "ename": "ValueError",
          "evalue": "Found input variables with inconsistent numbers of samples: [579, 2319]",
          "output_type": "error",
          "traceback": [
            "\u001b[1;31m---------------------------------------------------------------------------\u001b[0m",
            "\u001b[1;31mValueError\u001b[0m                                Traceback (most recent call last)",
            "Cell \u001b[1;32mIn[29], line 2\u001b[0m\n\u001b[0;32m      1\u001b[0m \u001b[38;5;66;03m# Output model statistics\u001b[39;00m\n\u001b[1;32m----> 2\u001b[0m nn_accuracy_score \u001b[38;5;241m=\u001b[39m \u001b[43maccuracy_score\u001b[49m\u001b[43m(\u001b[49m\u001b[43my_untouched_encoded\u001b[49m\u001b[43m,\u001b[49m\u001b[43m \u001b[49m\u001b[43mnn_predict_binary_untouched\u001b[49m\u001b[43m)\u001b[49m\u001b[38;5;241m*\u001b[39m\u001b[38;5;241m100\u001b[39m\n\u001b[0;32m      3\u001b[0m nn_f1_score \u001b[38;5;241m=\u001b[39m  f1_score(y_untouched_encoded, nn_predict_binary_untouched)\u001b[38;5;241m*\u001b[39m\u001b[38;5;241m100\u001b[39m\n\u001b[0;32m      4\u001b[0m \u001b[38;5;28mprint\u001b[39m(\u001b[38;5;124mf\u001b[39m\u001b[38;5;124m\"\u001b[39m\u001b[38;5;124mAccuracy from neural network model: \u001b[39m\u001b[38;5;132;01m{\u001b[39;00mnn_accuracy_score\u001b[38;5;132;01m:\u001b[39;00m\u001b[38;5;124m.2f\u001b[39m\u001b[38;5;132;01m}\u001b[39;00m\u001b[38;5;124m %\u001b[39m\u001b[38;5;124m\"\u001b[39m)\n",
            "File \u001b[1;32mc:\\Users\\terre\\AppData\\Local\\Programs\\Python\\Python311\\Lib\\site-packages\\sklearn\\utils\\_param_validation.py:213\u001b[0m, in \u001b[0;36mvalidate_params.<locals>.decorator.<locals>.wrapper\u001b[1;34m(*args, **kwargs)\u001b[0m\n\u001b[0;32m    207\u001b[0m \u001b[38;5;28;01mtry\u001b[39;00m:\n\u001b[0;32m    208\u001b[0m     \u001b[38;5;28;01mwith\u001b[39;00m config_context(\n\u001b[0;32m    209\u001b[0m         skip_parameter_validation\u001b[38;5;241m=\u001b[39m(\n\u001b[0;32m    210\u001b[0m             prefer_skip_nested_validation \u001b[38;5;129;01mor\u001b[39;00m global_skip_validation\n\u001b[0;32m    211\u001b[0m         )\n\u001b[0;32m    212\u001b[0m     ):\n\u001b[1;32m--> 213\u001b[0m         \u001b[38;5;28;01mreturn\u001b[39;00m \u001b[43mfunc\u001b[49m\u001b[43m(\u001b[49m\u001b[38;5;241;43m*\u001b[39;49m\u001b[43margs\u001b[49m\u001b[43m,\u001b[49m\u001b[43m \u001b[49m\u001b[38;5;241;43m*\u001b[39;49m\u001b[38;5;241;43m*\u001b[39;49m\u001b[43mkwargs\u001b[49m\u001b[43m)\u001b[49m\n\u001b[0;32m    214\u001b[0m \u001b[38;5;28;01mexcept\u001b[39;00m InvalidParameterError \u001b[38;5;28;01mas\u001b[39;00m e:\n\u001b[0;32m    215\u001b[0m     \u001b[38;5;66;03m# When the function is just a wrapper around an estimator, we allow\u001b[39;00m\n\u001b[0;32m    216\u001b[0m     \u001b[38;5;66;03m# the function to delegate validation to the estimator, but we replace\u001b[39;00m\n\u001b[0;32m    217\u001b[0m     \u001b[38;5;66;03m# the name of the estimator by the name of the function in the error\u001b[39;00m\n\u001b[0;32m    218\u001b[0m     \u001b[38;5;66;03m# message to avoid confusion.\u001b[39;00m\n\u001b[0;32m    219\u001b[0m     msg \u001b[38;5;241m=\u001b[39m re\u001b[38;5;241m.\u001b[39msub(\n\u001b[0;32m    220\u001b[0m         \u001b[38;5;124mr\u001b[39m\u001b[38;5;124m\"\u001b[39m\u001b[38;5;124mparameter of \u001b[39m\u001b[38;5;124m\\\u001b[39m\u001b[38;5;124mw+ must be\u001b[39m\u001b[38;5;124m\"\u001b[39m,\n\u001b[0;32m    221\u001b[0m         \u001b[38;5;124mf\u001b[39m\u001b[38;5;124m\"\u001b[39m\u001b[38;5;124mparameter of \u001b[39m\u001b[38;5;132;01m{\u001b[39;00mfunc\u001b[38;5;241m.\u001b[39m\u001b[38;5;18m__qualname__\u001b[39m\u001b[38;5;132;01m}\u001b[39;00m\u001b[38;5;124m must be\u001b[39m\u001b[38;5;124m\"\u001b[39m,\n\u001b[0;32m    222\u001b[0m         \u001b[38;5;28mstr\u001b[39m(e),\n\u001b[0;32m    223\u001b[0m     )\n",
            "File \u001b[1;32mc:\\Users\\terre\\AppData\\Local\\Programs\\Python\\Python311\\Lib\\site-packages\\sklearn\\metrics\\_classification.py:213\u001b[0m, in \u001b[0;36maccuracy_score\u001b[1;34m(y_true, y_pred, normalize, sample_weight)\u001b[0m\n\u001b[0;32m    147\u001b[0m \u001b[38;5;250m\u001b[39m\u001b[38;5;124;03m\"\"\"Accuracy classification score.\u001b[39;00m\n\u001b[0;32m    148\u001b[0m \n\u001b[0;32m    149\u001b[0m \u001b[38;5;124;03mIn multilabel classification, this function computes subset accuracy:\u001b[39;00m\n\u001b[1;32m   (...)\u001b[0m\n\u001b[0;32m    209\u001b[0m \u001b[38;5;124;03m0.5\u001b[39;00m\n\u001b[0;32m    210\u001b[0m \u001b[38;5;124;03m\"\"\"\u001b[39;00m\n\u001b[0;32m    212\u001b[0m \u001b[38;5;66;03m# Compute accuracy for each possible representation\u001b[39;00m\n\u001b[1;32m--> 213\u001b[0m y_type, y_true, y_pred \u001b[38;5;241m=\u001b[39m \u001b[43m_check_targets\u001b[49m\u001b[43m(\u001b[49m\u001b[43my_true\u001b[49m\u001b[43m,\u001b[49m\u001b[43m \u001b[49m\u001b[43my_pred\u001b[49m\u001b[43m)\u001b[49m\n\u001b[0;32m    214\u001b[0m check_consistent_length(y_true, y_pred, sample_weight)\n\u001b[0;32m    215\u001b[0m \u001b[38;5;28;01mif\u001b[39;00m y_type\u001b[38;5;241m.\u001b[39mstartswith(\u001b[38;5;124m\"\u001b[39m\u001b[38;5;124mmultilabel\u001b[39m\u001b[38;5;124m\"\u001b[39m):\n",
            "File \u001b[1;32mc:\\Users\\terre\\AppData\\Local\\Programs\\Python\\Python311\\Lib\\site-packages\\sklearn\\metrics\\_classification.py:85\u001b[0m, in \u001b[0;36m_check_targets\u001b[1;34m(y_true, y_pred)\u001b[0m\n\u001b[0;32m     58\u001b[0m \u001b[38;5;28;01mdef\u001b[39;00m \u001b[38;5;21m_check_targets\u001b[39m(y_true, y_pred):\n\u001b[0;32m     59\u001b[0m \u001b[38;5;250m    \u001b[39m\u001b[38;5;124;03m\"\"\"Check that y_true and y_pred belong to the same classification task.\u001b[39;00m\n\u001b[0;32m     60\u001b[0m \n\u001b[0;32m     61\u001b[0m \u001b[38;5;124;03m    This converts multiclass or binary types to a common shape, and raises a\u001b[39;00m\n\u001b[1;32m   (...)\u001b[0m\n\u001b[0;32m     83\u001b[0m \u001b[38;5;124;03m    y_pred : array or indicator matrix\u001b[39;00m\n\u001b[0;32m     84\u001b[0m \u001b[38;5;124;03m    \"\"\"\u001b[39;00m\n\u001b[1;32m---> 85\u001b[0m     \u001b[43mcheck_consistent_length\u001b[49m\u001b[43m(\u001b[49m\u001b[43my_true\u001b[49m\u001b[43m,\u001b[49m\u001b[43m \u001b[49m\u001b[43my_pred\u001b[49m\u001b[43m)\u001b[49m\n\u001b[0;32m     86\u001b[0m     type_true \u001b[38;5;241m=\u001b[39m type_of_target(y_true, input_name\u001b[38;5;241m=\u001b[39m\u001b[38;5;124m\"\u001b[39m\u001b[38;5;124my_true\u001b[39m\u001b[38;5;124m\"\u001b[39m)\n\u001b[0;32m     87\u001b[0m     type_pred \u001b[38;5;241m=\u001b[39m type_of_target(y_pred, input_name\u001b[38;5;241m=\u001b[39m\u001b[38;5;124m\"\u001b[39m\u001b[38;5;124my_pred\u001b[39m\u001b[38;5;124m\"\u001b[39m)\n",
            "File \u001b[1;32mc:\\Users\\terre\\AppData\\Local\\Programs\\Python\\Python311\\Lib\\site-packages\\sklearn\\utils\\validation.py:457\u001b[0m, in \u001b[0;36mcheck_consistent_length\u001b[1;34m(*arrays)\u001b[0m\n\u001b[0;32m    455\u001b[0m uniques \u001b[38;5;241m=\u001b[39m np\u001b[38;5;241m.\u001b[39munique(lengths)\n\u001b[0;32m    456\u001b[0m \u001b[38;5;28;01mif\u001b[39;00m \u001b[38;5;28mlen\u001b[39m(uniques) \u001b[38;5;241m>\u001b[39m \u001b[38;5;241m1\u001b[39m:\n\u001b[1;32m--> 457\u001b[0m     \u001b[38;5;28;01mraise\u001b[39;00m \u001b[38;5;167;01mValueError\u001b[39;00m(\n\u001b[0;32m    458\u001b[0m         \u001b[38;5;124m\"\u001b[39m\u001b[38;5;124mFound input variables with inconsistent numbers of samples: \u001b[39m\u001b[38;5;132;01m%r\u001b[39;00m\u001b[38;5;124m\"\u001b[39m\n\u001b[0;32m    459\u001b[0m         \u001b[38;5;241m%\u001b[39m [\u001b[38;5;28mint\u001b[39m(l) \u001b[38;5;28;01mfor\u001b[39;00m l \u001b[38;5;129;01min\u001b[39;00m lengths]\n\u001b[0;32m    460\u001b[0m     )\n",
            "\u001b[1;31mValueError\u001b[0m: Found input variables with inconsistent numbers of samples: [579, 2319]"
          ]
        }
      ],
      "source": [
        "# Output model statistics\n",
        "nn_accuracy_score = accuracy_score(y_untouched_encoded, nn_predict_binary_untouched)*100\n",
        "nn_f1_score =  f1_score(y_untouched_encoded, nn_predict_binary_untouched)*100\n",
        "print(f\"Accuracy from neural network model: {nn_accuracy_score:.2f} %\")\n",
        "print(f\"F1 score from neural network model: {nn_f1_score:.2f} % \\n\")\n",
        "\n",
        "classification_report_str = classification_report(y_untouched_encoded, nn_predict_binary_untouched)\n",
        "classification_report_dict = classification_report(y_untouched_encoded, nn_predict_binary_untouched, output_dict=True)\n",
        "\n",
        "nn_macro_avg_precision = classification_report_dict['macro avg']['precision']\n",
        "nn_weighted_avg_precision = classification_report_dict['weighted avg']['precision']\n",
        "nn_macro_avg_recall = classification_report_dict['macro avg']['recall']\n",
        "nn_weighted_avg_recall = classification_report_dict['weighted avg']['recall']\n",
        "\n",
        "print(\"Classification report : \\n\", classification_report_str)\n",
        "\n",
        "# Creating confusion matrix for neural network model\n",
        "nn_cm_final = confusion_matrix(y_untouched_encoded, nn_predict_binary_untouched)\n",
        "nn_cmd_final = ConfusionMatrixDisplay(nn_cm_final, display_labels=['Not Phishing', 'Phishing'])\n",
        "nn_cmd_final.plot(cmap='YlOrRd')\n",
        "plt.title('Neural Network Confusion Matrix')\n",
        "plt.xlabel('Predicted Labels')\n",
        "plt.ylabel('True Labels')\n",
        "plt.show()"
      ]
    },
    {
      "cell_type": "markdown",
      "metadata": {},
      "source": [
        "### 5.1.2 LightGBM Classifier"
      ]
    },
    {
      "cell_type": "code",
      "execution_count": null,
      "metadata": {},
      "outputs": [
        {
          "name": "stdout",
          "output_type": "stream",
          "text": [
            "Accuracy from LightGBM classifier: 98.27 %\n",
            "F1 score from LightGBM classifier: 97.41 % \n",
            "\n",
            "Classification report : \n",
            "               precision    recall  f1-score   support\n",
            "\n",
            "           0       0.99      0.99      0.99       386\n",
            "           1       0.97      0.97      0.97       193\n",
            "\n",
            "    accuracy                           0.98       579\n",
            "   macro avg       0.98      0.98      0.98       579\n",
            "weighted avg       0.98      0.98      0.98       579\n",
            "\n"
          ]
        },
        {
          "data": {
            "text/plain": [
              "Text(0, 0.5, 'True Labels')"
            ]
          },
          "execution_count": 75,
          "metadata": {},
          "output_type": "execute_result"
        },
        {
          "data": {
            "image/png": "[encoded data removed]",
            "text/plain": [
              "<Figure size 640x480 with 2 Axes>"
            ]
          },
          "metadata": {},
          "output_type": "display_data"
        }
      ],
      "source": [
        "# Make predictions\n",
        "lgbm_predict_final = lgbm_model.predict(spam_X__untouched)\n",
        "\n",
        "lgbm_accuracy_score = accuracy_score(spam_y__untouched, lgbm_predict_final)*100\n",
        "lgbm_f1_score = f1_score(spam_y__untouched, lgbm_predict_final)*100\n",
        "# Output model statistics\n",
        "print(f\"Accuracy from LightGBM classifier: {lgbm_accuracy_score:.2f} %\")\n",
        "print(f\"F1 score from LightGBM classifier: {lgbm_f1_score:.2f} % \\n\")\n",
        "\n",
        "lgbm_classification_report_str = classification_report(spam_y__untouched, lgbm_predict_final)\n",
        "lgbm_classification_report_dict = classification_report(spam_y__untouched, lgbm_predict_final, output_dict=True)\n",
        "lgbm_macro_avg_precision = lgbm_classification_report_dict['macro avg']['precision']\n",
        "lgbm_weighted_avg_precision = lgbm_classification_report_dict['weighted avg']['precision']\n",
        "lgbm_macro_avg_recall = lgbm_classification_report_dict['macro avg']['recall']\n",
        "lgbm_weighted_avg_recall = lgbm_classification_report_dict['weighted avg']['recall']\n",
        "\n",
        "print(\"Classification report : \\n\", lgbm_classification_report_str)\n",
        "\n",
        "# Creating confusion matrix for LightGBM classifier\n",
        "lgbm_cm_final = confusion_matrix(spam_y__untouched, lgbm_predict_final)\n",
        "lgbm_cmd_final = ConfusionMatrixDisplay(lgbm_cm, display_labels=['Not Phishing', 'Phishing'])\n",
        "lgbm_cmd_final.plot(cmap='YlOrRd')\n",
        "plt.title('LightGBM Classifier Confusion Matrix')\n",
        "plt.xlabel('Predicted Labels')\n",
        "plt.ylabel('True Labels')"
      ]
    },
    {
      "cell_type": "markdown",
      "metadata": {},
      "source": [
        "## 5.2 Testing Phishing Dataset Model"
      ]
    },
    {
      "cell_type": "markdown",
      "metadata": {},
      "source": [
        "### 5.2.1 Logistic Regression"
      ]
    },
    {
      "cell_type": "code",
      "execution_count": null,
      "metadata": {},
      "outputs": [],
      "source": [
        "logReg_predict_final = logisticRegression.predict(phish_X__untouched)"
      ]
    },
    {
      "cell_type": "code",
      "execution_count": null,
      "metadata": {},
      "outputs": [
        {
          "name": "stdout",
          "output_type": "stream",
          "text": [
            "accuracy from logistic regression: 95.33 %\n",
            "f1 score from logistic regression: 96.03 % \n",
            "\n",
            "classification report : \n",
            "               precision    recall  f1-score   support\n",
            "\n",
            "           0       0.91      0.98      0.94       739\n",
            "           1       0.99      0.94      0.96      1124\n",
            "\n",
            "    accuracy                           0.95      1863\n",
            "   macro avg       0.95      0.96      0.95      1863\n",
            "weighted avg       0.96      0.95      0.95      1863\n",
            "\n"
          ]
        },
        {
          "data": {
            "image/png": "[encoded data removed]",
            "text/plain": [
              "<Figure size 640x480 with 2 Axes>"
            ]
          },
          "metadata": {},
          "output_type": "display_data"
        }
      ],
      "source": [
        "logReg_accuracy_score = accuracy_score(phish_y__untouched, logReg_predict_final) * 100\n",
        "logReg_f1_score = f1_score(phish_y__untouched, logReg_predict_final) * 100\n",
        "\n",
        "#Outputing model statistics\n",
        "print(f\"accuracy from logistic regression: {logReg_accuracy_score:.2f} %\")\n",
        "print(f\"f1 score from logistic regression: {logReg_f1_score:.2f} % \\n\")\n",
        "\n",
        "logReg_classification_report_str = classification_report(phish_y__untouched, logReg_predict_final)\n",
        "logReg_classification_report_dict = classification_report(phish_y__untouched, logReg_predict_final, output_dict=True)\n",
        "logReg_macro_avg_precision = logReg_classification_report_dict['macro avg']['precision']\n",
        "logReg_weighted_avg_precision = logReg_classification_report_dict['weighted avg']['precision']\n",
        "logReg_macro_avg_recall = logReg_classification_report_dict['macro avg']['recall']\n",
        "logReg_weighted_avg_recall = logReg_classification_report_dict['weighted avg']['recall']\n",
        "\n",
        "print(\"classification report : \\n\",logReg_classification_report_str)\n",
        "\n",
        "''' \n",
        "# Step 1: Identify incorrect predictions\n",
        "incorrect_indices = np.where(phish_y_test != logReg_predict)[0]\n",
        "\n",
        "# Step 2: Extract the incorrectly predicted instances\n",
        "# Assuming you have an array or a list that matches phish_X_test's structure, holding email contents or identifiers\n",
        "# For example, let's say email_ids is a list or array containing identifiers for each instance in phish_X_test\n",
        "#incorrect_emails = [email_ids[i] for i in incorrect_indices]\n",
        "\n",
        "# Step 3: Convert to DataFrame and save to CSV\n",
        "df_incorrect_emails = pd.DataFrame(incorrect_emails, columns=['Incorrect Email Identifiers'])\n",
        "df_incorrect_emails.to_csv('/mnt/data/incorrect_emails.csv', index=False)\n",
        "\n",
        "# Outputting the path to the saved CSV file for your reference\n",
        "'/mnt/data/incorrect_emails.csv'\n",
        "'''\n",
        "#Creating model confusion matrix\n",
        "logReg_cm_final = confusion_matrix(phish_y__untouched,logReg_predict_final)\n",
        "\n",
        "logReg_cmd_final = ConfusionMatrixDisplay(logReg_cm_final,display_labels=['Phishing', 'Safe'])\n",
        "\n",
        "logReg_cmd_final.plot(cmap='Blues')\n",
        "plt.title('Logistic Regression Confusion Matrix')\n",
        "plt.xlabel('Predicted Labels')\n",
        "plt.ylabel('True Labels')\n",
        "plt.show()"
      ]
    },
    {
      "cell_type": "markdown",
      "metadata": {},
      "source": [
        "### 5.2.2 SGD Classifier"
      ]
    },
    {
      "cell_type": "code",
      "execution_count": null,
      "metadata": {},
      "outputs": [],
      "source": [
        "sgd_predict_final = sgdClassifier.predict(phish_X__untouched)"
      ]
    },
    {
      "cell_type": "code",
      "execution_count": null,
      "metadata": {},
      "outputs": [
        {
          "name": "stdout",
          "output_type": "stream",
          "text": [
            "accuracy from SGD Classifier: 96.34997316156736\n",
            "f1 score from SGD Classifier: 97.02537182852143\n",
            "classification report : \n",
            "               precision    recall  f1-score   support\n",
            "\n",
            "           0       0.98      0.93      0.95       739\n",
            "           1       0.95      0.99      0.97      1124\n",
            "\n",
            "    accuracy                           0.96      1863\n",
            "   macro avg       0.97      0.96      0.96      1863\n",
            "weighted avg       0.96      0.96      0.96      1863\n",
            "\n"
          ]
        },
        {
          "data": {
            "image/png": "[encoded data removed]",
            "text/plain": [
              "<Figure size 640x480 with 2 Axes>"
            ]
          },
          "metadata": {},
          "output_type": "display_data"
        }
      ],
      "source": [
        "sgd_accuracy_score = accuracy_score(phish_y__untouched, sgd_predict_final) * 100\n",
        "sgd_f1_score = f1_score(phish_y__untouched, sgd_predict_final) * 100\n",
        "\n",
        "print(\"accuracy from SGD Classifier:\", sgd_accuracy_score)\n",
        "print(\"f1 score from SGD Classifier:\", sgd_f1_score)\n",
        "\n",
        "sgd_classification_report_str = classification_report(phish_y__untouched, sgd_predict_final)\n",
        "sgd_classification_report_dict = classification_report(phish_y__untouched, sgd_predict_final, output_dict=True)\n",
        "sgd_macro_avg_precision = sgd_classification_report_dict['macro avg']['precision']\n",
        "sgd_weighted_avg_precision = sgd_classification_report_dict['weighted avg']['precision']\n",
        "sgd_macro_avg_recall = sgd_classification_report_dict['macro avg']['recall']\n",
        "sgd_weighted_avg_recall = sgd_classification_report_dict['weighted avg']['recall']\n",
        "print(\"classification report : \\n\",sgd_classification_report_str)\n",
        "\n",
        "#Creating model confusion matrix\n",
        "sgd_cm_final = confusion_matrix(phish_y__untouched,sgd_predict_final)\n",
        "\n",
        "sgd_cmd_final = ConfusionMatrixDisplay(sgd_cm_final,display_labels=['Phishing', 'Safe'])\n",
        "\n",
        "sgd_cmd_final.plot(cmap='Blues')\n",
        "plt.title('SGD Classifier Confusion Matrix')\n",
        "plt.xlabel('Predicted Labels')\n",
        "plt.ylabel('True Labels')\n",
        "plt.show()"
      ]
    },
    {
      "cell_type": "markdown",
      "metadata": {},
      "source": [
        "# 6 Model Comparisons"
      ]
    },
    {
      "cell_type": "code",
      "execution_count": null,
      "metadata": {},
      "outputs": [
        {
          "name": "stdout",
          "output_type": "stream",
          "text": [
            "Accuracy Scores for each model\n",
            "+---------------------+-------------------+\n",
            "|        Model        |   Accuracy Score  |\n",
            "+---------------------+-------------------+\n",
            "|    Neural Network   | 66.66666666666666 |\n",
            "|       LightGBM      | 98.27288428324698 |\n",
            "| Logistic Regression | 95.33011272141707 |\n",
            "|    SGD Classifier   | 96.34997316156736 |\n",
            "+---------------------+-------------------+\n",
            "F1 Scores for each model\n",
            "+---------------------+-------------------+\n",
            "|        Model        |      F1 Score     |\n",
            "+---------------------+-------------------+\n",
            "|    Neural Network   |        0.0        |\n",
            "|       LightGBM      | 97.40932642487047 |\n",
            "| Logistic Regression |  96.0328317373461 |\n",
            "|    SGD Classifier   | 97.02537182852143 |\n",
            "+---------------------+-------------------+\n"
          ]
        }
      ],
      "source": [
        "# Define the data for the table\n",
        "accuracy_score_data = [\n",
        "  [\"Neural Network\", nn_accuracy_score],\n",
        "  [\"LightGBM\", lgbm_accuracy_score],\n",
        "  [\"Logistic Regression\", logReg_accuracy_score],\n",
        "  [\"SGD Classifier\", sgd_accuracy_score]\n",
        "]\n",
        "\n",
        "# Define the headers for the table\n",
        "headers = [\"Model\", \"Accuracy Score\"]\n",
        "\n",
        "# Create a new table\n",
        "accuracy_score_table = pt.PrettyTable(headers)\n",
        "\n",
        "# Add rows to the table\n",
        "for row in accuracy_score_data:\n",
        "  accuracy_score_table.add_row(row)\n",
        "\n",
        "# Print the table\n",
        "print(\"Accuracy Scores for each model\")\n",
        "print(accuracy_score_table)\n",
        "\n",
        "# Define the data for the table\n",
        "f1_score_data = [\n",
        "  [\"Neural Network\", nn_f1_score],\n",
        "  [\"LightGBM\", lgbm_f1_score],\n",
        "  [\"Logistic Regression\", logReg_f1_score],\n",
        "  [\"SGD Classifier\", sgd_f1_score]\n",
        "]\n",
        "\n",
        "# Define the headers for the table\n",
        "headers = [\"Model\", \"F1 Score\"]\n",
        "\n",
        "# Create a new table\n",
        "f1_score_table = pt.PrettyTable(headers)\n",
        "\n",
        "# Add rows to the table\n",
        "for row in f1_score_data:\n",
        "  f1_score_table.add_row(row)\n",
        "\n",
        "# Print the table\n",
        "print(\"F1 Scores for each model\")\n",
        "print(f1_score_table)"
      ]
    },
    {
      "cell_type": "code",
      "execution_count": null,
      "metadata": {},
      "outputs": [
        {
          "data": {
            "image/png": "[encoded data removed]",
            "text/plain": [
              "<Figure size 1200x800 with 1 Axes>"
            ]
          },
          "metadata": {},
          "output_type": "display_data"
        }
      ],
      "source": [
        "# Data for different models and their corresponding scores\n",
        "models = ['Neural Network', 'LightGBM', 'Logistic Regression', 'SGD Classifier']\n",
        "\n",
        "precision_macro_scores = [nn_macro_avg_precision, lgbm_macro_avg_precision, logReg_macro_avg_precision, sgd_macro_avg_precision]\n",
        "precision_weighted_scores = [nn_weighted_avg_precision, lgbm_weighted_avg_precision, logReg_weighted_avg_precision, sgd_weighted_avg_precision]\n",
        "recall_macro_scores = [nn_macro_avg_recall, lgbm_macro_avg_recall, logReg_macro_avg_recall, sgd_macro_avg_recall]\n",
        "recall_weighted_scores = [nn_weighted_avg_recall, lgbm_weighted_avg_recall, logReg_weighted_avg_recall, sgd_weighted_avg_recall]\n",
        "\n",
        "# Plotting\n",
        "plt.figure(figsize=(12, 8))\n",
        "\n",
        "# Plot macro_avg_precision scores\n",
        "plt.plot(models, precision_macro_scores, marker='o', label='Macro Precision', color='b')\n",
        "# Plot weighted_avg_precision scores\n",
        "plt.plot(models, precision_weighted_scores, marker='o', label='Weighted Precision', color='g')\n",
        "# Plot macro_avg_recall scores\n",
        "plt.plot(models, recall_macro_scores, marker='o', label='Macro Recall', color='r')\n",
        "# Plot weighted_avg_recall scores\n",
        "plt.plot(models, recall_weighted_scores, marker='o', label='Weighted Recall', color='c')\n",
        "\n",
        "plt.xlabel('Models')\n",
        "plt.ylabel('Scores')\n",
        "plt.title('Model Comparison')\n",
        "plt.legend()\n",
        "plt.xticks(rotation=45)\n",
        "plt.grid(True)\n",
        "plt.tight_layout()\n",
        "plt.show()"
      ]
    },
    {
      "cell_type": "markdown",
      "metadata": {},
      "source": [
        "# 7 Export Models for further usage"
      ]
    },
    {
      "cell_type": "code",
      "execution_count": null,
      "metadata": {},
      "outputs": [],
      "source": [
        "nn_model.save('nn_model.keras')"
      ]
    },
    {
      "cell_type": "code",
      "execution_count": null,
      "metadata": {},
      "outputs": [
        {
          "data": {
            "text/plain": [
              "['lgbm_model.pkl']"
            ]
          },
          "execution_count": 30,
          "metadata": {},
          "output_type": "execute_result"
        }
      ],
      "source": [
        "joblib.dump(lgbm_model, 'lgbm_model.pkl')"
      ]
    },
    {
      "cell_type": "code",
      "execution_count": null,
      "metadata": {},
      "outputs": [
        {
          "data": {
            "text/plain": [
              "['logisticRegression.pkl']"
            ]
          },
          "execution_count": 31,
          "metadata": {},
          "output_type": "execute_result"
        }
      ],
      "source": [
        "joblib.dump(logisticRegression, 'logisticRegression.pkl')"
      ]
    },
    {
      "cell_type": "code",
      "execution_count": null,
      "metadata": {},
      "outputs": [
        {
          "data": {
            "text/plain": [
              "['sgdClassifier.pkl']"
            ]
          },
          "execution_count": 33,
          "metadata": {},
          "output_type": "execute_result"
        }
      ],
      "source": [
        "joblib.dump(sgdClassifier, 'sgdClassifier.pkl')"
      ]
    }
  ],
  "metadata": {
    "colab": {
      "provenance": [],
      "toc_visible": true
    },
    "kernelspec": {
      "display_name": "Python 3",
      "name": "python3"
    },
    "language_info": {
      "codemirror_mode": {
        "name": "ipython",
        "version": 3
      },
      "file_extension": ".py",
      "mimetype": "text/x-python",
      "name": "python",
      "nbconvert_exporter": "python",
      "pygments_lexer": "ipython3",
      "version": "3.11.3"
    }
  },
  "nbformat": 4,
  "nbformat_minor": 0
}
