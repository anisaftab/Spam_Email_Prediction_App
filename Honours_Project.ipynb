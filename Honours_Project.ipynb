{
  "cells": [
    {
      "cell_type": "markdown",
      "metadata": {},
      "source": [
        "# Phishing and Spam Detection Using Various Machine Learning Algorithms"
      ]
    },
    {
      "cell_type": "markdown",
      "metadata": {
        "id": "agJ7dWLclIr-"
      },
      "source": [
        "# 1 Introduction"
      ]
    },
    {
      "cell_type": "markdown",
      "metadata": {},
      "source": [
        "Authors: Anisaftab Saiyed, Terrence Manly-Elliott, Noah Ndahirwa\n",
        "Supervisor: Mohamad Hoda"
      ]
    },
    {
      "cell_type": "markdown",
      "metadata": {},
      "source": [
        "In this research project, our objective is to develop machine learning models that can effectively detect spam and phishing emails. Spam and phishing emails pose significant threats to individuals and organizations, as they aim to deceive recipients and extract sensitive information or engage in malicious activities.\n",
        "\n",
        "The detection of spam and phishing emails is a challenging task due to the constantly evolving techniques used by attackers. Machine learning algorithms provide a promising approach to tackle this problem by leveraging patterns and features within email content, headers, and metadata.\n",
        "\n",
        "By training machine learning models on a diverse dataset of labeled emails, we aim to build robust classifiers that can accurately identify and classify spam and phishing emails. These models will be capable of distinguishing between legitimate emails and malicious ones, enabling users to take appropriate actions to protect themselves and their organizations.\n",
        "\n",
        "Throughout this research project, we will explore various machine learning algorithms, including logistic regression, support vector machines, random forests, and neural networks. We will evaluate the performance of these models using metrics such as accuracy, precision, recall, and F1-score.\n",
        "\n",
        "The outcomes of this research project have the potential to contribute to the development of effective email filtering systems and enhance email security for individuals and organizations. By improving the detection of spam and phishing emails, we can mitigate the risks associated with cyber threats and safeguard sensitive information."
      ]
    },
    {
      "cell_type": "markdown",
      "metadata": {
        "id": "zy7hgvzUlN6F"
      },
      "source": [
        "# 2 Imports"
      ]
    },
    {
      "cell_type": "code",
      "execution_count": 526,
      "metadata": {
        "id": "0EK7JymQAVJT"
      },
      "outputs": [],
      "source": [
        "import pandas as pd\n",
        "import numpy as np\n",
        "import re\n",
        "import quopri\n",
        "import spacy\n",
        "import gc\n",
        "import os\n",
        "import warnings\n",
        "import lightgbm as lgb\n",
        "import tensorflow as tf\n",
        "import matplotlib.pyplot as plt\n",
        "import prettytable as pt\n",
        "import string\n",
        "import seaborn as sns\n",
        "from nltk.corpus import stopwords\n",
        "from sklearn.feature_extraction.text import TfidfVectorizer\n",
        "from sklearn.model_selection import train_test_split\n",
        "from sklearn.linear_model import LogisticRegression, SGDClassifier\n",
        "from bs4 import BeautifulSoup\n",
        "from email import message_from_string\n",
        "from sklearn.metrics import accuracy_score,f1_score,classification_report,ConfusionMatrixDisplay,confusion_matrix\n",
        "from tensorflow.keras.preprocessing.text import Tokenizer\n",
        "from tensorflow.keras.preprocessing.sequence import pad_sequences\n",
        "from sklearn.preprocessing import LabelEncoder\n",
        "from sklearn.model_selection import KFold\n",
        "from tensorflow.keras.models import load_model\n",
        "import joblib\n",
        "\n",
        "spam_vectorizer = TfidfVectorizer(\n",
        "    max_features= 30000, \n",
        "    stop_words='english',\n",
        "    lowercase=True\n",
        "    )\n",
        "\n",
        "phish_vectorizer = TfidfVectorizer(\n",
        "    max_features= 30000, \n",
        "    stop_words='english',\n",
        "    lowercase=True,\n",
        "    )"
      ]
    },
    {
      "cell_type": "code",
      "execution_count": 527,
      "metadata": {
        "id": "OdytMGFPYbiH"
      },
      "outputs": [],
      "source": [
        "warnings.filterwarnings('ignore')"
      ]
    },
    {
      "cell_type": "markdown",
      "metadata": {
        "id": "D5MsDU2mlQ4V"
      },
      "source": [
        "# 3 Data Preparation"
      ]
    },
    {
      "cell_type": "markdown",
      "metadata": {
        "id": "DsLL4fzjgEQc"
      },
      "source": [
        "## Text Preprocessor"
      ]
    },
    {
      "cell_type": "code",
      "execution_count": 528,
      "metadata": {
        "id": "29OQwXefgD5q"
      },
      "outputs": [],
      "source": [
        "def preprocess(text):\n",
        "    #Convert all text to lowercase\n",
        "    text = text.lower()\n",
        "    #Removing special whitespace characters\n",
        "    text = re.sub(r\"\\s+\", \" \", text)\n",
        "\n",
        "    #Convert html to plain text\n",
        "    soup = BeautifulSoup(text, \"html.parser\")\n",
        "    text = soup.get_text()\n",
        "\n",
        "    #Trim whitespaces\n",
        "    text = text.strip()\n",
        "\n",
        "    #Replace phone numbers with placeholder\n",
        "    phone_pattern = re.compile(\n",
        "        r'(\\+?\\d{1,2}[-.\\s]?)?'       \n",
        "        r'(\\(?\\d{2,4}\\)?[-.\\s]?)'     \n",
        "        r'\\d{2,3}[-.\\s]?'            \n",
        "        r'\\d{3,4}'                    \n",
        "    )\n",
        "    text = re.sub(phone_pattern, 'PHONE', text)\n",
        "\n",
        "    url_pattern = r'\\b(?:http|ftp|https)://[^\\s()<>]+(?:\\([\\w\\d]+\\)|([^[:punct:]\\s]|/))'\n",
        "    text = re.sub(url_pattern, 'URL', text)\n",
        "\n",
        "    return text"
      ]
    },
    {
      "cell_type": "markdown",
      "metadata": {
        "id": "GCTRulEOnOed"
      },
      "source": [
        "## 3.1 Spam Dataset"
      ]
    },
    {
      "cell_type": "markdown",
      "metadata": {
        "id": "hs840Ja5nUUP"
      },
      "source": [
        "### 3.1.1 Data Extraction"
      ]
    },
    {
      "cell_type": "code",
      "execution_count": 529,
      "metadata": {
        "id": "0gOhuxGEa5rU"
      },
      "outputs": [
        {
          "data": {
            "text/html": [
              "<div>\n",
              "<style scoped>\n",
              "    .dataframe tbody tr th:only-of-type {\n",
              "        vertical-align: middle;\n",
              "    }\n",
              "\n",
              "    .dataframe tbody tr th {\n",
              "        vertical-align: top;\n",
              "    }\n",
              "\n",
              "    .dataframe thead th {\n",
              "        text-align: right;\n",
              "    }\n",
              "</style>\n",
              "<table border=\"1\" class=\"dataframe\">\n",
              "  <thead>\n",
              "    <tr style=\"text-align: right;\">\n",
              "      <th></th>\n",
              "      <th>Spam</th>\n",
              "      <th>Email</th>\n",
              "    </tr>\n",
              "  </thead>\n",
              "  <tbody>\n",
              "    <tr>\n",
              "      <th>20</th>\n",
              "      <td>1</td>\n",
              "      <td>&lt;!-- saved from url=3D(0022)http://internet.e-mail --&gt;\\n\\n&lt;!DOCTYPE HTML PUBLIC \"-//W3C//DTD HTML 4.0 Transitional//EN\"&gt;\\n\\n&lt;HTML&gt;&lt;HEAD&gt;\\n\\n&lt;META http-equiv=3DContent-Type content=3D\"text/html; charset=3Diso-8859-1=\\n\\n\"&gt;\\n\\n&lt;/HEAD&gt;\\n\\n&lt;BODY&gt;\\n\\n&lt;TABLE height=3D400 cellSpacing=3D0 cellPadding=3D0 width=3D450 align=3Dce=\\n\\nnter border=3D0&gt;\\n\\n  &lt;TBODY&gt;\\n\\n  &lt;TR&gt;\\n\\n    &lt;TD colSpan=3D2&gt;&lt;A href=3D\"http://marketing-fashion.com/user0201/index=\\n\\nasp?Afft=3DQM12\"&gt;&lt;IMG height=3D38 src=3D\"http://61.129.68.17/mortgage/h1.=\\n\\ngif\" width=3D450 border=3D0&gt;&lt;/A&gt;&lt;/TD&gt;&lt;/TR&gt;\\n\\n  &lt;TR&gt;\\n\\n    &lt;TD width=3D138 height=3D178&gt;&lt;A href=3D\"http://marketing-fashion.com/u=\\n\\nser0201/index.asp?Afft=3DQM12\"&gt;&lt;IMG height=3D178 src=3D\"http://61.129.68.1=\\n\\n7/mortgage/bullets.gif\" width=3D138 border=3D0&gt;&lt;/A&gt;&lt;/TD&gt;\\n\\n    &lt;TD width=3D312 height=3D178&gt;&lt;A href=3D\"http://marketing-fashion.com/u=\\n\\nser0201/index.asp?Afft=3DQM12\"&gt;&lt;IMG height=3D178 src=3D\"http://61.129.68.1=\\n\\n7/mortgage/family.jpg\" width=3D312 bord...</td>\n",
              "    </tr>\n",
              "    <tr>\n",
              "      <th>21</th>\n",
              "      <td>1</td>\n",
              "      <td>&lt;html&gt;\\n\\n\\n\\n&lt;head&gt;\\n\\n&lt;meta http-equiv=\"Content-Type\" content=\"text/html; charset=windows-1252\"&gt;\\n\\n&lt;meta name=\"GENERATOR\" content=\"Microsoft FrontPage 4.0\"&gt;\\n\\n&lt;meta name=\"ProgId\" content=\"FrontPage.Editor.Document\"&gt;\\n\\n&lt;title&gt;Check the REPORTS you would like to receive&lt;/title&gt;\\n\\n&lt;meta http-equiv=\"Content-Type\" content=\"text/html; charset=iso-8859-1\"&gt;\\n\\n&lt;style&gt;\\n\\nA{color:navy; text-decoration:none; font-weight:bold; font-family:arial,helvetica,sans-serif}\\n\\nA:hover{color:red; text-decoration:none; font-weight:bold; font-family:arial,helvetica,sans-serif}\\n\\nA:active{color:ffcc00; text-decoration:none; font-weight:bold; font-family:arial,helvetica,sans-serif}\\n\\nA:visited{color:ffcc00; text-decoration:none; font-weight:bold; font-family:arial,helvetica,sans-serif}\\n\\nBODY{color:black; font-family:verdana}\\n\\nTD{font-family:arial,helvetica,sans-serif}\\n\\n&lt;/style&gt;\\n\\n\\n\\n&lt;/head&gt;\\n\\n&lt;body bgcolor=\"#C0C0C0\" text=\"#003366\"&gt;\\n\\n&lt;div align=\"center\"&gt;&lt;center&gt;\\n\\n\\n\\n&lt;form action=\"http...</td>\n",
              "    </tr>\n",
              "    <tr>\n",
              "      <th>22</th>\n",
              "      <td>1</td>\n",
              "      <td>\\n\\nWET, HORNY AND DIRTY GRANDMAS!\\n\\n\\n\\nRemember how you lusted after your friend's mum in high\\n\\nschool? She was 46 and you were 15? Remember the time\\n\\nwhen she bent over to do her gardening and you saw her\\n\\nsagging breasts through the v-neck opening of her summer\\n\\ndress? She was OLD and you LOVED her! All you wanted to\\n\\ndo was FUK that Dirty Old Mole BLUE! You can now! Follow\\n\\nthe link below to see just how OLD &amp; DIRTY these moles are!\\n\\nhttp://62.16.101.30/jump2/index.html\\n\\n\\n\\n\\n\\n\\n\\n\\n\\n\\n\\n\\n\\n\\n\\n\\n\\n\\n\\n\\n\\n\\n\\n\\n\\n\\n\\n\\n\\n\\n\\n\\n\\n\\n\\n\\n\\n\\n\\n\\n\\n\\n\\n\\n\\n\\n\\nRemove here:\\n\\nhttp://62.16.101.30/jump1/remove.html\\n\\n\\n\\n\\n</td>\n",
              "    </tr>\n",
              "    <tr>\n",
              "      <th>23</th>\n",
              "      <td>1</td>\n",
              "      <td>&lt;!DOCTYPE HTML PUBLIC \"-//W3C//DTD HTML 4.0 Transitional//EN\"&gt;\\n\\n&lt;HTML&gt;&lt;HEAD&gt;&lt;TITLE&gt;Beautiful,Custom Websites for $349 Complete!&lt;/TITLE&gt;\\n\\n&lt;STYLE&gt;&lt;/STYLE&gt;\\n\\n&lt;/head&gt;\\n\\n&lt;BODY text=#000000 vLink=#000080 aLink=#000080 link=#000080 bgColor=#000080 \\n\\ntopMargin=7&gt;\\n\\n&lt;CENTER&gt;\\n\\n&lt;TABLE borderColor=#000000 height=368 cellSpacing=0 cellPadding=3 width=575 \\n\\nbgColor=#79a5ff border=1&gt;\\n\\n  &lt;TBODY&gt;\\n\\n  &lt;TR&gt;\\n\\n    &lt;TD width=565 bgColor=#000000 height=22&gt;\\n\\n      &lt;P align=center&gt;&lt;FONT face=Arial color=#ffffff&gt;&lt;B&gt;Beautiful, 100% Custom \\n\\n      Websites, $349 Complete!&lt;/B&gt;&lt;/FONT&gt;&lt;/P&gt;&lt;/TD&gt;&lt;/TR&gt;\\n\\n  &lt;TR&gt;\\n\\n    &lt;TD vAlign=top width=565 height=318&gt;\\n\\n      &lt;DIV align=center&gt;\\n\\n      &lt;TABLE style=\"WIDTH: 555px\" height=341 cellSpacing=0 cellPadding=0 \\n\\n      width=\"60%\" border=0&gt;\\n\\n        &lt;TBODY&gt;\\n\\n        &lt;TR&gt;\\n\\n          &lt;TD width=\"100%\" height=366&gt;\\n\\n            &lt;DIV align=center&gt;\\n\\n            &lt;TABLE borderColor=#000000 height=5 cellSpacing=0 cellPadding=5 \\n\\n            wi...</td>\n",
              "    </tr>\n",
              "    <tr>\n",
              "      <th>24</th>\n",
              "      <td>1</td>\n",
              "      <td>------=_NextPart_000_00C2_37C70C2D.A8844B81\\n\\nContent-Type: text/html; charset=\"iso-8859-1\"\\n\\nContent-Transfer-Encoding: base64\\n\\n\\n\\n\\n\\nPCFET0NUWVBFIEhUTUwgUFVCTElDICItLy9XM0MvL0RURCBIVE1MIDQuMDEg\\n\\nVHJhbnNpdGlvbmFsLy9FTiI+DQo8aHRtbD4NCjxoZWFkPg0KPHRpdGxlPkFk\\n\\ndWx0IENsYXNzaWZpZWQgMmsyPC90aXRsZT4NCjxtZXRhIGh0dHAtZXF1aXY9\\n\\nIkNvbnRlbnQtVHlwZSIgY29udGVudD0idGV4dC9odG1sOyBjaGFyc2V0PWlz\\n\\nby04ODU5LTEiPg0KPC9oZWFkPg0KDQo8Ym9keSBiZ2NvbG9yPSIjRkZGRkZG\\n\\nIiBsaW5rPSIjQ0M5OTk5IiBsZWZ0bWFyZ2luPSIwIiB0b3BtYXJnaW49IjAi\\n\\nIG1hcmdpbndpZHRoPSIwIiBtYXJnaW5oZWlnaHQ9IjAiPg0KDQo8Y2VudGVy\\n\\nPg0KICA8YnI+DQogIDx0YWJsZSB3aWR0aD0iNjAwIiBib3JkZXI9IjAiIGNl\\n\\nbGxzcGFjaW5nPSIwIiBjZWxscGFkZGluZz0iMSI+DQogICAgPHRyPg0KICAg\\n\\nICAgPHRkIGJnY29sb3I9IiM5OTAwMDAiPjx0YWJsZSB3aWR0aD0iNjAwIiBi\\n\\nb3JkZXI9IjAiIGNlbGxzcGFjaW5nPSIwIiBjZWxscGFkZGluZz0iMCI+DQog\\n\\nICAgICAgICAgPHRyPg0KICAgICAgICAgICAgPHRkIGJnY29sb3I9IiNGRkZG\\n\\nRkYiPg0KICAgICAgICAgIA0KICAgICAgICAgIDxkaXYgYWxpZ249InJpZ2h0\\n\\nIj48aW1nIHNyYz0iaHR0cDo...</td>\n",
              "    </tr>\n",
              "    <tr>\n",
              "      <th>25</th>\n",
              "      <td>1</td>\n",
              "      <td>\\n\\nThis is a multi-part message in MIME format.\\n\\n\\n\\n--______BoundaryOfDocument______\\n\\nContent-Type: text/plain\\n\\nContent-Transfer-Encoding: 7bit\\n\\n\\n\\n\\n\\nFREE CD-ROM LESSONS\\n\\nhttp://isis.webstakes.com/play/Isis?ID=89801\\n\\n\\n\\n- Choose from 15 titles\\n\\n- Learn new skills in 1 hour\\n\\n- Compare at $59.95\\n\\n- Quick, easy and FREE!\\n\\n\\n\\nGet FREE* computer learning from Video Professor on a subject of your\\n\\nchoice.  For over 14 years, Video Professor has taught millions of people\\n\\nhow to use their computers, and we can teach you too, FREE.\\n\\n\\n\\nGet Your FREE Lesson Today!\\n\\nhttp://isis.webstakes.com/play/Isis?ID=89801\\n\\n\\n\\nSimple 'What You See Is What You Get' way to learn\\n\\n\\n\\n- Plays like a video on your computer screen\\n\\n- A complete &amp; comprehensive lesson FREE &amp; RISK FREE\\n\\n- Over 3 million satisfied user\\n\\n\\n\\nSelect from these titles available FREE...\\n\\n\\n\\nWindows, Outlook, Excel, Access, Powerpoint, FrontPage, Works, Quicken,\\n\\nInternet, Word, Wor...</td>\n",
              "    </tr>\n",
              "    <tr>\n",
              "      <th>26</th>\n",
              "      <td>1</td>\n",
              "      <td>&lt;META HTTP-EQUIV=\"Content-Type\" CONTENT=\"text/html;charset=iso-8859-1\"&gt;\\n\\n&lt;!DOCTYPE HTML PUBLIC \"-//W3C//DTD HTML 4.0 Transitional//EN\"&gt;\\n\\n&lt;!-- saved from url=(0022)http://internet.e-mail --&gt;&lt;HTML&gt;&lt;HEAD&gt;&lt;TITLE&gt;chase&lt;/TITLE&gt;\\n\\n&lt;META content=\"text/html; charset=iso-8859-1\" http-equiv=Content-Type&gt;\\n\\n&lt;META content=\"MSHTML 5.00.3502.5390\" name=GENERATOR&gt;\\n\\n&lt;STYLE&gt;&lt;/STYLE&gt;\\n\\n&lt;/HEAD&gt;\\n\\n&lt;BODY bgColor=#ffffff&gt;\\n\\n&lt;TABLE border=0 cellPadding=0 cellSpacing=0 width=571&gt;\\n\\n  &lt;TBODY&gt;\\n\\n  &lt;TR&gt;\\n\\n    &lt;TD&gt;&lt;IMG height=1 src=\"images/spacer.gif\" width=22&gt;&lt;/TD&gt;\\n\\n    &lt;TD&gt;&lt;IMG height=1 src=\"images/spacer.gif\" width=108&gt;&lt;/TD&gt;\\n\\n    &lt;TD&gt;&lt;IMG height=1 src=\"images/spacer.gif\" width=35&gt;&lt;/TD&gt;\\n\\n    &lt;TD&gt;&lt;IMG height=1 src=\"images/spacer.gif\" width=200&gt;&lt;/TD&gt;\\n\\n    &lt;TD&gt;&lt;IMG height=1 src=\"images/spacer.gif\" width=206&gt;&lt;/TD&gt;&lt;/TR&gt;\\n\\n  &lt;TR&gt;\\n\\n    &lt;TD rowSpan=9&gt;&lt;/TD&gt;\\n\\n    &lt;TD colSpan=4&gt;&lt;IMG height=49\\n\\n      src=\"http://ad.linksynergy.com/fs-bin/show?id=Hjx6RN57GXo&amp;bids=32459.10000208&amp;type=4\"\\n\\n   ...</td>\n",
              "    </tr>\n",
              "    <tr>\n",
              "      <th>27</th>\n",
              "      <td>1</td>\n",
              "      <td>It was the Spring of 1979.  \\n\\n\\n\\nI was just a tall, goofy looking kid in middle school\\n\\nwith buck-teeth and freckles.  Each day in the\\n\\ncafeteria, I walked from table to table ...\\n\\n\\n\\nStealing other kids' lunch money.\\n\\n\\n\\nNo, I didn't rob them with a gun or a knife - I just made\\n\\nthem a little deal.  \"Let me borrow two dollars today,\" I said,\\n\\n\"and I'll bring you five dollars next week.\"  The investment\\n\\nwas too good to pass up, and other kids were throwing their\\n\\nlunch money at me like gravy on mashed potatoes.  Of course \\n\\nwhen \"next week\" rolled around and I couldn't pony up the cash,\\n\\nI promised to pay them even more the week after that,\\n\\nif they would just let me keep their investment a little bit \\n\\nlonger.\\n\\n\\n\\nEventually the end of the year came and went, high school\\n\\nstarted and with it came girls, and homework, and parties,\\n\\nand sports, and those poor kids from eighth grade had more \\n\\nthings on their mind than last year's lunch money.\\n...</td>\n",
              "    </tr>\n",
              "    <tr>\n",
              "      <th>28</th>\n",
              "      <td>1</td>\n",
              "      <td>Dear User,\\n\\n\\n\\nDo you ever wish you could easily call people you know in other countries\\n\\nfor up to 85% less than standard call prices?! And then to make these savings\\n\\nwithout having to subscribe to any low cost calling service?! We have now\\n\\nlaunched a product that does exactly that!\\n\\n\\n\\nYou can now call people in most popular destinations around the world for\\n\\nonly 33 cents per minute! There are no hidden charges, you do not need to\\n\\nsignup, use any credit cards, or pay any extra bills! You can try this\\n\\nservice at no risk and choose to use it with no commitment!\\n\\n\\n\\nTo use this new service, simply dial our access number 1530 927 055 and\\n\\nonce connected, dial the actual international number you wish to call.\\n\\n\\n\\nFor more information and the current list of countries you can call, \\n\\nplease check our website http://www.ireland.pd-dial.com/\\n\\n\\n\\nExample: If you wanted to call a German number 0567 123 124 you would:\\n\\n\\n\\n1) Dial 1 530 927 055\\n\\n2) Wa...</td>\n",
              "    </tr>\n",
              "    <tr>\n",
              "      <th>29</th>\n",
              "      <td>1</td>\n",
              "      <td>\\n\\n&lt;html&gt;\\n\\n&lt;head&gt;\\n\\n&lt;title&gt;Slim Factors&lt;/title&gt;\\n\\n&lt;meta http-equiv=\"Content-Type\" content=\"text/html; charset=iso-8859-1\"&gt;\\n\\n&lt;style type=\"text/css\"&gt;\\n\\n&lt;!--\\n\\n.t {  font-family: \"Times New Roman\", Times, serif; font-size: 12px; color: #000000}\\n\\n--&gt;\\n\\n&lt;/style&gt;\\n\\n&lt;/head&gt;\\n\\n\\n\\n&lt;body bgcolor=\"#FFFFFF\"&gt;\\n\\n&lt;table width=\"556\" border=\"0\" cellspacing=\"0\" cellpadding=\"0\" align=\"center\"&gt;\\n\\n  &lt;tr&gt; \\n\\n    &lt;td colspan=\"3\"&gt;&lt;img src=\"http://global.zenmarketing.net/c/images/slim/a.jpg\" width=\"556\" height=\"76\"&gt;&lt;/td&gt;\\n\\n  &lt;/tr&gt;\\n\\n  &lt;tr&gt; \\n\\n    &lt;td&gt;&lt;img src=\"http://global.zenmarketing.net/c/images/slim/b.jpg\" width=\"150\" height=\"165\"&gt;&lt;/td&gt;\\n\\n    &lt;td&gt;&lt;img src=\"http://global.zenmarketing.net/c/images/slim/c.jpg\" width=\"161\" height=\"165\"&gt;&lt;/td&gt;\\n\\n    &lt;td&gt;&lt;img src=\"http://global.zenmarketing.net/c/images/slim/d.jpg\" width=\"245\" height=\"165\"&gt;&lt;/td&gt;\\n\\n  &lt;/tr&gt;\\n\\n  &lt;tr&gt; \\n\\n    &lt;td colspan=\"2\"&gt;&lt;img src=\"http://global.zenmarketing.net/c/images/slim/e.jpg\" width=\"311\" height=\"125\" usemap=\"#M...</td>\n",
              "    </tr>\n",
              "  </tbody>\n",
              "</table>\n",
              "</div>"
            ],
            "text/plain": [
              "    Spam  \\\n",
              "20     1   \n",
              "21     1   \n",
              "22     1   \n",
              "23     1   \n",
              "24     1   \n",
              "25     1   \n",
              "26     1   \n",
              "27     1   \n",
              "28     1   \n",
              "29     1   \n",
              "\n",
              "                                                                                                                                                                                                                                                                                                                                                                                                                                                                                                                                                                                                                                                                                                                                                                                                                                                                                                                                                                                                                                      Email  \n",
              "20  <!-- saved from url=3D(0022)http://internet.e-mail -->\\n\\n<!DOCTYPE HTML PUBLIC \"-//W3C//DTD HTML 4.0 Transitional//EN\">\\n\\n<HTML><HEAD>\\n\\n<META http-equiv=3DContent-Type content=3D\"text/html; charset=3Diso-8859-1=\\n\\n\">\\n\\n</HEAD>\\n\\n<BODY>\\n\\n<TABLE height=3D400 cellSpacing=3D0 cellPadding=3D0 width=3D450 align=3Dce=\\n\\nnter border=3D0>\\n\\n  <TBODY>\\n\\n  <TR>\\n\\n    <TD colSpan=3D2><A href=3D\"http://marketing-fashion.com/user0201/index=\\n\\nasp?Afft=3DQM12\"><IMG height=3D38 src=3D\"http://61.129.68.17/mortgage/h1.=\\n\\ngif\" width=3D450 border=3D0></A></TD></TR>\\n\\n  <TR>\\n\\n    <TD width=3D138 height=3D178><A href=3D\"http://marketing-fashion.com/u=\\n\\nser0201/index.asp?Afft=3DQM12\"><IMG height=3D178 src=3D\"http://61.129.68.1=\\n\\n7/mortgage/bullets.gif\" width=3D138 border=3D0></A></TD>\\n\\n    <TD width=3D312 height=3D178><A href=3D\"http://marketing-fashion.com/u=\\n\\nser0201/index.asp?Afft=3DQM12\"><IMG height=3D178 src=3D\"http://61.129.68.1=\\n\\n7/mortgage/family.jpg\" width=3D312 bord...  \n",
              "21  <html>\\n\\n\\n\\n<head>\\n\\n<meta http-equiv=\"Content-Type\" content=\"text/html; charset=windows-1252\">\\n\\n<meta name=\"GENERATOR\" content=\"Microsoft FrontPage 4.0\">\\n\\n<meta name=\"ProgId\" content=\"FrontPage.Editor.Document\">\\n\\n<title>Check the REPORTS you would like to receive</title>\\n\\n<meta http-equiv=\"Content-Type\" content=\"text/html; charset=iso-8859-1\">\\n\\n<style>\\n\\nA{color:navy; text-decoration:none; font-weight:bold; font-family:arial,helvetica,sans-serif}\\n\\nA:hover{color:red; text-decoration:none; font-weight:bold; font-family:arial,helvetica,sans-serif}\\n\\nA:active{color:ffcc00; text-decoration:none; font-weight:bold; font-family:arial,helvetica,sans-serif}\\n\\nA:visited{color:ffcc00; text-decoration:none; font-weight:bold; font-family:arial,helvetica,sans-serif}\\n\\nBODY{color:black; font-family:verdana}\\n\\nTD{font-family:arial,helvetica,sans-serif}\\n\\n</style>\\n\\n\\n\\n</head>\\n\\n<body bgcolor=\"#C0C0C0\" text=\"#003366\">\\n\\n<div align=\"center\"><center>\\n\\n\\n\\n<form action=\"http...  \n",
              "22                                                                                                                                                                                                                                                                                                                                                            \\n\\nWET, HORNY AND DIRTY GRANDMAS!\\n\\n\\n\\nRemember how you lusted after your friend's mum in high\\n\\nschool? She was 46 and you were 15? Remember the time\\n\\nwhen she bent over to do her gardening and you saw her\\n\\nsagging breasts through the v-neck opening of her summer\\n\\ndress? She was OLD and you LOVED her! All you wanted to\\n\\ndo was FUK that Dirty Old Mole BLUE! You can now! Follow\\n\\nthe link below to see just how OLD & DIRTY these moles are!\\n\\nhttp://62.16.101.30/jump2/index.html\\n\\n\\n\\n\\n\\n\\n\\n\\n\\n\\n\\n\\n\\n\\n\\n\\n\\n\\n\\n\\n\\n\\n\\n\\n\\n\\n\\n\\n\\n\\n\\n\\n\\n\\n\\n\\n\\n\\n\\n\\n\\n\\n\\n\\n\\n\\n\\nRemove here:\\n\\nhttp://62.16.101.30/jump1/remove.html\\n\\n\\n\\n\\n  \n",
              "23  <!DOCTYPE HTML PUBLIC \"-//W3C//DTD HTML 4.0 Transitional//EN\">\\n\\n<HTML><HEAD><TITLE>Beautiful,Custom Websites for $349 Complete!</TITLE>\\n\\n<STYLE></STYLE>\\n\\n</head>\\n\\n<BODY text=#000000 vLink=#000080 aLink=#000080 link=#000080 bgColor=#000080 \\n\\ntopMargin=7>\\n\\n<CENTER>\\n\\n<TABLE borderColor=#000000 height=368 cellSpacing=0 cellPadding=3 width=575 \\n\\nbgColor=#79a5ff border=1>\\n\\n  <TBODY>\\n\\n  <TR>\\n\\n    <TD width=565 bgColor=#000000 height=22>\\n\\n      <P align=center><FONT face=Arial color=#ffffff><B>Beautiful, 100% Custom \\n\\n      Websites, $349 Complete!</B></FONT></P></TD></TR>\\n\\n  <TR>\\n\\n    <TD vAlign=top width=565 height=318>\\n\\n      <DIV align=center>\\n\\n      <TABLE style=\"WIDTH: 555px\" height=341 cellSpacing=0 cellPadding=0 \\n\\n      width=\"60%\" border=0>\\n\\n        <TBODY>\\n\\n        <TR>\\n\\n          <TD width=\"100%\" height=366>\\n\\n            <DIV align=center>\\n\\n            <TABLE borderColor=#000000 height=5 cellSpacing=0 cellPadding=5 \\n\\n            wi...  \n",
              "24  ------=_NextPart_000_00C2_37C70C2D.A8844B81\\n\\nContent-Type: text/html; charset=\"iso-8859-1\"\\n\\nContent-Transfer-Encoding: base64\\n\\n\\n\\n\\n\\nPCFET0NUWVBFIEhUTUwgUFVCTElDICItLy9XM0MvL0RURCBIVE1MIDQuMDEg\\n\\nVHJhbnNpdGlvbmFsLy9FTiI+DQo8aHRtbD4NCjxoZWFkPg0KPHRpdGxlPkFk\\n\\ndWx0IENsYXNzaWZpZWQgMmsyPC90aXRsZT4NCjxtZXRhIGh0dHAtZXF1aXY9\\n\\nIkNvbnRlbnQtVHlwZSIgY29udGVudD0idGV4dC9odG1sOyBjaGFyc2V0PWlz\\n\\nby04ODU5LTEiPg0KPC9oZWFkPg0KDQo8Ym9keSBiZ2NvbG9yPSIjRkZGRkZG\\n\\nIiBsaW5rPSIjQ0M5OTk5IiBsZWZ0bWFyZ2luPSIwIiB0b3BtYXJnaW49IjAi\\n\\nIG1hcmdpbndpZHRoPSIwIiBtYXJnaW5oZWlnaHQ9IjAiPg0KDQo8Y2VudGVy\\n\\nPg0KICA8YnI+DQogIDx0YWJsZSB3aWR0aD0iNjAwIiBib3JkZXI9IjAiIGNl\\n\\nbGxzcGFjaW5nPSIwIiBjZWxscGFkZGluZz0iMSI+DQogICAgPHRyPg0KICAg\\n\\nICAgPHRkIGJnY29sb3I9IiM5OTAwMDAiPjx0YWJsZSB3aWR0aD0iNjAwIiBi\\n\\nb3JkZXI9IjAiIGNlbGxzcGFjaW5nPSIwIiBjZWxscGFkZGluZz0iMCI+DQog\\n\\nICAgICAgICAgPHRyPg0KICAgICAgICAgICAgPHRkIGJnY29sb3I9IiNGRkZG\\n\\nRkYiPg0KICAgICAgICAgIA0KICAgICAgICAgIDxkaXYgYWxpZ249InJpZ2h0\\n\\nIj48aW1nIHNyYz0iaHR0cDo...  \n",
              "25  \\n\\nThis is a multi-part message in MIME format.\\n\\n\\n\\n--______BoundaryOfDocument______\\n\\nContent-Type: text/plain\\n\\nContent-Transfer-Encoding: 7bit\\n\\n\\n\\n\\n\\nFREE CD-ROM LESSONS\\n\\nhttp://isis.webstakes.com/play/Isis?ID=89801\\n\\n\\n\\n- Choose from 15 titles\\n\\n- Learn new skills in 1 hour\\n\\n- Compare at $59.95\\n\\n- Quick, easy and FREE!\\n\\n\\n\\nGet FREE* computer learning from Video Professor on a subject of your\\n\\nchoice.  For over 14 years, Video Professor has taught millions of people\\n\\nhow to use their computers, and we can teach you too, FREE.\\n\\n\\n\\nGet Your FREE Lesson Today!\\n\\nhttp://isis.webstakes.com/play/Isis?ID=89801\\n\\n\\n\\nSimple 'What You See Is What You Get' way to learn\\n\\n\\n\\n- Plays like a video on your computer screen\\n\\n- A complete & comprehensive lesson FREE & RISK FREE\\n\\n- Over 3 million satisfied user\\n\\n\\n\\nSelect from these titles available FREE...\\n\\n\\n\\nWindows, Outlook, Excel, Access, Powerpoint, FrontPage, Works, Quicken,\\n\\nInternet, Word, Wor...  \n",
              "26  <META HTTP-EQUIV=\"Content-Type\" CONTENT=\"text/html;charset=iso-8859-1\">\\n\\n<!DOCTYPE HTML PUBLIC \"-//W3C//DTD HTML 4.0 Transitional//EN\">\\n\\n<!-- saved from url=(0022)http://internet.e-mail --><HTML><HEAD><TITLE>chase</TITLE>\\n\\n<META content=\"text/html; charset=iso-8859-1\" http-equiv=Content-Type>\\n\\n<META content=\"MSHTML 5.00.3502.5390\" name=GENERATOR>\\n\\n<STYLE></STYLE>\\n\\n</HEAD>\\n\\n<BODY bgColor=#ffffff>\\n\\n<TABLE border=0 cellPadding=0 cellSpacing=0 width=571>\\n\\n  <TBODY>\\n\\n  <TR>\\n\\n    <TD><IMG height=1 src=\"images/spacer.gif\" width=22></TD>\\n\\n    <TD><IMG height=1 src=\"images/spacer.gif\" width=108></TD>\\n\\n    <TD><IMG height=1 src=\"images/spacer.gif\" width=35></TD>\\n\\n    <TD><IMG height=1 src=\"images/spacer.gif\" width=200></TD>\\n\\n    <TD><IMG height=1 src=\"images/spacer.gif\" width=206></TD></TR>\\n\\n  <TR>\\n\\n    <TD rowSpan=9></TD>\\n\\n    <TD colSpan=4><IMG height=49\\n\\n      src=\"http://ad.linksynergy.com/fs-bin/show?id=Hjx6RN57GXo&bids=32459.10000208&type=4\"\\n\\n   ...  \n",
              "27  It was the Spring of 1979.  \\n\\n\\n\\nI was just a tall, goofy looking kid in middle school\\n\\nwith buck-teeth and freckles.  Each day in the\\n\\ncafeteria, I walked from table to table ...\\n\\n\\n\\nStealing other kids' lunch money.\\n\\n\\n\\nNo, I didn't rob them with a gun or a knife - I just made\\n\\nthem a little deal.  \"Let me borrow two dollars today,\" I said,\\n\\n\"and I'll bring you five dollars next week.\"  The investment\\n\\nwas too good to pass up, and other kids were throwing their\\n\\nlunch money at me like gravy on mashed potatoes.  Of course \\n\\nwhen \"next week\" rolled around and I couldn't pony up the cash,\\n\\nI promised to pay them even more the week after that,\\n\\nif they would just let me keep their investment a little bit \\n\\nlonger.\\n\\n\\n\\nEventually the end of the year came and went, high school\\n\\nstarted and with it came girls, and homework, and parties,\\n\\nand sports, and those poor kids from eighth grade had more \\n\\nthings on their mind than last year's lunch money.\\n...  \n",
              "28  Dear User,\\n\\n\\n\\nDo you ever wish you could easily call people you know in other countries\\n\\nfor up to 85% less than standard call prices?! And then to make these savings\\n\\nwithout having to subscribe to any low cost calling service?! We have now\\n\\nlaunched a product that does exactly that!\\n\\n\\n\\nYou can now call people in most popular destinations around the world for\\n\\nonly 33 cents per minute! There are no hidden charges, you do not need to\\n\\nsignup, use any credit cards, or pay any extra bills! You can try this\\n\\nservice at no risk and choose to use it with no commitment!\\n\\n\\n\\nTo use this new service, simply dial our access number 1530 927 055 and\\n\\nonce connected, dial the actual international number you wish to call.\\n\\n\\n\\nFor more information and the current list of countries you can call, \\n\\nplease check our website http://www.ireland.pd-dial.com/\\n\\n\\n\\nExample: If you wanted to call a German number 0567 123 124 you would:\\n\\n\\n\\n1) Dial 1 530 927 055\\n\\n2) Wa...  \n",
              "29  \\n\\n<html>\\n\\n<head>\\n\\n<title>Slim Factors</title>\\n\\n<meta http-equiv=\"Content-Type\" content=\"text/html; charset=iso-8859-1\">\\n\\n<style type=\"text/css\">\\n\\n<!--\\n\\n.t {  font-family: \"Times New Roman\", Times, serif; font-size: 12px; color: #000000}\\n\\n-->\\n\\n</style>\\n\\n</head>\\n\\n\\n\\n<body bgcolor=\"#FFFFFF\">\\n\\n<table width=\"556\" border=\"0\" cellspacing=\"0\" cellpadding=\"0\" align=\"center\">\\n\\n  <tr> \\n\\n    <td colspan=\"3\"><img src=\"http://global.zenmarketing.net/c/images/slim/a.jpg\" width=\"556\" height=\"76\"></td>\\n\\n  </tr>\\n\\n  <tr> \\n\\n    <td><img src=\"http://global.zenmarketing.net/c/images/slim/b.jpg\" width=\"150\" height=\"165\"></td>\\n\\n    <td><img src=\"http://global.zenmarketing.net/c/images/slim/c.jpg\" width=\"161\" height=\"165\"></td>\\n\\n    <td><img src=\"http://global.zenmarketing.net/c/images/slim/d.jpg\" width=\"245\" height=\"165\"></td>\\n\\n  </tr>\\n\\n  <tr> \\n\\n    <td colspan=\"2\"><img src=\"http://global.zenmarketing.net/c/images/slim/e.jpg\" width=\"311\" height=\"125\" usemap=\"#M...  "
            ]
          },
          "execution_count": 529,
          "metadata": {},
          "output_type": "execute_result"
        }
      ],
      "source": [
        "spam_df = pd.read_csv(\"https://raw.githubusercontent.com/terrenceme/Honours_Project/main/Spam%20Email%20raw%20text%20for%20NLP.csv\")\n",
        "spam_df.rename(columns={'MESSAGE' : 'Email','CATEGORY': 'Spam'}, inplace=True)\n",
        "# Display the entire content of MESSAGE column\n",
        "pd.set_option('display.max_colwidth', 1000)\n",
        "\n",
        "#Removing unrequired column\n",
        "spam_df.drop(columns=['FILE_NAME'], inplace=True)\n",
        "\n",
        "spam_df[20:30]"
      ]
    },
    {
      "cell_type": "markdown",
      "metadata": {
        "id": "F0HnOT3bnEq9"
      },
      "source": [
        "### 3.1.2 Text Preprocessing\n"
      ]
    },
    {
      "cell_type": "code",
      "execution_count": 530,
      "metadata": {
        "colab": {
          "base_uri": "https://localhost:8080/",
          "height": 1000
        },
        "id": "P8l1SVF2Ylkj",
        "outputId": "3c674000-61a3-4c43-8e28-0d8dc7987767"
      },
      "outputs": [
        {
          "data": {
            "text/html": [
              "<div>\n",
              "<style scoped>\n",
              "    .dataframe tbody tr th:only-of-type {\n",
              "        vertical-align: middle;\n",
              "    }\n",
              "\n",
              "    .dataframe tbody tr th {\n",
              "        vertical-align: top;\n",
              "    }\n",
              "\n",
              "    .dataframe thead th {\n",
              "        text-align: right;\n",
              "    }\n",
              "</style>\n",
              "<table border=\"1\" class=\"dataframe\">\n",
              "  <thead>\n",
              "    <tr style=\"text-align: right;\">\n",
              "      <th></th>\n",
              "      <th>Email</th>\n",
              "      <th>Spam</th>\n",
              "    </tr>\n",
              "  </thead>\n",
              "  <tbody>\n",
              "    <tr>\n",
              "      <th>30</th>\n",
              "      <td>toy    abc's good morning america ranks it the #1 christmas toy of the seaso= n!  \"the new 3-inch mini remote control cars are out of stock eve= rywhere! parents are searching frantically but having no luck. there are millio= ns of kids expecting these for the holiday season, lets hope somebody gets t= hem in or santa may be in trouble!\" dianne sawyer, nov 2002 sold out in all stores accross the country. retail price is $59.99. w= e have limited stock and free shipping for only $29.95! check out this years hott= est toy!   unsubs= cribe forever</td>\n",
              "      <td>1</td>\n",
              "    </tr>\n",
              "    <tr>\n",
              "      <th>31</th>\n",
              "      <td>cell booster antenna      boost your reception on any cell phone or cordless       300% more clarity! don't buy another phone because of bad recepiton. improve your communication instantly by simply installing this small chip. powerful reception booster save 70%... as seen on t.v.! no other product compares! ultra-thin and transparent installs in a second! power of a 4ft antenna! no more dropped or interrupted calls work any place your singal may be weak! advertised on t.v. for over 3 times the price. click here now \"...it was so easy to install...\" to be removed from our database, click here.</td>\n",
              "      <td>1</td>\n",
              "    </tr>\n",
              "    <tr>\n",
              "      <th>32</th>\n",
              "      <td>do you want to teach and grow rich? if you are a motivated and qualified communicator, i will personally train you to do 3 20 minute presentations per day to qualify prospects that i can provide to you. we will demonstrate to you that you can make $400 a day part time using this system. or, if you have 20 hours per week, as in my case, you can make in excess of $10,000 per week, as i am currently generating (verifiable, by the way). plus i will introduce you to my mentor who makes well in excess of $1,000,000 annually. many are called, few are chosen. make the call and call the 24 hour pre-recorded message number below. we will take as much or as little time as you need to see if this program is right for you. *** PHONE *** please do not make this call unless you are genuinely money motivated and qualified. i need people who already have people skills in place and have either made large amounts of money in the past or are ready to generate large amounts of money in the future. look...</td>\n",
              "      <td>1</td>\n",
              "    </tr>\n",
              "    <tr>\n",
              "      <th>33</th>\n",
              "      <td>new - new - new in the market just released: 300 million email addresses--database fully exportable, on 3 cds!! 300 million email addresses--database fully exportable, on 3 cds!! =only $99.95 ** contains us &amp; international emails ** with 1.5 million usa business fully exportable fax numbers, all two directories above (300 million and faxes #) ** only $99.95 ** both email directories are categorized email address cdrom (300 million addresses) more than 134 categories such as: usa--50 states and area code: contains e-mail addresses of people living in all 50 states. each state is broken down by area codes. canada and area code: contains e-mail addresses of people living in canada. each province is broken down by area codes adult: contains e-mail addresses of people interested in adult content auto: contains e-mail addresses of people interested in automotive content canada: contains e-mail addresses of people living in canada. each province is broken down by area codes. classifieds: ...</td>\n",
              "      <td>1</td>\n",
              "    </tr>\n",
              "    <tr>\n",
              "      <th>34</th>\n",
              "      <td>earn extra income from home. here is tremendous opportunity to earn big money. we are a multimillion company that is growing at a rate of 1000% per year. we are looking for motivated individuals who are looking to earn a substantial income from home. this is what you been waiting for a chance to be financially secure. earn extra income from home. here is a tremendous opportunity to earn no experience is required. we will provide the training you may need. we are looking for energetic and self- motivated people that want to change their life. if that is you click the link below and complete our online information request form, and one of our employment specialist will contact you. http://ter.netblah.com:27000 got nothing to lose and a lot to gain, with a career that will provide you cast opportunities and substantial income. please fill our online information request form here: http://ter.netblah.com:27000 to remove from our list simply click on the link below now: URLremove.html 99...</td>\n",
              "      <td>1</td>\n",
              "    </tr>\n",
              "    <tr>\n",
              "      <th>35</th>\n",
              "      <td>dear sir or madam: please reply to receiver: china enterprise management co., ltd. (cmc) e-mail: unido@chinatop.net as one technical organization supported by china investment and technical promotion office of united nation industry development organization (unido), we cooperate closely with the relevant chinese quality supervision and standardization information organization. we provide the most valuable consulting services to help you to open chinese market within the shortest time: 1. consulting service on mandatory national standards of the people's republic of china. 2. consulting service on inspection and quarantine standards of the people's republic of china. 3. consulting service for permission to enter chinese market we are very sorry to disturb you! more information, please check our world wide web: http://www.chinatop.net sincerely yours</td>\n",
              "      <td>1</td>\n",
              "    </tr>\n",
              "    <tr>\n",
              "      <th>36</th>\n",
              "      <td>lowest rates available for term life insurance! take a moment and fill out our online form to see the low rate you qualify for. save up to 70% from regular rates! smokers accepted! URL representing quality nationwide carriers. act now! --------------------------------------- to easily remove your address from the list, go to: URL please allow 48-72 hours for removal.</td>\n",
              "      <td>1</td>\n",
              "    </tr>\n",
              "    <tr>\n",
              "      <th>37</th>\n",
              "      <td>untitled   copy dvd mov= ies?  yes! copy and burn your own dvd movies and video with a cd-r drive.  * order by september 21, = 2002, and receive the following free gifts! 1. \"free dvd movie of your choice ($20.00 value) 2. cell phone battery booster ($19.95 value) own all the dvd's you've always wanted and start burning today! .  click here now!</td>\n",
              "      <td>1</td>\n",
              "    </tr>\n",
              "    <tr>\n",
              "      <th>38</th>\n",
              "      <td>dear valued member, offerclub would like to thank you for the opportunity to present you with valuable offers. you are on this list as you indicated that you would like to receive special offers from trusted third parties via email from us or one of our marketing partners. we maintain a high level of customer satisfaction by ensuring periodically that we are presenting third party information that you find important and useful. to keep hearing from us every so often do nothing. we hope you'll stick around to check out our valuable content, but if you do not wish to receive our emails please unsubscribe now by clicking here. thank you, offerclub -------------------------------------------------------------------------------- important: if this message was sent to you in error, or if you would like to unsubscribe please click the link above or cut and paste the following link into a web browser: URLunsubscribe.php?eid=\\~moc.cnietonten^^mj\\~PHONE\\~12a1 --------------------------------...</td>\n",
              "      <td>1</td>\n",
              "    </tr>\n",
              "    <tr>\n",
              "      <th>39</th>\n",
              "      <td>dear sir / madam if you are fed up of being 'ripped off' by the british government every time you buy your tobacco, then you should visit our website, where you can now buy 4 cartons of cigarettes, or 40 pouches of rolling tobacco from as little as 170 euros (approx 105 pounds), inclusive of delivery by registered air mail from our office in spain. why pay more??? visit our website at URL?id=2 best regards sales department cheap smoking spain xayPHONEy</td>\n",
              "      <td>1</td>\n",
              "    </tr>\n",
              "  </tbody>\n",
              "</table>\n",
              "</div>"
            ],
            "text/plain": [
              "                                                                                                                                                                                                                                                                                                                                                                                                                                                                                                                                                                                                                                                                                                                                                                                                                                                                                                                                                                                                                                      Email  \\\n",
              "30                                                                                                                                                                                                                                                                                                                                                                                                                                                                   toy    abc's good morning america ranks it the #1 christmas toy of the seaso= n!  \"the new 3-inch mini remote control cars are out of stock eve= rywhere! parents are searching frantically but having no luck. there are millio= ns of kids expecting these for the holiday season, lets hope somebody gets t= hem in or santa may be in trouble!\" dianne sawyer, nov 2002 sold out in all stores accross the country. retail price is $59.99. w= e have limited stock and free shipping for only $29.95! check out this years hott= est toy!   unsubs= cribe forever   \n",
              "31                                                                                                                                                                                                                                                                                                                                                                                                                 cell booster antenna      boost your reception on any cell phone or cordless       300% more clarity! don't buy another phone because of bad recepiton. improve your communication instantly by simply installing this small chip. powerful reception booster save 70%... as seen on t.v.! no other product compares! ultra-thin and transparent installs in a second! power of a 4ft antenna! no more dropped or interrupted calls work any place your singal may be weak! advertised on t.v. for over 3 times the price. click here now \"...it was so easy to install...\" to be removed from our database, click here.   \n",
              "32  do you want to teach and grow rich? if you are a motivated and qualified communicator, i will personally train you to do 3 20 minute presentations per day to qualify prospects that i can provide to you. we will demonstrate to you that you can make $400 a day part time using this system. or, if you have 20 hours per week, as in my case, you can make in excess of $10,000 per week, as i am currently generating (verifiable, by the way). plus i will introduce you to my mentor who makes well in excess of $1,000,000 annually. many are called, few are chosen. make the call and call the 24 hour pre-recorded message number below. we will take as much or as little time as you need to see if this program is right for you. *** PHONE *** please do not make this call unless you are genuinely money motivated and qualified. i need people who already have people skills in place and have either made large amounts of money in the past or are ready to generate large amounts of money in the future. look...   \n",
              "33  new - new - new in the market just released: 300 million email addresses--database fully exportable, on 3 cds!! 300 million email addresses--database fully exportable, on 3 cds!! =only $99.95 ** contains us & international emails ** with 1.5 million usa business fully exportable fax numbers, all two directories above (300 million and faxes #) ** only $99.95 ** both email directories are categorized email address cdrom (300 million addresses) more than 134 categories such as: usa--50 states and area code: contains e-mail addresses of people living in all 50 states. each state is broken down by area codes. canada and area code: contains e-mail addresses of people living in canada. each province is broken down by area codes adult: contains e-mail addresses of people interested in adult content auto: contains e-mail addresses of people interested in automotive content canada: contains e-mail addresses of people living in canada. each province is broken down by area codes. classifieds: ...   \n",
              "34  earn extra income from home. here is tremendous opportunity to earn big money. we are a multimillion company that is growing at a rate of 1000% per year. we are looking for motivated individuals who are looking to earn a substantial income from home. this is what you been waiting for a chance to be financially secure. earn extra income from home. here is a tremendous opportunity to earn no experience is required. we will provide the training you may need. we are looking for energetic and self- motivated people that want to change their life. if that is you click the link below and complete our online information request form, and one of our employment specialist will contact you. http://ter.netblah.com:27000 got nothing to lose and a lot to gain, with a career that will provide you cast opportunities and substantial income. please fill our online information request form here: http://ter.netblah.com:27000 to remove from our list simply click on the link below now: URLremove.html 99...   \n",
              "35                                                                                                                                             dear sir or madam: please reply to receiver: china enterprise management co., ltd. (cmc) e-mail: unido@chinatop.net as one technical organization supported by china investment and technical promotion office of united nation industry development organization (unido), we cooperate closely with the relevant chinese quality supervision and standardization information organization. we provide the most valuable consulting services to help you to open chinese market within the shortest time: 1. consulting service on mandatory national standards of the people's republic of china. 2. consulting service on inspection and quarantine standards of the people's republic of china. 3. consulting service for permission to enter chinese market we are very sorry to disturb you! more information, please check our world wide web: http://www.chinatop.net sincerely yours   \n",
              "36                                                                                                                                                                                                                                                                                                                                                                                                                                                                                                                                                                                                                                                        lowest rates available for term life insurance! take a moment and fill out our online form to see the low rate you qualify for. save up to 70% from regular rates! smokers accepted! URL representing quality nationwide carriers. act now! --------------------------------------- to easily remove your address from the list, go to: URL please allow 48-72 hours for removal.   \n",
              "37                                                                                                                                                                                                                                                                                                                                                                                                                                                                                                                                                                                                                                                                              untitled   copy dvd mov= ies?  yes! copy and burn your own dvd movies and video with a cd-r drive.  * order by september 21, = 2002, and receive the following free gifts! 1. \"free dvd movie of your choice ($20.00 value) 2. cell phone battery booster ($19.95 value) own all the dvd's you've always wanted and start burning today! .  click here now!   \n",
              "38  dear valued member, offerclub would like to thank you for the opportunity to present you with valuable offers. you are on this list as you indicated that you would like to receive special offers from trusted third parties via email from us or one of our marketing partners. we maintain a high level of customer satisfaction by ensuring periodically that we are presenting third party information that you find important and useful. to keep hearing from us every so often do nothing. we hope you'll stick around to check out our valuable content, but if you do not wish to receive our emails please unsubscribe now by clicking here. thank you, offerclub -------------------------------------------------------------------------------- important: if this message was sent to you in error, or if you would like to unsubscribe please click the link above or cut and paste the following link into a web browser: URLunsubscribe.php?eid=\\~moc.cnietonten^^mj\\~PHONE\\~12a1 --------------------------------...   \n",
              "39                                                                                                                                                                                                                                                                                                                                                                                                                                                                                                                                                                 dear sir / madam if you are fed up of being 'ripped off' by the british government every time you buy your tobacco, then you should visit our website, where you can now buy 4 cartons of cigarettes, or 40 pouches of rolling tobacco from as little as 170 euros (approx 105 pounds), inclusive of delivery by registered air mail from our office in spain. why pay more??? visit our website at URL?id=2 best regards sales department cheap smoking spain xayPHONEy   \n",
              "\n",
              "    Spam  \n",
              "30     1  \n",
              "31     1  \n",
              "32     1  \n",
              "33     1  \n",
              "34     1  \n",
              "35     1  \n",
              "36     1  \n",
              "37     1  \n",
              "38     1  \n",
              "39     1  "
            ]
          },
          "execution_count": 530,
          "metadata": {},
          "output_type": "execute_result"
        }
      ],
      "source": [
        "#TEXT PREPROCESSING\n",
        "spam_df['Email'] = spam_df['Email'].apply(preprocess)\n",
        "\n",
        "spam_df = spam_df[['Email','Spam']]\n",
        "\n",
        "\n",
        "#drop duplicates\n",
        "spam_df.drop_duplicates(inplace=True,ignore_index=True)\n",
        "\n",
        "spam_df[30:40]"
      ]
    },
    {
      "cell_type": "markdown",
      "metadata": {},
      "source": [
        "### 3.1.3 Feature Engineering"
      ]
    },
    {
      "cell_type": "code",
      "execution_count": 531,
      "metadata": {},
      "outputs": [],
      "source": [
        "#Count number of urls\n",
        "def get_url_count(text):\n",
        "    return text.count('URL')\n",
        "\n",
        "def get_phone_count(text):\n",
        "    return text.count('PHONE')\n",
        "\n",
        "def get_char_count(text):\n",
        "    return len(text.replace(\" \", \"\"))\n",
        "\n",
        "def get_punctuation_count(text):\n",
        "    return sum(1 for char in text if char in string.punctuation)\n"
      ]
    },
    {
      "cell_type": "code",
      "execution_count": 532,
      "metadata": {},
      "outputs": [
        {
          "data": {
            "text/html": [
              "<div>\n",
              "<style scoped>\n",
              "    .dataframe tbody tr th:only-of-type {\n",
              "        vertical-align: middle;\n",
              "    }\n",
              "\n",
              "    .dataframe tbody tr th {\n",
              "        vertical-align: top;\n",
              "    }\n",
              "\n",
              "    .dataframe thead th {\n",
              "        text-align: right;\n",
              "    }\n",
              "</style>\n",
              "<table border=\"1\" class=\"dataframe\">\n",
              "  <thead>\n",
              "    <tr style=\"text-align: right;\">\n",
              "      <th></th>\n",
              "      <th>Email</th>\n",
              "      <th>Spam</th>\n",
              "      <th>Url Count</th>\n",
              "      <th>Phone Number Count</th>\n",
              "      <th>Punctuation Count</th>\n",
              "    </tr>\n",
              "  </thead>\n",
              "  <tbody>\n",
              "    <tr>\n",
              "      <th>0</th>\n",
              "      <td>dear homeowner, interest rates are at their lowest point in 40 years! we help you find the best rate for your situation by matching your needs with hundreds of lenders! home improvement, refinance, second mortgage, home equity loans, and more! even with less than perfect credit! this service is 100% free to home owners and new home buyers without any obligation. just fill out a quick, simple form and jump-start your future plans today! visit URLindex.asp?afft=qm10 to unsubscribe, please visit: URLwatch.asp</td>\n",
              "      <td>1</td>\n",
              "      <td>2</td>\n",
              "      <td>0</td>\n",
              "      <td>20</td>\n",
              "    </tr>\n",
              "    <tr>\n",
              "      <th>1</th>\n",
              "      <td>attention: this is a must for all computer users!!! *new-special package deal!* norton systemworks 2002 software suite -professional edition- includes six - yes 6! - feature-packed utilities all for 1 special low price! this software will: - protect your computer from unwanted and hazardous viruses - help secure your private &amp; valuable information - allow you to transfer files and send e-mails safely - backup your all your data quick and easily - improve your pc's performance w/superior integral diagnostics! 6 feature-packed utilities...1 great price! a $300+ combined retail value! yours for only $29.99!  don't fall prey to destructive viruses or hackers! protect your computer and your valuable information! so don't delay...get your copy today! URL ++++++++++++++++++++++++++++++++++++++++++++++++++++++++++++++++++++++++++++ this email has been screened and filtered by our in house \"\"opt-out\"\" system in compliance with state laws. if you wish to \"opt-out\" from this mailing as well a...</td>\n",
              "      <td>1</td>\n",
              "      <td>2</td>\n",
              "      <td>0</td>\n",
              "      <td>207</td>\n",
              "    </tr>\n",
              "    <tr>\n",
              "      <th>2</th>\n",
              "      <td>this is a multi-part message in mime format. ------=_nextpart_000_1cdc19_01c25366.4b57f3a0 content-type: text/plain; charset=\"windows-1252\" content-transfer-encoding: quoted-printable we dare you... try to find a better annuity! =20 - 5.40% guaranteed for 6 years=0a= - 6 year surrender charge=0a= - 5% agent commission up to age 80=09 call today for more information! PHONE ext. 103 - or - please fill out the form below for more information =20 name: =09 e-mail: =20 phone: =20 city: state: =20 =09 =20 pmg financial services *5.40% for deposits of $100,000 and up, 5.25% interest for deposits totalling $25,000-$99,999. =20 we don't want anyone to receive our mailings who does not wish to receive them. this is a professional communication sent to insurance professionals. to be removed from this mailing list, do not reply to this message. instead, go here: URLoptout =20 legal notice =20 ------=_nextpart_000_1cdc19_01c25366.4b57f3a0 content-type: text/html; charset=\"iso-8859-1\" content-tr...</td>\n",
              "      <td>1</td>\n",
              "      <td>2</td>\n",
              "      <td>1</td>\n",
              "      <td>177</td>\n",
              "    </tr>\n",
              "    <tr>\n",
              "      <th>3</th>\n",
              "      <td>important information: the new domain names are finally available to the general public at discount prices. now you can register one of the exciting new .biz or .info domain names, as well as the original .com and .net names for just $14.95. these brand new domain extensions were recently approved by icann and have the same rights as the original .com and .net domain names. the biggest benefit is of-course that the .biz and .info domain names are currently more available. i.e. it will be much easier to register an attractive and easy-to-remember domain name for the same price. visit: http://www.affordable-domains.com today for more info. register your domain name today for just $14.95 at: URL registration fees include full access to an easy-to-use control panel to manage your domain name in the future. sincerely, domain administrator affordable domains to remove your email address from further promotional mailings from this company, click here: URLdomain-remove.cgi (g1-ss2)5592oxer...</td>\n",
              "      <td>1</td>\n",
              "      <td>2</td>\n",
              "      <td>0</td>\n",
              "      <td>46</td>\n",
              "    </tr>\n",
              "    <tr>\n",
              "      <th>4</th>\n",
              "      <td>this is the bottom line. if you can give away cd's for free to people (like 80-100 in one month) and then let me talk to them for you - if you can give away free product samples - then you can earn $5,000 in the next 30 - 45 days. think i'm kidding? we earned precisely $26,087.58 in our first 94 days doing just that - and we scanned our checks online for you to see them with your own eyes! we've tweaked things a little because we don't want you to talk to anyone. we want to talk to people for you. if you are .... very busy or, aren't good at talking to people or, don't want to talk to people.... then let us work full time for you. we've helped others.... julie p. earned $750 in one week with us jeff a. earned $6500 in 5 weeks with us and we now have an exact business plan for you and can tell you exactly what to expect with where you're starting. no guesswork - we've done it. and if you do want to seriously evaluate this, we would be happy to even fly you to los angeles at our expe...</td>\n",
              "      <td>1</td>\n",
              "      <td>0</td>\n",
              "      <td>0</td>\n",
              "      <td>109</td>\n",
              "    </tr>\n",
              "    <tr>\n",
              "      <th>...</th>\n",
              "      <td>...</td>\n",
              "      <td>...</td>\n",
              "      <td>...</td>\n",
              "      <td>...</td>\n",
              "      <td>...</td>\n",
              "    </tr>\n",
              "    <tr>\n",
              "      <th>5519</th>\n",
              "      <td>i'm one of the 30,000 but it's not working very well this week with the tes updates and servers not syncing. -----original message----- from: jordan ritter [mailto:jpr5@darkridge.com] sent: thursday, august 08, 2002 4:45 pm to: razor-users@example.sourceforge.net subject: re: [razor-users] what's wrong with the razor servers now? on thu, aug 08, 2002 at 01:36:15pm -0700, craig r.hughes wrote: # razor2 seems to have been a long time in coming, [...] and doesn't # currently work. quite a strong statement, craig, one which over 30,000 active users a day would strongly disagree with. --jordan ------------------------------------------------------- this sf.net email is sponsored by:thinkgeek welcome to geek heaven. URLsf _______________________________________________ razor-users mailing list razor-users@lists.sourceforge.net URLrazor-users</td>\n",
              "      <td>0</td>\n",
              "      <td>2</td>\n",
              "      <td>0</td>\n",
              "      <td>171</td>\n",
              "    </tr>\n",
              "    <tr>\n",
              "      <th>5520</th>\n",
              "      <td>damien morton quoted: &gt;w3c approves html 4 'emotitags' - now you'll be able to say it with feeling &gt;&gt;from the rockall times (URL), definitely the source of much funniness. r URLfork</td>\n",
              "      <td>0</td>\n",
              "      <td>2</td>\n",
              "      <td>0</td>\n",
              "      <td>12</td>\n",
              "    </tr>\n",
              "    <tr>\n",
              "      <th>5521</th>\n",
              "      <td>on mon, 2002-07-22 at 06:50, che wrote: &gt; thats the correct lines to be added to sources.list for the repository &gt; i just did a apt-get install gnome-session its still progressing :) excellent - might give it a bash tonight :) _______________________________________________ rpm-list mailing list  URLrpm-list</td>\n",
              "      <td>0</td>\n",
              "      <td>1</td>\n",
              "      <td>0</td>\n",
              "      <td>65</td>\n",
              "    </tr>\n",
              "    <tr>\n",
              "      <th>5522</th>\n",
              "      <td>once upon a time, manfred wrote : &gt; i would like to install rpm itself. i have tried to get the information &gt; by visiting www.rpm.org  and the related links they &gt; give but they all seems to assume that rpm already is installed. &gt; i have a firewall based on linux-2.2.20 (smoothwall) for private use. &gt; i would like to install the rpm package/program but there is no &gt; information how to do this from scratch. &gt; found this site and hopefully some have the knowledge. &gt; best regards manfred grobosch well, you can simply use an rpm tarball (or extract one from a source rpm on a machine that has rpm scripts install \"rpm2cpio  | cpio -dimv\" and \"./configure &amp;&amp; make &amp;&amp; make install\" as usual. you need db3 or db4 development files at least, and once everything installed you'll need to initialize your rpm database. if you need more help, i suggest you join the rpm-list@redhat.com by subscribing at URL matthias -- matthias saou world trade center ------------- edificio norte 4 planta system and...</td>\n",
              "      <td>0</td>\n",
              "      <td>2</td>\n",
              "      <td>0</td>\n",
              "      <td>112</td>\n",
              "    </tr>\n",
              "    <tr>\n",
              "      <th>5523</th>\n",
              "      <td>if you run pick, and then use the \"new ftoc\" button to show only those messages selected by pick, then the ftoc display was considered \"invalid\" in the old code. this prevented the display from being cached, and it meant that you could get back to the full folder display by clicking on the folder lablel. that doesn't work anymore. you have to resort to rescan folder. in fact, when you change folders you continue to have the pick results, not the new folder contents. if you go to a any folder and do rescan, then it heals itself. -- brent welch software architect, panasas inc pioneering the world's most scalable and agile storage network www.panasas.com welch@panasas.com _______________________________________________ exmh-workers mailing list exmh-workers@redhat.com URLexmh-workers</td>\n",
              "      <td>0</td>\n",
              "      <td>1</td>\n",
              "      <td>0</td>\n",
              "      <td>77</td>\n",
              "    </tr>\n",
              "  </tbody>\n",
              "</table>\n",
              "<p>5524 rows × 5 columns</p>\n",
              "</div>"
            ],
            "text/plain": [
              "                                                                                                                                                                                                                                                                                                                                                                                                                                                                                                                                                                                                                                                                                                                                                                                                                                                                                                                                                                                                                                        Email  \\\n",
              "0                                                                                                                                                                                                                                                                                                                                                                                                                                                                                                             dear homeowner, interest rates are at their lowest point in 40 years! we help you find the best rate for your situation by matching your needs with hundreds of lenders! home improvement, refinance, second mortgage, home equity loans, and more! even with less than perfect credit! this service is 100% free to home owners and new home buyers without any obligation. just fill out a quick, simple form and jump-start your future plans today! visit URLindex.asp?afft=qm10 to unsubscribe, please visit: URLwatch.asp   \n",
              "1     attention: this is a must for all computer users!!! *new-special package deal!* norton systemworks 2002 software suite -professional edition- includes six - yes 6! - feature-packed utilities all for 1 special low price! this software will: - protect your computer from unwanted and hazardous viruses - help secure your private & valuable information - allow you to transfer files and send e-mails safely - backup your all your data quick and easily - improve your pc's performance w/superior integral diagnostics! 6 feature-packed utilities...1 great price! a $300+ combined retail value! yours for only $29.99!  don't fall prey to destructive viruses or hackers! protect your computer and your valuable information! so don't delay...get your copy today! URL ++++++++++++++++++++++++++++++++++++++++++++++++++++++++++++++++++++++++++++ this email has been screened and filtered by our in house \"\"opt-out\"\" system in compliance with state laws. if you wish to \"opt-out\" from this mailing as well a...   \n",
              "2     this is a multi-part message in mime format. ------=_nextpart_000_1cdc19_01c25366.4b57f3a0 content-type: text/plain; charset=\"windows-1252\" content-transfer-encoding: quoted-printable we dare you... try to find a better annuity! =20 - 5.40% guaranteed for 6 years=0a= - 6 year surrender charge=0a= - 5% agent commission up to age 80=09 call today for more information! PHONE ext. 103 - or - please fill out the form below for more information =20 name: =09 e-mail: =20 phone: =20 city: state: =20 =09 =20 pmg financial services *5.40% for deposits of $100,000 and up, 5.25% interest for deposits totalling $25,000-$99,999. =20 we don't want anyone to receive our mailings who does not wish to receive them. this is a professional communication sent to insurance professionals. to be removed from this mailing list, do not reply to this message. instead, go here: URLoptout =20 legal notice =20 ------=_nextpart_000_1cdc19_01c25366.4b57f3a0 content-type: text/html; charset=\"iso-8859-1\" content-tr...   \n",
              "3     important information: the new domain names are finally available to the general public at discount prices. now you can register one of the exciting new .biz or .info domain names, as well as the original .com and .net names for just $14.95. these brand new domain extensions were recently approved by icann and have the same rights as the original .com and .net domain names. the biggest benefit is of-course that the .biz and .info domain names are currently more available. i.e. it will be much easier to register an attractive and easy-to-remember domain name for the same price. visit: http://www.affordable-domains.com today for more info. register your domain name today for just $14.95 at: URL registration fees include full access to an easy-to-use control panel to manage your domain name in the future. sincerely, domain administrator affordable domains to remove your email address from further promotional mailings from this company, click here: URLdomain-remove.cgi (g1-ss2)5592oxer...   \n",
              "4     this is the bottom line. if you can give away cd's for free to people (like 80-100 in one month) and then let me talk to them for you - if you can give away free product samples - then you can earn $5,000 in the next 30 - 45 days. think i'm kidding? we earned precisely $26,087.58 in our first 94 days doing just that - and we scanned our checks online for you to see them with your own eyes! we've tweaked things a little because we don't want you to talk to anyone. we want to talk to people for you. if you are .... very busy or, aren't good at talking to people or, don't want to talk to people.... then let us work full time for you. we've helped others.... julie p. earned $750 in one week with us jeff a. earned $6500 in 5 weeks with us and we now have an exact business plan for you and can tell you exactly what to expect with where you're starting. no guesswork - we've done it. and if you do want to seriously evaluate this, we would be happy to even fly you to los angeles at our expe...   \n",
              "...                                                                                                                                                                                                                                                                                                                                                                                                                                                                                                                                                                                                                                                                                                                                                                                                                                                                                                                                                                                                                                       ...   \n",
              "5519                                                                                                                                                          i'm one of the 30,000 but it's not working very well this week with the tes updates and servers not syncing. -----original message----- from: jordan ritter [mailto:jpr5@darkridge.com] sent: thursday, august 08, 2002 4:45 pm to: razor-users@example.sourceforge.net subject: re: [razor-users] what's wrong with the razor servers now? on thu, aug 08, 2002 at 01:36:15pm -0700, craig r.hughes wrote: # razor2 seems to have been a long time in coming, [...] and doesn't # currently work. quite a strong statement, craig, one which over 30,000 active users a day would strongly disagree with. --jordan ------------------------------------------------------- this sf.net email is sponsored by:thinkgeek welcome to geek heaven. URLsf _______________________________________________ razor-users mailing list razor-users@lists.sourceforge.net URLrazor-users   \n",
              "5520                                                                                                                                                                                                                                                                                                                                                                                                                                                                                                                                                                                                                                                                                                                                                                                                                                                    damien morton quoted: >w3c approves html 4 'emotitags' - now you'll be able to say it with feeling >>from the rockall times (URL), definitely the source of much funniness. r URLfork   \n",
              "5521                                                                                                                                                                                                                                                                                                                                                                                                                                                                                                                                                                                                                                                                                                                    on mon, 2002-07-22 at 06:50, che wrote: > thats the correct lines to be added to sources.list for the repository > i just did a apt-get install gnome-session its still progressing :) excellent - might give it a bash tonight :) _______________________________________________ rpm-list mailing list  URLrpm-list   \n",
              "5522  once upon a time, manfred wrote : > i would like to install rpm itself. i have tried to get the information > by visiting www.rpm.org  and the related links they > give but they all seems to assume that rpm already is installed. > i have a firewall based on linux-2.2.20 (smoothwall) for private use. > i would like to install the rpm package/program but there is no > information how to do this from scratch. > found this site and hopefully some have the knowledge. > best regards manfred grobosch well, you can simply use an rpm tarball (or extract one from a source rpm on a machine that has rpm scripts install \"rpm2cpio  | cpio -dimv\" and \"./configure && make && make install\" as usual. you need db3 or db4 development files at least, and once everything installed you'll need to initialize your rpm database. if you need more help, i suggest you join the rpm-list@redhat.com by subscribing at URL matthias -- matthias saou world trade center ------------- edificio norte 4 planta system and...   \n",
              "5523                                                                                                                                                                                                                  if you run pick, and then use the \"new ftoc\" button to show only those messages selected by pick, then the ftoc display was considered \"invalid\" in the old code. this prevented the display from being cached, and it meant that you could get back to the full folder display by clicking on the folder lablel. that doesn't work anymore. you have to resort to rescan folder. in fact, when you change folders you continue to have the pick results, not the new folder contents. if you go to a any folder and do rescan, then it heals itself. -- brent welch software architect, panasas inc pioneering the world's most scalable and agile storage network www.panasas.com welch@panasas.com _______________________________________________ exmh-workers mailing list exmh-workers@redhat.com URLexmh-workers   \n",
              "\n",
              "      Spam  Url Count  Phone Number Count  Punctuation Count  \n",
              "0        1          2                   0                 20  \n",
              "1        1          2                   0                207  \n",
              "2        1          2                   1                177  \n",
              "3        1          2                   0                 46  \n",
              "4        1          0                   0                109  \n",
              "...    ...        ...                 ...                ...  \n",
              "5519     0          2                   0                171  \n",
              "5520     0          2                   0                 12  \n",
              "5521     0          1                   0                 65  \n",
              "5522     0          2                   0                112  \n",
              "5523     0          1                   0                 77  \n",
              "\n",
              "[5524 rows x 5 columns]"
            ]
          },
          "execution_count": 532,
          "metadata": {},
          "output_type": "execute_result"
        }
      ],
      "source": [
        "spam_df['Url Count'] = spam_df['Email'].apply(get_url_count)\n",
        "\n",
        "spam_df['Phone Number Count'] = spam_df['Email'].apply(get_phone_count)\n",
        "\n",
        "spam_df['Punctuation Count'] = spam_df['Email'].apply(get_punctuation_count)\n",
        "\n",
        "spam_df"
      ]
    },
    {
      "cell_type": "code",
      "execution_count": 548,
      "metadata": {},
      "outputs": [
        {
          "data": {
            "image/png": "[encoded data removed]",
            "text/plain": [
              "<Figure size 1000x600 with 1 Axes>"
            ]
          },
          "metadata": {},
          "output_type": "display_data"
        }
      ],
      "source": [
        "spam_urls = spam_df[spam_df['Spam'] == 1]['Phone Number Count']\n",
        "non_spam_urls = spam_df[spam_df['Spam'] == 0]['Phone Number Count']\n",
        "\n",
        "# Plotting\n",
        "plt.figure(figsize=(10, 6))\n",
        "sns.histplot(spam_urls, color='red', label='Spam', kde=True)\n",
        "sns.histplot(non_spam_urls, color='blue', label='Non-Spam', kde=True)\n",
        "plt.xlabel('Number of URLs')\n",
        "plt.ylabel('Frequency')\n",
        "plt.title('Frequency of Emails by Number of URLs')\n",
        "plt.legend()\n",
        "sns.set(style='whitegrid')\n",
        "\n",
        "plt.xlim(0, 2)  # Set the minimum to current and maximum to 20\n",
        "\n",
        "plt.show()"
      ]
    },
    {
      "cell_type": "code",
      "execution_count": 553,
      "metadata": {},
      "outputs": [
        {
          "data": {
            "text/plain": [
              "499"
            ]
          },
          "execution_count": 553,
          "metadata": {},
          "output_type": "execute_result"
        }
      ],
      "source": [
        "spam_df[spam_df['Spam'] == 1]['Punctuation Count'].nunique()\n",
        "\n",
        "spam_df[spam_df['Spam'] == 0]['Punctuation Count'].nunique()"
      ]
    },
    {
      "cell_type": "markdown",
      "metadata": {
        "id": "T_qy_lN5IeMW"
      },
      "source": [
        "### 3.1.4 Tokenizing and Encoding"
      ]
    },
    {
      "cell_type": "code",
      "execution_count": 534,
      "metadata": {
        "id": "iFb2mXXXIcfM"
      },
      "outputs": [],
      "source": [
        "#Naming the Features column\n",
        "spam_emails = np.array(spam_df['Email'])\n",
        "\n",
        "#Naming the target column\n",
        "spam_targets = np.array(spam_df['Spam'])\n",
        "\n",
        "#Vectorize the features column\n",
        "vectorized_spam_emails = spam_vectorizer.fit_transform(spam_emails).toarray()\n",
        "\n",
        "#Leaving 10% of the dataset untouched\n",
        "spam_emails_untouched, spam_emails_leftover, spam_targets_untouched, spam_targets_leftover = train_test_split(vectorized_spam_emails ,spam_targets,test_size=0.9)"
      ]
    },
    {
      "cell_type": "markdown",
      "metadata": {
        "id": "exGf2FJ6nhRr"
      },
      "source": [
        "## 3.2 Phishing Dataset"
      ]
    },
    {
      "cell_type": "markdown",
      "metadata": {
        "id": "_YuB6DkuwRJz"
      },
      "source": [
        "### 3.2.1 Data Extraction"
      ]
    },
    {
      "cell_type": "code",
      "execution_count": 535,
      "metadata": {
        "id": "ZW9b-e8PwYw_"
      },
      "outputs": [
        {
          "data": {
            "text/html": [
              "<div>\n",
              "<style scoped>\n",
              "    .dataframe tbody tr th:only-of-type {\n",
              "        vertical-align: middle;\n",
              "    }\n",
              "\n",
              "    .dataframe tbody tr th {\n",
              "        vertical-align: top;\n",
              "    }\n",
              "\n",
              "    .dataframe thead th {\n",
              "        text-align: right;\n",
              "    }\n",
              "</style>\n",
              "<table border=\"1\" class=\"dataframe\">\n",
              "  <thead>\n",
              "    <tr style=\"text-align: right;\">\n",
              "      <th></th>\n",
              "      <th>Email</th>\n",
              "      <th>Phishing</th>\n",
              "    </tr>\n",
              "  </thead>\n",
              "  <tbody>\n",
              "    <tr>\n",
              "      <th>0</th>\n",
              "      <td>re : 6 . 1100 , disc : uniformitarianism , re : 1086 ; sex / lang dick hudson 's observations on us use of 's on ' but not 'd aughter ' as a vocative are very thought-provoking , but i am not sure that it is fair to attribute this to \" sons \" being \" treated like senior relatives \" . for one thing , we do n't normally use ' brother ' in this way any more than we do 'd aughter ' , and it is hard to imagine a natural class comprising senior relatives and 's on ' but excluding ' brother ' . for another , there seem to me to be differences here . if i am not imagining a distinction that is not there , it seems to me that the senior relative terms are used in a wider variety of contexts , e . g . , calling out from a distance to get someone 's attention , and hence at the beginning of an utterance , whereas 's on ' seems more natural in utterances like ' yes , son ' , ' hand me that , son ' than in ones like ' son ! ' or ' son , help me ! ' ( although perhaps these latter ones are not c...</td>\n",
              "      <td>Safe Email</td>\n",
              "    </tr>\n",
              "    <tr>\n",
              "      <th>1</th>\n",
              "      <td>the other side of * galicismos * * galicismo * is a spanish term which names the improper introduction of french words which are spanish sounding and thus very deceptive to the ear . * galicismo * is often considered to be a * barbarismo * . what would be the term which designates the opposite phenomenon , that is unlawful words of spanish origin which may have crept into french ? can someone provide examples ? thank you joseph m kozono &lt; kozonoj @ gunet . georgetown . edu &gt;</td>\n",
              "      <td>Safe Email</td>\n",
              "    </tr>\n",
              "    <tr>\n",
              "      <th>2</th>\n",
              "      <td>re : equistar deal tickets are you still available to assist robert with entering the new deal tickets for equistar ? after talking with bryan hull and anita luong , kyle and i decided we only need 1 additional sale ticket and 1 additional buyback ticket set up . - - - - - - - - - - - - - - - - - - - - - - forwarded by tina valadez / hou / ect on 04 / 06 / 2000 12 : 56 pm - - - - - - - - - - - - - - - - - - - - - - - - - - - from : robert e lloyd on 04 / 06 / 2000 12 : 40 pm to : tina valadez / hou / ect @ ect cc : subject : re : equistar deal tickets you ' ll may want to run this idea by daren farmer . i don ' t normally add tickets into sitara . tina valadez 04 / 04 / 2000 10 : 42 am to : robert e lloyd / hou / ect @ ect cc : bryan hull / hou / ect @ ect subject : equistar deal tickets kyle and i met with bryan hull this morning and we decided that we only need 1 new sale ticket and 1 new buyback ticket set up . the time period for both tickets should be july 1999 - forward . the...</td>\n",
              "      <td>Safe Email</td>\n",
              "    </tr>\n",
              "    <tr>\n",
              "      <th>3</th>\n",
              "      <td>\\nHello I am your hot lil horny toy.\\n    I am the one you dream About,\\n    I am a very open minded person,\\n    Love to talk about and any subject.\\n    Fantasy is my way of life, \\n    Ultimate in sex play.     Ummmmmmmmmmmmmm\\n     I am Wet and ready for you.     It is not your looks but your imagination that matters most,\\n     With My sexy voice I can make your dream come true...\\n  \\n     Hurry Up! call me let me Cummmmm for you..........................\\nTOLL-FREE:             1-877-451-TEEN (1-877-451-8336)For phone billing:     1-900-993-2582\\n-- \\n_______________________________________________\\nSign-up for your own FREE Personalized E-mail at Mail.com\\nhttp://www.mail.com/?sr=signup</td>\n",
              "      <td>Phishing Email</td>\n",
              "    </tr>\n",
              "    <tr>\n",
              "      <th>4</th>\n",
              "      <td>software at incredibly low prices ( 86 % lower ) . drapery seventeen term represent any sing . feet wild break able build . tail , send subtract represent . job cow student inch gave . let still warm , family draw , land book . glass plan include . sentence is , hat silent nothing . order , wild famous long their . inch such , saw , person , save . face , especially sentence science . certain , cry does . two depend yes , written carry .</td>\n",
              "      <td>Phishing Email</td>\n",
              "    </tr>\n",
              "    <tr>\n",
              "      <th>...</th>\n",
              "      <td>...</td>\n",
              "      <td>...</td>\n",
              "    </tr>\n",
              "    <tr>\n",
              "      <th>18644</th>\n",
              "      <td>\\nRick Moen  a Ã©crit:&gt; &gt; I'm confused. I thought it was GPL'ed and that \\n&gt; &gt; the money you paid SuSE was for your 60 day\\n&gt; &gt; support or whatever? \\n \\n&gt; Yes, you're confused.\\nI *_was_* confused.\\n&gt; A Linux distribution (_any_ Linux distribution)\\n&gt; contains lots and lots of separate codebases.\\n&gt; Some are under the GNU GPL. Many are not.\\nIndeed - that I actually had understood prior\\nto all this - for example commercial entities\\nwith trial/limited/crippled editions. Which is no problem - I don't see why that should\\nbe a problem for SuSE though - surely the \\nmore the merrrier as far as they're concerned.\\n&gt; Are you clear on this point, now?\\nVide supra.\\n&gt; This is my second try. \\nMighty white of you, old bean.\\n&gt;  One suspects that you actually understand\\n&gt;  perfectly, but just don't like it.\\nOne can suspect what one likes. What I didn't \\nunderstand was that SuSE had proprietary \\nextensions that it wasn't prepared to allow\\npeople to use under the GPL or even under  a\\n...</td>\n",
              "      <td>Safe Email</td>\n",
              "    </tr>\n",
              "    <tr>\n",
              "      <th>18645</th>\n",
              "      <td>date a lonely housewife always wanted to date a lonely housewife ? well this is your chance . thousands of lonely housewifes are waiting for you at cheating housewife personals . go here : www . liveadulthosting . biz / lm / signup . php</td>\n",
              "      <td>Phishing Email</td>\n",
              "    </tr>\n",
              "    <tr>\n",
              "      <th>18646</th>\n",
              "      <td>request submitted : access request for anita . dupont @ enron . com you have received this email because you are listed as an alternate data approver . please click approval to review and act upon this request . request id : 000000000012735 approver : stinson . gibner @ enron . com request create date : 1 / 8 / 01 4 : 26 : 26 pm requested for : anita . dupont @ enron . com resource name : \\ \\ enehou \\ houston \\ common \\ research - [ read / write ] resource type : directory</td>\n",
              "      <td>Safe Email</td>\n",
              "    </tr>\n",
              "    <tr>\n",
              "      <th>18647</th>\n",
              "      <td>re : important - prc mtg hi dorn &amp; john , as you discovered recently , i am still ' officially ' in vince kaminski ' s group ( my original enron corp . group ) . this holds true for shalesh ganjoo as well . i did not explicitly pick dorn or john as reviewers thinking that they will show up automatically as a result of my assumed reporting structure . so , vince has agreed to ' host ' the review in his group and proceed to transfer me over to ebs officially when this quarter is overs ( apprently that was scheduled to be automatic ) . in the mean time , vasant , stinson or vince would like to get a e - mail from either dorn or john regarding my performance from their perspective for consideration as soon as possible . i had plan on being on vacation starting tomorrow and have made arrangement with my family already . since i am not reviewing shalesh directly ( since he is in research under stionson ) , i am assuming i don ' t have to attend the review meetin tommorrow . i ' ll be on ...</td>\n",
              "      <td>Safe Email</td>\n",
              "    </tr>\n",
              "    <tr>\n",
              "      <th>18648</th>\n",
              "      <td>press clippings - letter on californian utilities please find attached the following article : ' californian utilities ' - financial times ( also sent to california distribution team ) kind regards , kuldeep chana</td>\n",
              "      <td>Safe Email</td>\n",
              "    </tr>\n",
              "  </tbody>\n",
              "</table>\n",
              "<p>17538 rows × 2 columns</p>\n",
              "</div>"
            ],
            "text/plain": [
              "                                                                                                                                                                                                                                                                                                                                                                                                                                                                                                                                                                                                                                                                                                                                                                                                                                                                                                                                                                                                                                         Email  \\\n",
              "0      re : 6 . 1100 , disc : uniformitarianism , re : 1086 ; sex / lang dick hudson 's observations on us use of 's on ' but not 'd aughter ' as a vocative are very thought-provoking , but i am not sure that it is fair to attribute this to \" sons \" being \" treated like senior relatives \" . for one thing , we do n't normally use ' brother ' in this way any more than we do 'd aughter ' , and it is hard to imagine a natural class comprising senior relatives and 's on ' but excluding ' brother ' . for another , there seem to me to be differences here . if i am not imagining a distinction that is not there , it seems to me that the senior relative terms are used in a wider variety of contexts , e . g . , calling out from a distance to get someone 's attention , and hence at the beginning of an utterance , whereas 's on ' seems more natural in utterances like ' yes , son ' , ' hand me that , son ' than in ones like ' son ! ' or ' son , help me ! ' ( although perhaps these latter ones are not c...   \n",
              "1                                                                                                                                                                                                                                                                                                                                                                                                                                                                                                                                              the other side of * galicismos * * galicismo * is a spanish term which names the improper introduction of french words which are spanish sounding and thus very deceptive to the ear . * galicismo * is often considered to be a * barbarismo * . what would be the term which designates the opposite phenomenon , that is unlawful words of spanish origin which may have crept into french ? can someone provide examples ? thank you joseph m kozono < kozonoj @ gunet . georgetown . edu >   \n",
              "2      re : equistar deal tickets are you still available to assist robert with entering the new deal tickets for equistar ? after talking with bryan hull and anita luong , kyle and i decided we only need 1 additional sale ticket and 1 additional buyback ticket set up . - - - - - - - - - - - - - - - - - - - - - - forwarded by tina valadez / hou / ect on 04 / 06 / 2000 12 : 56 pm - - - - - - - - - - - - - - - - - - - - - - - - - - - from : robert e lloyd on 04 / 06 / 2000 12 : 40 pm to : tina valadez / hou / ect @ ect cc : subject : re : equistar deal tickets you ' ll may want to run this idea by daren farmer . i don ' t normally add tickets into sitara . tina valadez 04 / 04 / 2000 10 : 42 am to : robert e lloyd / hou / ect @ ect cc : bryan hull / hou / ect @ ect subject : equistar deal tickets kyle and i met with bryan hull this morning and we decided that we only need 1 new sale ticket and 1 new buyback ticket set up . the time period for both tickets should be july 1999 - forward . the...   \n",
              "3                                                                                                                                                                                                                                                                                                              \\nHello I am your hot lil horny toy.\\n    I am the one you dream About,\\n    I am a very open minded person,\\n    Love to talk about and any subject.\\n    Fantasy is my way of life, \\n    Ultimate in sex play.     Ummmmmmmmmmmmmm\\n     I am Wet and ready for you.     It is not your looks but your imagination that matters most,\\n     With My sexy voice I can make your dream come true...\\n  \\n     Hurry Up! call me let me Cummmmm for you..........................\\nTOLL-FREE:             1-877-451-TEEN (1-877-451-8336)For phone billing:     1-900-993-2582\\n-- \\n_______________________________________________\\nSign-up for your own FREE Personalized E-mail at Mail.com\\nhttp://www.mail.com/?sr=signup   \n",
              "4                                                                                                                                                                                                                                                                                                                                                                                                                                                                                                                                                                                    software at incredibly low prices ( 86 % lower ) . drapery seventeen term represent any sing . feet wild break able build . tail , send subtract represent . job cow student inch gave . let still warm , family draw , land book . glass plan include . sentence is , hat silent nothing . order , wild famous long their . inch such , saw , person , save . face , especially sentence science . certain , cry does . two depend yes , written carry .   \n",
              "...                                                                                                                                                                                                                                                                                                                                                                                                                                                                                                                                                                                                                                                                                                                                                                                                                                                                                                                                                                                                                                        ...   \n",
              "18644  \\nRick Moen  a Ã©crit:> > I'm confused. I thought it was GPL'ed and that \\n> > the money you paid SuSE was for your 60 day\\n> > support or whatever? \\n \\n> Yes, you're confused.\\nI *_was_* confused.\\n> A Linux distribution (_any_ Linux distribution)\\n> contains lots and lots of separate codebases.\\n> Some are under the GNU GPL. Many are not.\\nIndeed - that I actually had understood prior\\nto all this - for example commercial entities\\nwith trial/limited/crippled editions. Which is no problem - I don't see why that should\\nbe a problem for SuSE though - surely the \\nmore the merrrier as far as they're concerned.\\n> Are you clear on this point, now?\\nVide supra.\\n> This is my second try. \\nMighty white of you, old bean.\\n>  One suspects that you actually understand\\n>  perfectly, but just don't like it.\\nOne can suspect what one likes. What I didn't \\nunderstand was that SuSE had proprietary \\nextensions that it wasn't prepared to allow\\npeople to use under the GPL or even under  a\\n...   \n",
              "18645                                                                                                                                                                                                                                                                                                                                                                                                                                                                                                                                                                                                                                                                                                                                                                                            date a lonely housewife always wanted to date a lonely housewife ? well this is your chance . thousands of lonely housewifes are waiting for you at cheating housewife personals . go here : www . liveadulthosting . biz / lm / signup . php   \n",
              "18646                                                                                                                                                                                                                                                                                                                                                                                                                                                                                                                                            request submitted : access request for anita . dupont @ enron . com you have received this email because you are listed as an alternate data approver . please click approval to review and act upon this request . request id : 000000000012735 approver : stinson . gibner @ enron . com request create date : 1 / 8 / 01 4 : 26 : 26 pm requested for : anita . dupont @ enron . com resource name : \\ \\ enehou \\ houston \\ common \\ research - [ read / write ] resource type : directory   \n",
              "18647  re : important - prc mtg hi dorn & john , as you discovered recently , i am still ' officially ' in vince kaminski ' s group ( my original enron corp . group ) . this holds true for shalesh ganjoo as well . i did not explicitly pick dorn or john as reviewers thinking that they will show up automatically as a result of my assumed reporting structure . so , vince has agreed to ' host ' the review in his group and proceed to transfer me over to ebs officially when this quarter is overs ( apprently that was scheduled to be automatic ) . in the mean time , vasant , stinson or vince would like to get a e - mail from either dorn or john regarding my performance from their perspective for consideration as soon as possible . i had plan on being on vacation starting tomorrow and have made arrangement with my family already . since i am not reviewing shalesh directly ( since he is in research under stionson ) , i am assuming i don ' t have to attend the review meetin tommorrow . i ' ll be on ...   \n",
              "18648                                                                                                                                                                                                                                                                                                                                                                                                                                                                                                                                                                                                                                                                                                                                                                                                                    press clippings - letter on californian utilities please find attached the following article : ' californian utilities ' - financial times ( also sent to california distribution team ) kind regards , kuldeep chana   \n",
              "\n",
              "             Phishing  \n",
              "0          Safe Email  \n",
              "1          Safe Email  \n",
              "2          Safe Email  \n",
              "3      Phishing Email  \n",
              "4      Phishing Email  \n",
              "...               ...  \n",
              "18644      Safe Email  \n",
              "18645  Phishing Email  \n",
              "18646      Safe Email  \n",
              "18647      Safe Email  \n",
              "18648      Safe Email  \n",
              "\n",
              "[17538 rows x 2 columns]"
            ]
          },
          "execution_count": 535,
          "metadata": {},
          "output_type": "execute_result"
        }
      ],
      "source": [
        "#read phishing dataset into pandas dataframe\n",
        "phish_df = pd.read_csv(\"https://dl.dropboxusercontent.com/scl/fi/imp09i8kxevoa5ahzg5e9/Phishing_Email.csv?rlkey=z0cqsyccz3sms8o817ylr5ixz&dl=0\")\n",
        "\n",
        "phish_df.rename(columns={'Email Type': 'Phishing', 'Email Text' : 'Email'}, inplace=True)\n",
        "\n",
        "#Remove null values\n",
        "phish_df.dropna(inplace=True,axis=0)\n",
        "\n",
        "#Drop unneeded columns\n",
        "phish_df.drop(columns='Unnamed: 0', inplace=True)\n",
        "\n",
        "#Remove duplicates\n",
        "phish_df = phish_df.drop_duplicates()\n",
        "phish_df"
      ]
    },
    {
      "cell_type": "markdown",
      "metadata": {
        "id": "PSEQalB39UTn"
      },
      "source": [
        "### 3.2.3 Text Preprocessing"
      ]
    },
    {
      "cell_type": "code",
      "execution_count": 536,
      "metadata": {
        "colab": {
          "base_uri": "https://localhost:8080/",
          "height": 211
        },
        "id": "8c4Ad-kjhJBP",
        "outputId": "d59a3ee7-e223-48d2-fb23-07e2827c1766"
      },
      "outputs": [
        {
          "data": {
            "text/html": [
              "<div>\n",
              "<style scoped>\n",
              "    .dataframe tbody tr th:only-of-type {\n",
              "        vertical-align: middle;\n",
              "    }\n",
              "\n",
              "    .dataframe tbody tr th {\n",
              "        vertical-align: top;\n",
              "    }\n",
              "\n",
              "    .dataframe thead th {\n",
              "        text-align: right;\n",
              "    }\n",
              "</style>\n",
              "<table border=\"1\" class=\"dataframe\">\n",
              "  <thead>\n",
              "    <tr style=\"text-align: right;\">\n",
              "      <th></th>\n",
              "      <th>Email</th>\n",
              "      <th>Phishing</th>\n",
              "    </tr>\n",
              "  </thead>\n",
              "  <tbody>\n",
              "    <tr>\n",
              "      <th>0</th>\n",
              "      <td>re : 6 . 1100 , disc : uniformitarianism , re : 1086 ; sex / lang dick hudson 's observations on us use of 's on ' but not 'd aughter ' as a vocative are very thought-provoking , but i am not sure that it is fair to attribute this to \" sons \" being \" treated like senior relatives \" . for one thing , we do n't normally use ' brother ' in this way any more than we do 'd aughter ' , and it is hard to imagine a natural class comprising senior relatives and 's on ' but excluding ' brother ' . for another , there seem to me to be differences here . if i am not imagining a distinction that is not there , it seems to me that the senior relative terms are used in a wider variety of contexts , e . g . , calling out from a distance to get someone 's attention , and hence at the beginning of an utterance , whereas 's on ' seems more natural in utterances like ' yes , son ' , ' hand me that , son ' than in ones like ' son ! ' or ' son , help me ! ' ( although perhaps these latter ones are not c...</td>\n",
              "      <td>0</td>\n",
              "    </tr>\n",
              "    <tr>\n",
              "      <th>1</th>\n",
              "      <td>the other side of * galicismos * * galicismo * is a spanish term which names the improper introduction of french words which are spanish sounding and thus very deceptive to the ear . * galicismo * is often considered to be a * barbarismo * . what would be the term which designates the opposite phenomenon , that is unlawful words of spanish origin which may have crept into french ? can someone provide examples ? thank you joseph m kozono &lt; kozonoj @ gunet . georgetown . edu &gt;</td>\n",
              "      <td>0</td>\n",
              "    </tr>\n",
              "    <tr>\n",
              "      <th>2</th>\n",
              "      <td>re : equistar deal tickets are you still available to assist robert with entering the new deal tickets for equistar ? after talking with bryan hull and anita luong , kyle and i decided we only need 1 additional sale ticket and 1 additional buyback ticket set up . - - - - - - - - - - - - - - - - - - - - - - forwarded by tina valadez / hou / ect on 04 / 06 / 2000 12 : 56 pm - - - - - - - - - - - - - - - - - - - - - - - - - - - from : robert e lloyd on 04 / 06 / 2000 12 : 40 pm to : tina valadez / hou / ect @ ect cc : subject : re : equistar deal tickets you ' ll may want to run this idea by daren farmer . i don ' t normally add tickets into sitara . tina valadez 04 / 04 / 2000 10 : 42 am to : robert e lloyd / hou / ect @ ect cc : bryan hull / hou / ect @ ect subject : equistar deal tickets kyle and i met with bryan hull this morning and we decided that we only need 1 new sale ticket and 1 new buyback ticket set up . the time period for both tickets should be july 1999 - forward . the...</td>\n",
              "      <td>0</td>\n",
              "    </tr>\n",
              "    <tr>\n",
              "      <th>3</th>\n",
              "      <td>hello i am your hot lil horny toy. i am the one you dream about, i am a very open minded person, love to talk about and any subject. fantasy is my way of life, ultimate in sex play. ummmmmmmmmmmmmm i am wet and ready for you. it is not your looks but your imagination that matters most, with my sexy voice i can make your dream come true... hurry up! call me let me cummmmm for you.......................... toll-free: 1-877-451-teen (PHONE)for phone billing: PHONE -- _______________________________________________ sign-up for your own free personalized e-mail at mail.com URL?sr=signup</td>\n",
              "      <td>1</td>\n",
              "    </tr>\n",
              "    <tr>\n",
              "      <th>4</th>\n",
              "      <td>software at incredibly low prices ( 86 % lower ) . drapery seventeen term represent any sing . feet wild break able build . tail , send subtract represent . job cow student inch gave . let still warm , family draw , land book . glass plan include . sentence is , hat silent nothing . order , wild famous long their . inch such , saw , person , save . face , especially sentence science . certain , cry does . two depend yes , written carry .</td>\n",
              "      <td>1</td>\n",
              "    </tr>\n",
              "    <tr>\n",
              "      <th>...</th>\n",
              "      <td>...</td>\n",
              "      <td>...</td>\n",
              "    </tr>\n",
              "    <tr>\n",
              "      <th>18644</th>\n",
              "      <td>rick moen a ã©crit:&gt; &gt; i'm confused. i thought it was gpl'ed and that &gt; &gt; the money you paid suse was for your 60 day &gt; &gt; support or whatever? &gt; yes, you're confused. i *_was_* confused. &gt; a linux distribution (_any_ linux distribution) &gt; contains lots and lots of separate codebases. &gt; some are under the gnu gpl. many are not. indeed - that i actually had understood prior to all this - for example commercial entities with trial/limited/crippled editions. which is no problem - i don't see why that should be a problem for suse though - surely the more the merrrier as far as they're concerned. &gt; are you clear on this point, now? vide supra. &gt; this is my second try. mighty white of you, old bean. &gt; one suspects that you actually understand &gt; perfectly, but just don't like it. one can suspect what one likes. what i didn't understand was that suse had proprietary extensions that it wasn't prepared to allow people to use under the gpl or even under a freebsd style licence. i thought that ...</td>\n",
              "      <td>0</td>\n",
              "    </tr>\n",
              "    <tr>\n",
              "      <th>18645</th>\n",
              "      <td>date a lonely housewife always wanted to date a lonely housewife ? well this is your chance . thousands of lonely housewifes are waiting for you at cheating housewife personals . go here : www . liveadulthosting . biz / lm / signup . php</td>\n",
              "      <td>1</td>\n",
              "    </tr>\n",
              "    <tr>\n",
              "      <th>18646</th>\n",
              "      <td>request submitted : access request for anita . dupont @ enron . com you have received this email because you are listed as an alternate data approver . please click approval to review and act upon this request . request id : PHONE35 approver : stinson . gibner @ enron . com request create date : 1 / 8 / 01 4 : 26 : 26 pm requested for : anita . dupont @ enron . com resource name : \\ \\ enehou \\ houston \\ common \\ research - [ read / write ] resource type : directory</td>\n",
              "      <td>0</td>\n",
              "    </tr>\n",
              "    <tr>\n",
              "      <th>18647</th>\n",
              "      <td>re : important - prc mtg hi dorn &amp; john , as you discovered recently , i am still ' officially ' in vince kaminski ' s group ( my original enron corp . group ) . this holds true for shalesh ganjoo as well . i did not explicitly pick dorn or john as reviewers thinking that they will show up automatically as a result of my assumed reporting structure . so , vince has agreed to ' host ' the review in his group and proceed to transfer me over to ebs officially when this quarter is overs ( apprently that was scheduled to be automatic ) . in the mean time , vasant , stinson or vince would like to get a e - mail from either dorn or john regarding my performance from their perspective for consideration as soon as possible . i had plan on being on vacation starting tomorrow and have made arrangement with my family already . since i am not reviewing shalesh directly ( since he is in research under stionson ) , i am assuming i don ' t have to attend the review meetin tommorrow . i ' ll be on ...</td>\n",
              "      <td>0</td>\n",
              "    </tr>\n",
              "    <tr>\n",
              "      <th>18648</th>\n",
              "      <td>press clippings - letter on californian utilities please find attached the following article : ' californian utilities ' - financial times ( also sent to california distribution team ) kind regards , kuldeep chana</td>\n",
              "      <td>0</td>\n",
              "    </tr>\n",
              "  </tbody>\n",
              "</table>\n",
              "<p>17491 rows × 2 columns</p>\n",
              "</div>"
            ],
            "text/plain": [
              "                                                                                                                                                                                                                                                                                                                                                                                                                                                                                                                                                                                                                                                                                                                                                                                                                                                                                                                                                                                                                                         Email  \\\n",
              "0      re : 6 . 1100 , disc : uniformitarianism , re : 1086 ; sex / lang dick hudson 's observations on us use of 's on ' but not 'd aughter ' as a vocative are very thought-provoking , but i am not sure that it is fair to attribute this to \" sons \" being \" treated like senior relatives \" . for one thing , we do n't normally use ' brother ' in this way any more than we do 'd aughter ' , and it is hard to imagine a natural class comprising senior relatives and 's on ' but excluding ' brother ' . for another , there seem to me to be differences here . if i am not imagining a distinction that is not there , it seems to me that the senior relative terms are used in a wider variety of contexts , e . g . , calling out from a distance to get someone 's attention , and hence at the beginning of an utterance , whereas 's on ' seems more natural in utterances like ' yes , son ' , ' hand me that , son ' than in ones like ' son ! ' or ' son , help me ! ' ( although perhaps these latter ones are not c...   \n",
              "1                                                                                                                                                                                                                                                                                                                                                                                                                                                                                                                                              the other side of * galicismos * * galicismo * is a spanish term which names the improper introduction of french words which are spanish sounding and thus very deceptive to the ear . * galicismo * is often considered to be a * barbarismo * . what would be the term which designates the opposite phenomenon , that is unlawful words of spanish origin which may have crept into french ? can someone provide examples ? thank you joseph m kozono < kozonoj @ gunet . georgetown . edu >   \n",
              "2      re : equistar deal tickets are you still available to assist robert with entering the new deal tickets for equistar ? after talking with bryan hull and anita luong , kyle and i decided we only need 1 additional sale ticket and 1 additional buyback ticket set up . - - - - - - - - - - - - - - - - - - - - - - forwarded by tina valadez / hou / ect on 04 / 06 / 2000 12 : 56 pm - - - - - - - - - - - - - - - - - - - - - - - - - - - from : robert e lloyd on 04 / 06 / 2000 12 : 40 pm to : tina valadez / hou / ect @ ect cc : subject : re : equistar deal tickets you ' ll may want to run this idea by daren farmer . i don ' t normally add tickets into sitara . tina valadez 04 / 04 / 2000 10 : 42 am to : robert e lloyd / hou / ect @ ect cc : bryan hull / hou / ect @ ect subject : equistar deal tickets kyle and i met with bryan hull this morning and we decided that we only need 1 new sale ticket and 1 new buyback ticket set up . the time period for both tickets should be july 1999 - forward . the...   \n",
              "3                                                                                                                                                                                                                                                                                                                                                                                                                                 hello i am your hot lil horny toy. i am the one you dream about, i am a very open minded person, love to talk about and any subject. fantasy is my way of life, ultimate in sex play. ummmmmmmmmmmmmm i am wet and ready for you. it is not your looks but your imagination that matters most, with my sexy voice i can make your dream come true... hurry up! call me let me cummmmm for you.......................... toll-free: 1-877-451-teen (PHONE)for phone billing: PHONE -- _______________________________________________ sign-up for your own free personalized e-mail at mail.com URL?sr=signup   \n",
              "4                                                                                                                                                                                                                                                                                                                                                                                                                                                                                                                                                                                    software at incredibly low prices ( 86 % lower ) . drapery seventeen term represent any sing . feet wild break able build . tail , send subtract represent . job cow student inch gave . let still warm , family draw , land book . glass plan include . sentence is , hat silent nothing . order , wild famous long their . inch such , saw , person , save . face , especially sentence science . certain , cry does . two depend yes , written carry .   \n",
              "...                                                                                                                                                                                                                                                                                                                                                                                                                                                                                                                                                                                                                                                                                                                                                                                                                                                                                                                                                                                                                                        ...   \n",
              "18644  rick moen a ã©crit:> > i'm confused. i thought it was gpl'ed and that > > the money you paid suse was for your 60 day > > support or whatever? > yes, you're confused. i *_was_* confused. > a linux distribution (_any_ linux distribution) > contains lots and lots of separate codebases. > some are under the gnu gpl. many are not. indeed - that i actually had understood prior to all this - for example commercial entities with trial/limited/crippled editions. which is no problem - i don't see why that should be a problem for suse though - surely the more the merrrier as far as they're concerned. > are you clear on this point, now? vide supra. > this is my second try. mighty white of you, old bean. > one suspects that you actually understand > perfectly, but just don't like it. one can suspect what one likes. what i didn't understand was that suse had proprietary extensions that it wasn't prepared to allow people to use under the gpl or even under a freebsd style licence. i thought that ...   \n",
              "18645                                                                                                                                                                                                                                                                                                                                                                                                                                                                                                                                                                                                                                                                                                                                                                                            date a lonely housewife always wanted to date a lonely housewife ? well this is your chance . thousands of lonely housewifes are waiting for you at cheating housewife personals . go here : www . liveadulthosting . biz / lm / signup . php   \n",
              "18646                                                                                                                                                                                                                                                                                                                                                                                                                                                                                                                                                    request submitted : access request for anita . dupont @ enron . com you have received this email because you are listed as an alternate data approver . please click approval to review and act upon this request . request id : PHONE35 approver : stinson . gibner @ enron . com request create date : 1 / 8 / 01 4 : 26 : 26 pm requested for : anita . dupont @ enron . com resource name : \\ \\ enehou \\ houston \\ common \\ research - [ read / write ] resource type : directory   \n",
              "18647  re : important - prc mtg hi dorn & john , as you discovered recently , i am still ' officially ' in vince kaminski ' s group ( my original enron corp . group ) . this holds true for shalesh ganjoo as well . i did not explicitly pick dorn or john as reviewers thinking that they will show up automatically as a result of my assumed reporting structure . so , vince has agreed to ' host ' the review in his group and proceed to transfer me over to ebs officially when this quarter is overs ( apprently that was scheduled to be automatic ) . in the mean time , vasant , stinson or vince would like to get a e - mail from either dorn or john regarding my performance from their perspective for consideration as soon as possible . i had plan on being on vacation starting tomorrow and have made arrangement with my family already . since i am not reviewing shalesh directly ( since he is in research under stionson ) , i am assuming i don ' t have to attend the review meetin tommorrow . i ' ll be on ...   \n",
              "18648                                                                                                                                                                                                                                                                                                                                                                                                                                                                                                                                                                                                                                                                                                                                                                                                                    press clippings - letter on californian utilities please find attached the following article : ' californian utilities ' - financial times ( also sent to california distribution team ) kind regards , kuldeep chana   \n",
              "\n",
              "       Phishing  \n",
              "0             0  \n",
              "1             0  \n",
              "2             0  \n",
              "3             1  \n",
              "4             1  \n",
              "...         ...  \n",
              "18644         0  \n",
              "18645         1  \n",
              "18646         0  \n",
              "18647         0  \n",
              "18648         0  \n",
              "\n",
              "[17491 rows x 2 columns]"
            ]
          },
          "execution_count": 536,
          "metadata": {},
          "output_type": "execute_result"
        }
      ],
      "source": [
        "#Encode the target column 0 for safe and 1 for phishing\n",
        "labels = ['Safe Email', 'Phishing Email']\n",
        "le = LabelEncoder()\n",
        "le.fit(labels)\n",
        "phish_df['Phishing'] = le.transform(phish_df['Phishing'])\n",
        "phish_df['Phishing'] = phish_df['Phishing'].apply(lambda x: 1 if x == 0 else 0)  #Reverse the encoding\n",
        "\n",
        "#Preprocess the phishing dataset\n",
        "phish_df['Email'] = phish_df['Email'].apply(preprocess)\n",
        "\n",
        "#Remove dataset duplicates\n",
        "phish_df.drop_duplicates(inplace=True)\n",
        "\n",
        "phish_df"
      ]
    },
    {
      "cell_type": "markdown",
      "metadata": {
        "id": "__JgYX_5khD8"
      },
      "source": [
        "### 3.2.4 Tokenizing and Encoding"
      ]
    },
    {
      "cell_type": "code",
      "execution_count": 537,
      "metadata": {
        "id": "2lC-tJ8OlJ_y"
      },
      "outputs": [],
      "source": [
        "#Naming the Features column\n",
        "phish_emails = np.array(phish_df['Email'])\n",
        "\n",
        "#Naming the target column\n",
        "phish_targets = np.array(phish_df['Phishing'])\n",
        "\n",
        "phish_emails = phish_vectorizer.fit_transform(phish_emails).toarray()\n",
        "\n",
        "#Leaving 10% of the dataset untouched\n",
        "phish_emails_untouched, phish_emails_leftover, phish_targets_untouched, phish_targets_leftover = train_test_split(phish_emails,phish_targets,test_size=0.9)"
      ]
    },
    {
      "cell_type": "markdown",
      "metadata": {},
      "source": [
        "# 4 Data Analysis"
      ]
    },
    {
      "cell_type": "markdown",
      "metadata": {},
      "source": [
        "## 4.1 Spam Analysis"
      ]
    },
    {
      "cell_type": "markdown",
      "metadata": {},
      "source": [
        "### 4.1.1 Shape of the Spam Set"
      ]
    },
    {
      "cell_type": "code",
      "execution_count": 538,
      "metadata": {},
      "outputs": [
        {
          "name": "stdout",
          "output_type": "stream",
          "text": [
            "Shape of spam set: (5524, 5) \n",
            "\n",
            "Number of null values:\n",
            "Email                 0\n",
            "Spam                  0\n",
            "Url Count             0\n",
            "Phone Number Count    0\n",
            "Punctuation Count     0\n",
            "dtype: int64 \n",
            "\n",
            "Number of duplicates: 0\n"
          ]
        }
      ],
      "source": [
        "print(\"Shape of spam set:\", spam_df.shape,\"\\n\")\n",
        "\n",
        "#Number of null values in the spam set\n",
        "print(\"Number of null values:\")\n",
        "print(spam_df.isnull().sum(), \"\\n\")\n",
        "\n",
        "#Number of duplicates in the spam set\n",
        "print(\"Number of duplicates:\", spam_df.duplicated().sum())"
      ]
    },
    {
      "cell_type": "markdown",
      "metadata": {},
      "source": [
        "### 4.1.2 Spam Set Balance"
      ]
    },
    {
      "cell_type": "code",
      "execution_count": 539,
      "metadata": {},
      "outputs": [
        {
          "data": {
            "image/png": "[encoded data removed]",
            "text/plain": [
              "<Figure size 640x480 with 1 Axes>"
            ]
          },
          "metadata": {},
          "output_type": "display_data"
        }
      ],
      "source": [
        "category_counts = spam_df['Spam'].value_counts()\n",
        "positions = category_counts.index.tolist() \n",
        "values = category_counts.values\n",
        "\n",
        "plt.bar(positions, values, color=['blue', 'red'])\n",
        "plt.title(\"Figure 1: Balance of the Spam Set\")\n",
        "plt.xlabel(\"Classification\")\n",
        "plt.ylabel(\"Count\")\n",
        "\n",
        "plt.xticks(positions, ['Safe', 'Spam'])  \n",
        "\n",
        "plt.show()"
      ]
    },
    {
      "cell_type": "markdown",
      "metadata": {},
      "source": [
        "## 4.2 Phishing Analyis"
      ]
    },
    {
      "cell_type": "markdown",
      "metadata": {},
      "source": [
        "### 4.2.1 Shape of the Phishing Set"
      ]
    },
    {
      "cell_type": "code",
      "execution_count": 540,
      "metadata": {},
      "outputs": [
        {
          "name": "stdout",
          "output_type": "stream",
          "text": [
            "Shape of spam set: (17491, 2) \n",
            "\n",
            "Number of null values:\n",
            "Email       0\n",
            "Phishing    0\n",
            "dtype: int64 \n",
            "\n",
            "Number of duplicates: 0\n"
          ]
        }
      ],
      "source": [
        "print(\"Shape of spam set:\", phish_df.shape,\"\\n\")\n",
        "\n",
        "#Number of null values in the spam set\n",
        "print(\"Number of null values:\")\n",
        "print(phish_df.isnull().sum(), \"\\n\")\n",
        "\n",
        "#Number of duplicates in the spam set\n",
        "print(\"Number of duplicates:\", phish_df.duplicated().sum())"
      ]
    },
    {
      "cell_type": "markdown",
      "metadata": {},
      "source": [
        "### 4.2.2 Phishing Set Balance"
      ]
    },
    {
      "cell_type": "code",
      "execution_count": 541,
      "metadata": {},
      "outputs": [
        {
          "data": {
            "image/png": "[encoded data removed]",
            "text/plain": [
              "<Figure size 640x480 with 1 Axes>"
            ]
          },
          "metadata": {},
          "output_type": "display_data"
        }
      ],
      "source": [
        "category_counts = phish_df['Phishing'].value_counts()\n",
        "positions = category_counts.index.tolist() \n",
        "values = category_counts.values\n",
        "\n",
        "plt.bar(positions, values, color=['blue', 'red'])\n",
        "plt.title(\"Figure 1: Balance of the Spam Set\")\n",
        "plt.xlabel(\"Classification\")\n",
        "plt.ylabel(\"Count\")\n",
        "\n",
        "plt.xticks(positions, ['Safe', 'Phish'])  \n",
        "\n",
        "plt.show()"
      ]
    },
    {
      "cell_type": "markdown",
      "metadata": {
        "id": "g_Hw__9DBYKA"
      },
      "source": [
        "# 6 Model Training/Testing"
      ]
    },
    {
      "cell_type": "markdown",
      "metadata": {
        "id": "8HM4GF2yBdop"
      },
      "source": [
        "## 5.1 Spam Models"
      ]
    },
    {
      "cell_type": "markdown",
      "metadata": {
        "id": "LNh_LX8-qqBX"
      },
      "source": [
        "### 5.1.1 Spam: Neural Network Model"
      ]
    },
    {
      "cell_type": "code",
      "execution_count": 542,
      "metadata": {},
      "outputs": [],
      "source": [
        "#Tokenizing the text for the neurel network model\n",
        "nn_X_untouched, nn_X_leftover, nn_y_untouched, nn_y_leftover = train_test_split(spam_df['Email'], spam_df['Spam'], test_size=0.9, random_state=42)\n",
        "nn_X_train, nn_X_test, nn_y_train, nn_y_test = train_test_split(nn_X_leftover, nn_y_leftover, test_size=0.3, random_state=42)\n",
        "\n",
        "tokenizer = Tokenizer(num_words=14804)\n",
        "tokenizer.fit_on_texts(spam_df['Email'])\n",
        "joblib.dump(tokenizer,'nn_tokenizer.joblib')\n",
        "\n",
        "X_train_tokenized = tokenizer.texts_to_sequences(nn_X_train)\n",
        "X_test_tokenized = tokenizer.texts_to_sequences(nn_X_test)\n",
        "X_untouched_tokenized = tokenizer.texts_to_sequences(nn_X_untouched)\n",
        "\n",
        "label_encoder = LabelEncoder()\n",
        "y_train_encoded = label_encoder.fit_transform(nn_y_train)\n",
        "y_test_encoded = label_encoder.transform(nn_y_test)\n",
        "y_untouched_encoded = label_encoder.fit_transform(nn_y_untouched)\n",
        "\n",
        "max_sequence_length = 14804  \n",
        "X_train_padded = pad_sequences(X_train_tokenized, maxlen=max_sequence_length)\n",
        "X_test_padded = pad_sequences(X_test_tokenized, maxlen=max_sequence_length)\n",
        "X_untouched_padded = pad_sequences(X_untouched_tokenized, maxlen=max_sequence_length)\n",
        "\n",
        "\n",
        "\n",
        "def create_nn_model(max_sequence_length):\n",
        "    # Define custom initializer function\n",
        "    def custom_initializer(shape, dtype=None):\n",
        "        return tf.random.normal(shape, mean=0.0, stddev=0.1, dtype=dtype)\n",
        "\n",
        "    inputs = tf.keras.Input(shape=(max_sequence_length,))\n",
        "    embedding = tf.keras.layers.Embedding(\n",
        "        input_dim=max_sequence_length,\n",
        "        output_dim=64,\n",
        "        embeddings_initializer=custom_initializer\n",
        "    )(inputs)\n",
        "    flatten = tf.keras.layers.Flatten()(embedding)\n",
        "    outputs = tf.keras.layers.Dense(1, activation='sigmoid')(flatten)\n",
        "\n",
        "    nn_model = tf.keras.Model(inputs=inputs, outputs=outputs)\n",
        "    nn_model.compile(\n",
        "        optimizer='adam',\n",
        "        loss='binary_crossentropy',\n",
        "        metrics=['accuracy']\n",
        "    )\n",
        "    return nn_model"
      ]
    },
    {
      "cell_type": "code",
      "execution_count": 543,
      "metadata": {
        "id": "VmyMSdEKrDUl"
      },
      "outputs": [],
      "source": [
        "nn_model = create_nn_model(max_sequence_length = 14804)"
      ]
    },
    {
      "cell_type": "code",
      "execution_count": 544,
      "metadata": {},
      "outputs": [
        {
          "name": "stdout",
          "output_type": "stream",
          "text": [
            "Epoch 1/5\n"
          ]
        },
        {
          "name": "stdout",
          "output_type": "stream",
          "text": [
            "\u001b[1m109/109\u001b[0m \u001b[32m━━━━━━━━━━━━━━━━━━━━\u001b[0m\u001b[37m\u001b[0m \u001b[1m8s\u001b[0m 66ms/step - accuracy: 0.6131 - loss: 7.0592 - val_accuracy: 0.9290 - val_loss: 0.2214\n",
            "Epoch 2/5\n",
            "\u001b[1m109/109\u001b[0m \u001b[32m━━━━━━━━━━━━━━━━━━━━\u001b[0m\u001b[37m\u001b[0m \u001b[1m7s\u001b[0m 62ms/step - accuracy: 0.9693 - loss: 0.1368 - val_accuracy: 0.9779 - val_loss: 0.0769\n",
            "Epoch 3/5\n",
            "\u001b[1m109/109\u001b[0m \u001b[32m━━━━━━━━━━━━━━━━━━━━\u001b[0m\u001b[37m\u001b[0m \u001b[1m7s\u001b[0m 62ms/step - accuracy: 0.9915 - loss: 0.0421 - val_accuracy: 0.9846 - val_loss: 0.0548\n",
            "Epoch 4/5\n",
            "\u001b[1m109/109\u001b[0m \u001b[32m━━━━━━━━━━━━━━━━━━━━\u001b[0m\u001b[37m\u001b[0m \u001b[1m7s\u001b[0m 62ms/step - accuracy: 0.9983 - loss: 0.0195 - val_accuracy: 0.9846 - val_loss: 0.0486\n",
            "Epoch 5/5\n",
            "\u001b[1m109/109\u001b[0m \u001b[32m━━━━━━━━━━━━━━━━━━━━\u001b[0m\u001b[37m\u001b[0m \u001b[1m7s\u001b[0m 63ms/step - accuracy: 0.9977 - loss: 0.0136 - val_accuracy: 0.9859 - val_loss: 0.0448\n"
          ]
        },
        {
          "data": {
            "text/plain": [
              "<keras.src.callbacks.history.History at 0x24adba14250>"
            ]
          },
          "execution_count": 544,
          "metadata": {},
          "output_type": "execute_result"
        }
      ],
      "source": [
        "nn_model.fit(\n",
        "    X_train_padded,\n",
        "    y_train_encoded,\n",
        "    epochs=5,\n",
        "    batch_size=32,\n",
        "    validation_data=(X_test_padded, y_test_encoded)\n",
        ")"
      ]
    },
    {
      "cell_type": "code",
      "execution_count": 545,
      "metadata": {},
      "outputs": [
        {
          "name": "stdout",
          "output_type": "stream",
          "text": [
            "\u001b[1m45/47\u001b[0m \u001b[32m━━━━━━━━━━━━━━━━━━━\u001b[0m\u001b[37m━\u001b[0m \u001b[1m0s\u001b[0m 14ms/step"
          ]
        },
        {
          "name": "stdout",
          "output_type": "stream",
          "text": [
            "\u001b[1m47/47\u001b[0m \u001b[32m━━━━━━━━━━━━━━━━━━━━\u001b[0m\u001b[37m\u001b[0m \u001b[1m1s\u001b[0m 15ms/step\n",
            "Accuracy from neural network model: 98.59 %\n",
            "F1 score from neural network model: 97.85 % \n",
            "\n",
            "Classification report : \n",
            "               precision    recall  f1-score   support\n",
            "\n",
            "           0       0.99      0.99      0.99      1003\n",
            "           1       0.98      0.98      0.98       489\n",
            "\n",
            "    accuracy                           0.99      1492\n",
            "   macro avg       0.98      0.98      0.98      1492\n",
            "weighted avg       0.99      0.99      0.99      1492\n",
            "\n"
          ]
        },
        {
          "data": {
            "image/png": "[encoded data removed]",
            "text/plain": [
              "<Figure size 640x480 with 2 Axes>"
            ]
          },
          "metadata": {},
          "output_type": "display_data"
        }
      ],
      "source": [
        "# Predictions from neural network model\n",
        "nn_predict = nn_model.predict(X_test_padded)\n",
        "nn_predict_binary = (nn_predict > 0.5).astype(\"int32\")  #Converting probabilities to binary predictions\n",
        "\n",
        "# Output model statistics\n",
        "print(f\"Accuracy from neural network model: {accuracy_score(y_test_encoded, nn_predict_binary)*100:.2f} %\")\n",
        "print(f\"F1 score from neural network model: {f1_score(y_test_encoded, nn_predict_binary)*100:.2f} % \\n\")\n",
        "print(\"Classification report : \\n\", classification_report(y_test_encoded, nn_predict_binary))\n",
        "\n",
        "# Creating confusion matrix for neural network model\n",
        "nn_cm = confusion_matrix(y_test_encoded, nn_predict_binary)\n",
        "nn_cmd = ConfusionMatrixDisplay(nn_cm, display_labels=['Not Spam', 'Spam'])\n",
        "nn_cmd.plot(cmap='YlOrRd')\n",
        "plt.title('Neural Network Confusion Matrix')\n",
        "plt.xlabel('Predicted Labels')\n",
        "plt.ylabel('True Labels')\n",
        "plt.show()"
      ]
    },
    {
      "cell_type": "markdown",
      "metadata": {
        "id": "iY5-7mEoGXQJ"
      },
      "source": [
        "### 5.1.2 Spam: LightGBM Model"
      ]
    },
    {
      "cell_type": "code",
      "execution_count": 546,
      "metadata": {
        "id": "BtVSOIz8Gfc2"
      },
      "outputs": [
        {
          "name": "stdout",
          "output_type": "stream",
          "text": [
            "Accuracy from LightGBM classifier: 97.06 %\n",
            "F1 score from LightGBM classifier: 95.06 % \n",
            "\n",
            "Classification report : \n",
            "               precision    recall  f1-score   support\n",
            "\n",
            "           0       0.97      0.98      0.98      1740\n",
            "           1       0.96      0.94      0.95       746\n",
            "\n",
            "    accuracy                           0.97      2486\n",
            "   macro avg       0.97      0.96      0.96      2486\n",
            "weighted avg       0.97      0.97      0.97      2486\n",
            "\n",
            "Accuracy from LightGBM classifier: 97.22 %\n",
            "F1 score from LightGBM classifier: 95.43 % \n",
            "\n",
            "Classification report : \n",
            "               precision    recall  f1-score   support\n",
            "\n",
            "           0       0.98      0.98      0.98      1736\n",
            "           1       0.95      0.96      0.95       750\n",
            "\n",
            "    accuracy                           0.97      2486\n",
            "   macro avg       0.97      0.97      0.97      2486\n",
            "weighted avg       0.97      0.97      0.97      2486\n",
            "\n"
          ]
        },
        {
          "data": {
            "image/png": "[encoded data removed]",
            "text/plain": [
              "<Figure size 640x480 with 2 Axes>"
            ]
          },
          "metadata": {},
          "output_type": "display_data"
        },
        {
          "data": {
            "image/png": "[encoded data removed]",
            "text/plain": [
              "<Figure size 640x480 with 2 Axes>"
            ]
          },
          "metadata": {},
          "output_type": "display_data"
        }
      ],
      "source": [
        "lgbm_model = lgb.LGBMClassifier(\n",
        "    verbose=-1\n",
        ")\n",
        "\n",
        "kf = KFold(\n",
        "    n_splits=2,\n",
        "    shuffle=True,\n",
        "    random_state=42\n",
        "    )\n",
        "\n",
        "for train_index, test_index in kf.split(spam_emails_leftover):\n",
        "    train_emails, test_emails = spam_emails_leftover[train_index], spam_emails_leftover[test_index]\n",
        "    train_targets, test_targets = spam_targets_leftover[train_index], spam_targets_leftover[test_index]\n",
        "    fitted_model = lgbm_model.fit(train_emails, train_targets)\n",
        "\n",
        "    prediction = fitted_model.predict(test_emails)\n",
        "    print(f\"Accuracy from LightGBM classifier: {accuracy_score(test_targets, prediction)*100:.2f} %\")\n",
        "    print(f\"F1 score from LightGBM classifier: {f1_score(test_targets, prediction)*100:.2f} % \\n\")\n",
        "    print(\"Classification report : \\n\", classification_report(test_targets, prediction))\n",
        "\n",
        "    # Creating confusion matrix for LightGBM classifier\n",
        "    lgbm_cm = confusion_matrix(test_targets, prediction)\n",
        "    lgbm_cmd = ConfusionMatrixDisplay(lgbm_cm, display_labels=['Safe', 'Spam'])\n",
        "    lgbm_cmd.plot(cmap='YlOrRd')\n",
        "    plt.title('LightGBM Classifier Confusion Matrix')\n",
        "    plt.xlabel('Predicted Labels')\n",
        "    plt.ylabel('True Labels')"
      ]
    },
    {
      "cell_type": "markdown",
      "metadata": {
        "id": "yMRzdJZ9BhCd"
      },
      "source": [
        "## 5.2 Phishing Model"
      ]
    },
    {
      "cell_type": "markdown",
      "metadata": {
        "id": "aZIKO_aiB0mS"
      },
      "source": [
        "### 5.2.1 Phishing: Neural Network"
      ]
    },
    {
      "cell_type": "code",
      "execution_count": null,
      "metadata": {},
      "outputs": [],
      "source": []
    },
    {
      "cell_type": "markdown",
      "metadata": {},
      "source": [
        "### 5.2.2 Phishing: LightGBM Model"
      ]
    },
    {
      "cell_type": "code",
      "execution_count": null,
      "metadata": {},
      "outputs": [],
      "source": []
    },
    {
      "cell_type": "markdown",
      "metadata": {},
      "source": [
        "### 5.2.3 Phishing: Logistic Regression Model"
      ]
    },
    {
      "cell_type": "code",
      "execution_count": 547,
      "metadata": {},
      "outputs": [
        {
          "name": "stdout",
          "output_type": "stream",
          "text": [
            "Accuracy from Logistic Regression: 97.01 %\n",
            "F1 score from Logistic Regression: 95.95 % \n",
            "\n",
            "Classification report : \n",
            "               precision    recall  f1-score   support\n",
            "\n",
            "           0       0.98      0.97      0.98      4983\n",
            "           1       0.95      0.96      0.96      2888\n",
            "\n",
            "    accuracy                           0.97      7871\n",
            "   macro avg       0.97      0.97      0.97      7871\n",
            "weighted avg       0.97      0.97      0.97      7871\n",
            "\n"
          ]
        },
        {
          "ename": "KeyboardInterrupt",
          "evalue": "",
          "output_type": "error",
          "traceback": [
            "\u001b[1;31m---------------------------------------------------------------------------\u001b[0m",
            "\u001b[1;31mKeyboardInterrupt\u001b[0m                         Traceback (most recent call last)",
            "Cell \u001b[1;32mIn[547], line 10\u001b[0m\n\u001b[0;32m      8\u001b[0m train_emails, test_emails \u001b[38;5;241m=\u001b[39m phish_emails_leftover[train_index], phish_emails_leftover[test_index]\n\u001b[0;32m      9\u001b[0m train_targets, test_targets \u001b[38;5;241m=\u001b[39m phish_targets_leftover[train_index], phish_targets_leftover[test_index]\n\u001b[1;32m---> 10\u001b[0m fitted_model \u001b[38;5;241m=\u001b[39m \u001b[43mlogisticRegression_model\u001b[49m\u001b[38;5;241;43m.\u001b[39;49m\u001b[43mfit\u001b[49m\u001b[43m(\u001b[49m\u001b[43mtrain_emails\u001b[49m\u001b[43m,\u001b[49m\u001b[43m \u001b[49m\u001b[43mtrain_targets\u001b[49m\u001b[43m)\u001b[49m\n\u001b[0;32m     12\u001b[0m prediction \u001b[38;5;241m=\u001b[39m fitted_model\u001b[38;5;241m.\u001b[39mpredict(test_emails)\n\u001b[0;32m     13\u001b[0m \u001b[38;5;28mprint\u001b[39m(\u001b[38;5;124mf\u001b[39m\u001b[38;5;124m\"\u001b[39m\u001b[38;5;124mAccuracy from Logistic Regression: \u001b[39m\u001b[38;5;132;01m{\u001b[39;00maccuracy_score(test_targets,\u001b[38;5;250m \u001b[39mprediction)\u001b[38;5;241m*\u001b[39m\u001b[38;5;241m100\u001b[39m\u001b[38;5;132;01m:\u001b[39;00m\u001b[38;5;124m.2f\u001b[39m\u001b[38;5;132;01m}\u001b[39;00m\u001b[38;5;124m %\u001b[39m\u001b[38;5;124m\"\u001b[39m)\n",
            "File \u001b[1;32mc:\\Users\\terre\\AppData\\Local\\Programs\\Python\\Python311\\Lib\\site-packages\\sklearn\\base.py:1474\u001b[0m, in \u001b[0;36m_fit_context.<locals>.decorator.<locals>.wrapper\u001b[1;34m(estimator, *args, **kwargs)\u001b[0m\n\u001b[0;32m   1467\u001b[0m     estimator\u001b[38;5;241m.\u001b[39m_validate_params()\n\u001b[0;32m   1469\u001b[0m \u001b[38;5;28;01mwith\u001b[39;00m config_context(\n\u001b[0;32m   1470\u001b[0m     skip_parameter_validation\u001b[38;5;241m=\u001b[39m(\n\u001b[0;32m   1471\u001b[0m         prefer_skip_nested_validation \u001b[38;5;129;01mor\u001b[39;00m global_skip_validation\n\u001b[0;32m   1472\u001b[0m     )\n\u001b[0;32m   1473\u001b[0m ):\n\u001b[1;32m-> 1474\u001b[0m     \u001b[38;5;28;01mreturn\u001b[39;00m \u001b[43mfit_method\u001b[49m\u001b[43m(\u001b[49m\u001b[43mestimator\u001b[49m\u001b[43m,\u001b[49m\u001b[43m \u001b[49m\u001b[38;5;241;43m*\u001b[39;49m\u001b[43margs\u001b[49m\u001b[43m,\u001b[49m\u001b[43m \u001b[49m\u001b[38;5;241;43m*\u001b[39;49m\u001b[38;5;241;43m*\u001b[39;49m\u001b[43mkwargs\u001b[49m\u001b[43m)\u001b[49m\n",
            "File \u001b[1;32mc:\\Users\\terre\\AppData\\Local\\Programs\\Python\\Python311\\Lib\\site-packages\\sklearn\\linear_model\\_logistic.py:1221\u001b[0m, in \u001b[0;36mLogisticRegression.fit\u001b[1;34m(self, X, y, sample_weight)\u001b[0m\n\u001b[0;32m   1215\u001b[0m     \u001b[38;5;28;01mif\u001b[39;00m effective_n_jobs(\u001b[38;5;28mself\u001b[39m\u001b[38;5;241m.\u001b[39mn_jobs) \u001b[38;5;241m!=\u001b[39m \u001b[38;5;241m1\u001b[39m:\n\u001b[0;32m   1216\u001b[0m         warnings\u001b[38;5;241m.\u001b[39mwarn(\n\u001b[0;32m   1217\u001b[0m             \u001b[38;5;124m\"\u001b[39m\u001b[38;5;124m'\u001b[39m\u001b[38;5;124mn_jobs\u001b[39m\u001b[38;5;124m'\u001b[39m\u001b[38;5;124m > 1 does not have any effect when\u001b[39m\u001b[38;5;124m\"\u001b[39m\n\u001b[0;32m   1218\u001b[0m             \u001b[38;5;124m\"\u001b[39m\u001b[38;5;124m \u001b[39m\u001b[38;5;124m'\u001b[39m\u001b[38;5;124msolver\u001b[39m\u001b[38;5;124m'\u001b[39m\u001b[38;5;124m is set to \u001b[39m\u001b[38;5;124m'\u001b[39m\u001b[38;5;124mliblinear\u001b[39m\u001b[38;5;124m'\u001b[39m\u001b[38;5;124m. Got \u001b[39m\u001b[38;5;124m'\u001b[39m\u001b[38;5;124mn_jobs\u001b[39m\u001b[38;5;124m'\u001b[39m\u001b[38;5;124m\"\u001b[39m\n\u001b[0;32m   1219\u001b[0m             \u001b[38;5;124m\"\u001b[39m\u001b[38;5;124m = \u001b[39m\u001b[38;5;132;01m{}\u001b[39;00m\u001b[38;5;124m.\u001b[39m\u001b[38;5;124m\"\u001b[39m\u001b[38;5;241m.\u001b[39mformat(effective_n_jobs(\u001b[38;5;28mself\u001b[39m\u001b[38;5;241m.\u001b[39mn_jobs))\n\u001b[0;32m   1220\u001b[0m         )\n\u001b[1;32m-> 1221\u001b[0m     \u001b[38;5;28mself\u001b[39m\u001b[38;5;241m.\u001b[39mcoef_, \u001b[38;5;28mself\u001b[39m\u001b[38;5;241m.\u001b[39mintercept_, \u001b[38;5;28mself\u001b[39m\u001b[38;5;241m.\u001b[39mn_iter_ \u001b[38;5;241m=\u001b[39m \u001b[43m_fit_liblinear\u001b[49m\u001b[43m(\u001b[49m\n\u001b[0;32m   1222\u001b[0m \u001b[43m        \u001b[49m\u001b[43mX\u001b[49m\u001b[43m,\u001b[49m\n\u001b[0;32m   1223\u001b[0m \u001b[43m        \u001b[49m\u001b[43my\u001b[49m\u001b[43m,\u001b[49m\n\u001b[0;32m   1224\u001b[0m \u001b[43m        \u001b[49m\u001b[38;5;28;43mself\u001b[39;49m\u001b[38;5;241;43m.\u001b[39;49m\u001b[43mC\u001b[49m\u001b[43m,\u001b[49m\n\u001b[0;32m   1225\u001b[0m \u001b[43m        \u001b[49m\u001b[38;5;28;43mself\u001b[39;49m\u001b[38;5;241;43m.\u001b[39;49m\u001b[43mfit_intercept\u001b[49m\u001b[43m,\u001b[49m\n\u001b[0;32m   1226\u001b[0m \u001b[43m        \u001b[49m\u001b[38;5;28;43mself\u001b[39;49m\u001b[38;5;241;43m.\u001b[39;49m\u001b[43mintercept_scaling\u001b[49m\u001b[43m,\u001b[49m\n\u001b[0;32m   1227\u001b[0m \u001b[43m        \u001b[49m\u001b[38;5;28;43mself\u001b[39;49m\u001b[38;5;241;43m.\u001b[39;49m\u001b[43mclass_weight\u001b[49m\u001b[43m,\u001b[49m\n\u001b[0;32m   1228\u001b[0m \u001b[43m        \u001b[49m\u001b[38;5;28;43mself\u001b[39;49m\u001b[38;5;241;43m.\u001b[39;49m\u001b[43mpenalty\u001b[49m\u001b[43m,\u001b[49m\n\u001b[0;32m   1229\u001b[0m \u001b[43m        \u001b[49m\u001b[38;5;28;43mself\u001b[39;49m\u001b[38;5;241;43m.\u001b[39;49m\u001b[43mdual\u001b[49m\u001b[43m,\u001b[49m\n\u001b[0;32m   1230\u001b[0m \u001b[43m        \u001b[49m\u001b[38;5;28;43mself\u001b[39;49m\u001b[38;5;241;43m.\u001b[39;49m\u001b[43mverbose\u001b[49m\u001b[43m,\u001b[49m\n\u001b[0;32m   1231\u001b[0m \u001b[43m        \u001b[49m\u001b[38;5;28;43mself\u001b[39;49m\u001b[38;5;241;43m.\u001b[39;49m\u001b[43mmax_iter\u001b[49m\u001b[43m,\u001b[49m\n\u001b[0;32m   1232\u001b[0m \u001b[43m        \u001b[49m\u001b[38;5;28;43mself\u001b[39;49m\u001b[38;5;241;43m.\u001b[39;49m\u001b[43mtol\u001b[49m\u001b[43m,\u001b[49m\n\u001b[0;32m   1233\u001b[0m \u001b[43m        \u001b[49m\u001b[38;5;28;43mself\u001b[39;49m\u001b[38;5;241;43m.\u001b[39;49m\u001b[43mrandom_state\u001b[49m\u001b[43m,\u001b[49m\n\u001b[0;32m   1234\u001b[0m \u001b[43m        \u001b[49m\u001b[43msample_weight\u001b[49m\u001b[38;5;241;43m=\u001b[39;49m\u001b[43msample_weight\u001b[49m\u001b[43m,\u001b[49m\n\u001b[0;32m   1235\u001b[0m \u001b[43m    \u001b[49m\u001b[43m)\u001b[49m\n\u001b[0;32m   1236\u001b[0m     \u001b[38;5;28;01mreturn\u001b[39;00m \u001b[38;5;28mself\u001b[39m\n\u001b[0;32m   1238\u001b[0m \u001b[38;5;28;01mif\u001b[39;00m solver \u001b[38;5;129;01min\u001b[39;00m [\u001b[38;5;124m\"\u001b[39m\u001b[38;5;124msag\u001b[39m\u001b[38;5;124m\"\u001b[39m, \u001b[38;5;124m\"\u001b[39m\u001b[38;5;124msaga\u001b[39m\u001b[38;5;124m\"\u001b[39m]:\n",
            "File \u001b[1;32mc:\\Users\\terre\\AppData\\Local\\Programs\\Python\\Python311\\Lib\\site-packages\\sklearn\\svm\\_base.py:1217\u001b[0m, in \u001b[0;36m_fit_liblinear\u001b[1;34m(X, y, C, fit_intercept, intercept_scaling, class_weight, penalty, dual, verbose, max_iter, tol, random_state, multi_class, loss, epsilon, sample_weight)\u001b[0m\n\u001b[0;32m   1214\u001b[0m sample_weight \u001b[38;5;241m=\u001b[39m _check_sample_weight(sample_weight, X, dtype\u001b[38;5;241m=\u001b[39mnp\u001b[38;5;241m.\u001b[39mfloat64)\n\u001b[0;32m   1216\u001b[0m solver_type \u001b[38;5;241m=\u001b[39m _get_liblinear_solver_type(multi_class, penalty, loss, dual)\n\u001b[1;32m-> 1217\u001b[0m raw_coef_, n_iter_ \u001b[38;5;241m=\u001b[39m \u001b[43mliblinear\u001b[49m\u001b[38;5;241;43m.\u001b[39;49m\u001b[43mtrain_wrap\u001b[49m\u001b[43m(\u001b[49m\n\u001b[0;32m   1218\u001b[0m \u001b[43m    \u001b[49m\u001b[43mX\u001b[49m\u001b[43m,\u001b[49m\n\u001b[0;32m   1219\u001b[0m \u001b[43m    \u001b[49m\u001b[43my_ind\u001b[49m\u001b[43m,\u001b[49m\n\u001b[0;32m   1220\u001b[0m \u001b[43m    \u001b[49m\u001b[43msp\u001b[49m\u001b[38;5;241;43m.\u001b[39;49m\u001b[43missparse\u001b[49m\u001b[43m(\u001b[49m\u001b[43mX\u001b[49m\u001b[43m)\u001b[49m\u001b[43m,\u001b[49m\n\u001b[0;32m   1221\u001b[0m \u001b[43m    \u001b[49m\u001b[43msolver_type\u001b[49m\u001b[43m,\u001b[49m\n\u001b[0;32m   1222\u001b[0m \u001b[43m    \u001b[49m\u001b[43mtol\u001b[49m\u001b[43m,\u001b[49m\n\u001b[0;32m   1223\u001b[0m \u001b[43m    \u001b[49m\u001b[43mbias\u001b[49m\u001b[43m,\u001b[49m\n\u001b[0;32m   1224\u001b[0m \u001b[43m    \u001b[49m\u001b[43mC\u001b[49m\u001b[43m,\u001b[49m\n\u001b[0;32m   1225\u001b[0m \u001b[43m    \u001b[49m\u001b[43mclass_weight_\u001b[49m\u001b[43m,\u001b[49m\n\u001b[0;32m   1226\u001b[0m \u001b[43m    \u001b[49m\u001b[43mmax_iter\u001b[49m\u001b[43m,\u001b[49m\n\u001b[0;32m   1227\u001b[0m \u001b[43m    \u001b[49m\u001b[43mrnd\u001b[49m\u001b[38;5;241;43m.\u001b[39;49m\u001b[43mrandint\u001b[49m\u001b[43m(\u001b[49m\u001b[43mnp\u001b[49m\u001b[38;5;241;43m.\u001b[39;49m\u001b[43miinfo\u001b[49m\u001b[43m(\u001b[49m\u001b[38;5;124;43m\"\u001b[39;49m\u001b[38;5;124;43mi\u001b[39;49m\u001b[38;5;124;43m\"\u001b[39;49m\u001b[43m)\u001b[49m\u001b[38;5;241;43m.\u001b[39;49m\u001b[43mmax\u001b[49m\u001b[43m)\u001b[49m\u001b[43m,\u001b[49m\n\u001b[0;32m   1228\u001b[0m \u001b[43m    \u001b[49m\u001b[43mepsilon\u001b[49m\u001b[43m,\u001b[49m\n\u001b[0;32m   1229\u001b[0m \u001b[43m    \u001b[49m\u001b[43msample_weight\u001b[49m\u001b[43m,\u001b[49m\n\u001b[0;32m   1230\u001b[0m \u001b[43m\u001b[49m\u001b[43m)\u001b[49m\n\u001b[0;32m   1231\u001b[0m \u001b[38;5;66;03m# Regarding rnd.randint(..) in the above signature:\u001b[39;00m\n\u001b[0;32m   1232\u001b[0m \u001b[38;5;66;03m# seed for srand in range [0..INT_MAX); due to limitations in Numpy\u001b[39;00m\n\u001b[0;32m   1233\u001b[0m \u001b[38;5;66;03m# on 32-bit platforms, we can't get to the UINT_MAX limit that\u001b[39;00m\n\u001b[0;32m   1234\u001b[0m \u001b[38;5;66;03m# srand supports\u001b[39;00m\n\u001b[0;32m   1235\u001b[0m n_iter_max \u001b[38;5;241m=\u001b[39m \u001b[38;5;28mmax\u001b[39m(n_iter_)\n",
            "File \u001b[1;32msklearn\\\\svm\\\\_liblinear.pyx:79\u001b[0m, in \u001b[0;36msklearn.svm._liblinear.train_wrap\u001b[1;34m()\u001b[0m\n",
            "File \u001b[1;32mc:\\Users\\terre\\AppData\\Local\\Programs\\Python\\Python311\\Lib\\site-packages\\numpy\\core\\numeric.py:476\u001b[0m, in \u001b[0;36mcount_nonzero\u001b[1;34m(a, axis, keepdims)\u001b[0m\n\u001b[0;32m    417\u001b[0m \u001b[38;5;250m\u001b[39m\u001b[38;5;124;03m\"\"\"\u001b[39;00m\n\u001b[0;32m    418\u001b[0m \u001b[38;5;124;03mCounts the number of non-zero values in the array ``a``.\u001b[39;00m\n\u001b[0;32m    419\u001b[0m \n\u001b[1;32m   (...)\u001b[0m\n\u001b[0;32m    473\u001b[0m \u001b[38;5;124;03m       [3]])\u001b[39;00m\n\u001b[0;32m    474\u001b[0m \u001b[38;5;124;03m\"\"\"\u001b[39;00m\n\u001b[0;32m    475\u001b[0m \u001b[38;5;28;01mif\u001b[39;00m axis \u001b[38;5;129;01mis\u001b[39;00m \u001b[38;5;28;01mNone\u001b[39;00m \u001b[38;5;129;01mand\u001b[39;00m \u001b[38;5;129;01mnot\u001b[39;00m keepdims:\n\u001b[1;32m--> 476\u001b[0m     \u001b[38;5;28;01mreturn\u001b[39;00m multiarray\u001b[38;5;241m.\u001b[39mcount_nonzero(a)\n\u001b[0;32m    478\u001b[0m a \u001b[38;5;241m=\u001b[39m asanyarray(a)\n\u001b[0;32m    480\u001b[0m \u001b[38;5;66;03m# TODO: this works around .astype(bool) not working properly (gh-9847)\u001b[39;00m\n",
            "\u001b[1;31mKeyboardInterrupt\u001b[0m: "
          ]
        },
        {
          "data": {
            "image/png": "[encoded data removed]",
            "text/plain": [
              "<Figure size 640x480 with 2 Axes>"
            ]
          },
          "metadata": {},
          "output_type": "display_data"
        }
      ],
      "source": [
        "logisticRegression_model = LogisticRegression(\n",
        "    C=6, \n",
        "    solver='liblinear', \n",
        "    penalty='l1', \n",
        "    )\n",
        "vec = TfidfVectorizer()\n",
        "for train_index, test_index in kf.split(phish_emails_leftover):\n",
        "    train_emails, test_emails = phish_emails_leftover[train_index], phish_emails_leftover[test_index]\n",
        "    train_targets, test_targets = phish_targets_leftover[train_index], phish_targets_leftover[test_index]\n",
        "    fitted_model = logisticRegression_model.fit(train_emails, train_targets)\n",
        "\n",
        "    prediction = fitted_model.predict(test_emails)\n",
        "    print(f\"Accuracy from Logistic Regression: {accuracy_score(test_targets, prediction)*100:.2f} %\")\n",
        "    print(f\"F1 score from Logistic Regression: {f1_score(test_targets, prediction)*100:.2f} % \\n\")\n",
        "    print(\"Classification report : \\n\", classification_report(test_targets, prediction))\n",
        "\n",
        "    # Creating confusion matrix for LightGBM classifier\n",
        "    cm = confusion_matrix(test_targets, prediction)\n",
        "    cmd = ConfusionMatrixDisplay(cm, display_labels=['Safe', 'Phishing'])\n",
        "    cmd.plot(cmap='YlOrRd')\n",
        "    plt.title('Phishing: Logistic Regression Confusion Matrix')\n",
        "    plt.xlabel('Predicted Labels')\n",
        "    plt.ylabel('True Labels')\n"
      ]
    },
    {
      "cell_type": "markdown",
      "metadata": {},
      "source": [
        "### 5.2.4 Phishing: SGD Classifier"
      ]
    },
    {
      "cell_type": "code",
      "execution_count": null,
      "metadata": {},
      "outputs": [],
      "source": [
        "sgdClassifier = SGDClassifier()\n",
        "sgdClassifier.fit(phish_X_train,phish_y_train)\n",
        "\n",
        "sgd_predict = sgdClassifier.predict(phish_X_test)\n",
        "\n",
        "sgd_predict\n",
        "print(f\"accuracy from SGD Classifier: {accuracy_score(phish_y_test,sgd_predict)*100:.2f} %\")\n",
        "print(f\"f1 score from SGD Classifier: {f1_score(phish_y_test,sgd_predict)*100:.2f} % \\n\")\n",
        "print(\"classification report : \\n\",classification_report(phish_y_test,sgd_predict))\n",
        "\n",
        "#Creating model confusion matrix\n",
        "sgd_cm = confusion_matrix(phish_y_test,sgd_predict)\n",
        "\n",
        "sgd_cmd = ConfusionMatrixDisplay(sgd_cm,display_labels=['Phishing', 'Safe'])\n",
        "\n",
        "sgd_cmd.plot(cmap='Blues')\n",
        "plt.title('SGD Classifier Confusion Matrix')\n",
        "plt.xlabel('Predicted Labels')\n",
        "plt.ylabel('True Labels')\n",
        "plt.show()"
      ]
    },
    {
      "cell_type": "markdown",
      "metadata": {},
      "source": [
        "# 6 Testing Models with untouched data"
      ]
    },
    {
      "cell_type": "markdown",
      "metadata": {},
      "source": [
        "## 6.1 Testing Spam Data Model"
      ]
    },
    {
      "cell_type": "markdown",
      "metadata": {},
      "source": [
        "### 6.1.1 Neural Network"
      ]
    },
    {
      "cell_type": "code",
      "execution_count": null,
      "metadata": {},
      "outputs": [],
      "source": [
        "nn_predict_untouched = nn_model.predict(X_untouched_padded)\n",
        "nn_predict_binary_untouched = (nn_predict_untouched > 0.5).astype(\"int32\")"
      ]
    },
    {
      "cell_type": "code",
      "execution_count": null,
      "metadata": {},
      "outputs": [],
      "source": []
    },
    {
      "cell_type": "code",
      "execution_count": null,
      "metadata": {},
      "outputs": [],
      "source": [
        "# Output model statistics\n",
        "nn_accuracy_score = accuracy_score(y_untouched_encoded, nn_predict_binary_untouched)*100\n",
        "nn_f1_score =  f1_score(y_untouched_encoded, nn_predict_binary_untouched)*100\n",
        "print(f\"Accuracy from neural network model: {nn_accuracy_score:.2f} %\")\n",
        "print(f\"F1 score from neural network model: {nn_f1_score:.2f} % \\n\")\n",
        "\n",
        "classification_report_str = classification_report(y_untouched_encoded, nn_predict_binary_untouched)\n",
        "classification_report_dict = classification_report(y_untouched_encoded, nn_predict_binary_untouched, output_dict=True)\n",
        "\n",
        "nn_macro_avg_precision = classification_report_dict['macro avg']['precision']\n",
        "nn_weighted_avg_precision = classification_report_dict['weighted avg']['precision']\n",
        "nn_macro_avg_recall = classification_report_dict['macro avg']['recall']\n",
        "nn_weighted_avg_recall = classification_report_dict['weighted avg']['recall']\n",
        "\n",
        "print(\"Classification report : \\n\", classification_report_str)\n",
        "\n",
        "# Creating confusion matrix for neural network model\n",
        "nn_cm_final = confusion_matrix(y_untouched_encoded, nn_predict_binary_untouched)\n",
        "nn_cmd_final = ConfusionMatrixDisplay(nn_cm_final, display_labels=['Not Phishing', 'Phishing'])\n",
        "nn_cmd_final.plot(cmap='YlOrRd')\n",
        "plt.title('Neural Network Confusion Matrix')\n",
        "plt.xlabel('Predicted Labels')\n",
        "plt.ylabel('True Labels')\n",
        "plt.show()"
      ]
    },
    {
      "cell_type": "markdown",
      "metadata": {},
      "source": [
        "### 6.1.2 LightGBM Classifier"
      ]
    },
    {
      "cell_type": "code",
      "execution_count": null,
      "metadata": {},
      "outputs": [],
      "source": [
        "# Make predictions\n",
        "lgbm_predict_final = lgbm_model.predict(spam_emails_untouched)\n",
        "\n",
        "lgbm_accuracy_score = accuracy_score(spam_targets_untouched, lgbm_predict_final)*100\n",
        "lgbm_f1_score = f1_score(spam_targets_untouched, lgbm_predict_final)*100\n",
        "# Output model statistics\n",
        "print(f\"Accuracy from LightGBM classifier: {lgbm_accuracy_score:.2f} %\")\n",
        "print(f\"F1 score from LightGBM classifier: {lgbm_f1_score:.2f} % \\n\")\n",
        "\n",
        "lgbm_classification_report_str = classification_report(spam_targets_untouched, lgbm_predict_final)\n",
        "lgbm_classification_report_dict = classification_report(spam_targets_untouched, lgbm_predict_final, output_dict=True)\n",
        "lgbm_macro_avg_precision = lgbm_classification_report_dict['macro avg']['precision']\n",
        "lgbm_weighted_avg_precision = lgbm_classification_report_dict['weighted avg']['precision']\n",
        "lgbm_macro_avg_recall = lgbm_classification_report_dict['macro avg']['recall']\n",
        "lgbm_weighted_avg_recall = lgbm_classification_report_dict['weighted avg']['recall']\n",
        "\n",
        "print(\"Classification report : \\n\", lgbm_classification_report_str)\n",
        "\n",
        "# Creating confusion matrix for LightGBM classifier\n",
        "lgbm_cm_final = confusion_matrix(spam_targets_untouched, lgbm_predict_final)\n",
        "lgbm_cmd_final = ConfusionMatrixDisplay(lgbm_cm, display_labels=['Not Spam', 'Spam'])\n",
        "lgbm_cmd_final.plot(cmap='YlOrRd')\n",
        "plt.title('LightGBM Classifier Confusion Matrix')\n",
        "plt.xlabel('Predicted Labels')\n",
        "plt.ylabel('True Labels')"
      ]
    },
    {
      "cell_type": "markdown",
      "metadata": {},
      "source": [
        "## 6.2 Testing Phishing Dataset Model"
      ]
    },
    {
      "cell_type": "markdown",
      "metadata": {},
      "source": [
        "### 6.2.1 Logistic Regression"
      ]
    },
    {
      "cell_type": "code",
      "execution_count": null,
      "metadata": {},
      "outputs": [],
      "source": [
        "logReg_predict_final = logisticRegression.predict(phish_X__untouched)"
      ]
    },
    {
      "cell_type": "code",
      "execution_count": null,
      "metadata": {},
      "outputs": [],
      "source": [
        "logReg_accuracy_score = accuracy_score(phish_y__untouched, logReg_predict_final) * 100\n",
        "logReg_f1_score = f1_score(phish_y__untouched, logReg_predict_final) * 100\n",
        "\n",
        "#Outputing model statistics\n",
        "print(f\"accuracy from logistic regression: {logReg_accuracy_score:.2f} %\")\n",
        "print(f\"f1 score from logistic regression: {logReg_f1_score:.2f} % \\n\")\n",
        "\n",
        "logReg_classification_report_str = classification_report(phish_y__untouched, logReg_predict_final)\n",
        "logReg_classification_report_dict = classification_report(phish_y__untouched, logReg_predict_final, output_dict=True)\n",
        "logReg_macro_avg_precision = logReg_classification_report_dict['macro avg']['precision']\n",
        "logReg_weighted_avg_precision = logReg_classification_report_dict['weighted avg']['precision']\n",
        "logReg_macro_avg_recall = logReg_classification_report_dict['macro avg']['recall']\n",
        "logReg_weighted_avg_recall = logReg_classification_report_dict['weighted avg']['recall']\n",
        "\n",
        "print(\"classification report : \\n\",logReg_classification_report_str)\n",
        "\n",
        "''' \n",
        "# Step 1: Identify incorrect predictions\n",
        "incorrect_indices = np.where(phish_y_test != logReg_predict)[0]\n",
        "\n",
        "# Step 2: Extract the incorrectly predicted instances\n",
        "# Assuming you have an array or a list that matches phish_X_test's structure, holding email contents or identifiers\n",
        "# For example, let's say email_ids is a list or array containing identifiers for each instance in phish_X_test\n",
        "#incorrect_emails = [email_ids[i] for i in incorrect_indices]\n",
        "\n",
        "# Step 3: Convert to DataFrame and save to CSV\n",
        "df_incorrect_emails = pd.DataFrame(incorrect_emails, columns=['Incorrect Email Identifiers'])\n",
        "df_incorrect_emails.to_csv('/mnt/data/incorrect_emails.csv', index=False)\n",
        "\n",
        "# Outputting the path to the saved CSV file for your reference\n",
        "'/mnt/data/incorrect_emails.csv'\n",
        "'''\n",
        "#Creating model confusion matrix\n",
        "logReg_cm_final = confusion_matrix(phish_y__untouched,logReg_predict_final)\n",
        "\n",
        "logReg_cmd_final = ConfusionMatrixDisplay(logReg_cm_final,display_labels=['Phishing', 'Safe'])\n",
        "\n",
        "logReg_cmd_final.plot(cmap='Blues')\n",
        "plt.title('Logistic Regression Confusion Matrix')\n",
        "plt.xlabel('Predicted Labels')\n",
        "plt.ylabel('True Labels')\n",
        "plt.show()"
      ]
    },
    {
      "cell_type": "markdown",
      "metadata": {},
      "source": [
        "### 6.2.2 SGD Classifier"
      ]
    },
    {
      "cell_type": "code",
      "execution_count": null,
      "metadata": {},
      "outputs": [],
      "source": [
        "sgd_predict_final = sgdClassifier.predict(phish_X__untouched)"
      ]
    },
    {
      "cell_type": "code",
      "execution_count": null,
      "metadata": {},
      "outputs": [],
      "source": [
        "sgd_accuracy_score = accuracy_score(phish_y__untouched, sgd_predict_final) * 100\n",
        "sgd_f1_score = f1_score(phish_y__untouched, sgd_predict_final) * 100\n",
        "\n",
        "print(\"accuracy from SGD Classifier:\", sgd_accuracy_score)\n",
        "print(\"f1 score from SGD Classifier:\", sgd_f1_score)\n",
        "\n",
        "sgd_classification_report_str = classification_report(phish_y__untouched, sgd_predict_final)\n",
        "sgd_classification_report_dict = classification_report(phish_y__untouched, sgd_predict_final, output_dict=True)\n",
        "sgd_macro_avg_precision = sgd_classification_report_dict['macro avg']['precision']\n",
        "sgd_weighted_avg_precision = sgd_classification_report_dict['weighted avg']['precision']\n",
        "sgd_macro_avg_recall = sgd_classification_report_dict['macro avg']['recall']\n",
        "sgd_weighted_avg_recall = sgd_classification_report_dict['weighted avg']['recall']\n",
        "print(\"classification report : \\n\",sgd_classification_report_str)\n",
        "\n",
        "#Creating model confusion matrix\n",
        "sgd_cm_final = confusion_matrix(phish_y__untouched,sgd_predict_final)\n",
        "\n",
        "sgd_cmd_final = ConfusionMatrixDisplay(sgd_cm_final,display_labels=['Phishing', 'Safe'])\n",
        "\n",
        "sgd_cmd_final.plot(cmap='Blues')\n",
        "plt.title('SGD Classifier Confusion Matrix')\n",
        "plt.xlabel('Predicted Labels')\n",
        "plt.ylabel('True Labels')\n",
        "plt.show()"
      ]
    },
    {
      "cell_type": "markdown",
      "metadata": {},
      "source": [
        "# 7 Model Comparisons"
      ]
    },
    {
      "cell_type": "code",
      "execution_count": null,
      "metadata": {},
      "outputs": [],
      "source": [
        "# Define the data for the table\n",
        "accuracy_score_data = [\n",
        "  [\"Neural Network\", nn_accuracy_score],\n",
        "  [\"LightGBM\", lgbm_accuracy_score],\n",
        "  [\"Logistic Regression\", logReg_accuracy_score],\n",
        "  [\"SGD Classifier\", sgd_accuracy_score]\n",
        "]\n",
        "\n",
        "# Define the headers for the table\n",
        "headers = [\"Model\", \"Accuracy Score\"]\n",
        "\n",
        "# Create a new table\n",
        "accuracy_score_table = pt.PrettyTable(headers)\n",
        "\n",
        "# Add rows to the table\n",
        "for row in accuracy_score_data:\n",
        "  accuracy_score_table.add_row(row)\n",
        "\n",
        "# Print the table\n",
        "print(\"Accuracy Scores for each model\")\n",
        "print(accuracy_score_table)\n",
        "\n",
        "# Define the data for the table\n",
        "f1_score_data = [\n",
        "  [\"Neural Network\", nn_f1_score],\n",
        "  [\"LightGBM\", lgbm_f1_score],\n",
        "  [\"Logistic Regression\", logReg_f1_score],\n",
        "  [\"SGD Classifier\", sgd_f1_score]\n",
        "]\n",
        "\n",
        "# Define the headers for the table\n",
        "headers = [\"Model\", \"F1 Score\"]\n",
        "\n",
        "# Create a new table\n",
        "f1_score_table = pt.PrettyTable(headers)\n",
        "\n",
        "# Add rows to the table\n",
        "for row in f1_score_data:\n",
        "  f1_score_table.add_row(row)\n",
        "\n",
        "# Print the table\n",
        "print(\"F1 Scores for each model\")\n",
        "print(f1_score_table)"
      ]
    },
    {
      "cell_type": "code",
      "execution_count": null,
      "metadata": {},
      "outputs": [],
      "source": [
        "# Data for different models and their corresponding scores\n",
        "models = ['Neural Network', 'LightGBM', 'Logistic Regression', 'SGD Classifier']\n",
        "\n",
        "precision_macro_scores = [nn_macro_avg_precision, lgbm_macro_avg_precision, logReg_macro_avg_precision, sgd_macro_avg_precision]\n",
        "precision_weighted_scores = [nn_weighted_avg_precision, lgbm_weighted_avg_precision, logReg_weighted_avg_precision, sgd_weighted_avg_precision]\n",
        "recall_macro_scores = [nn_macro_avg_recall, lgbm_macro_avg_recall, logReg_macro_avg_recall, sgd_macro_avg_recall]\n",
        "recall_weighted_scores = [nn_weighted_avg_recall, lgbm_weighted_avg_recall, logReg_weighted_avg_recall, sgd_weighted_avg_recall]\n",
        "\n",
        "# Plotting\n",
        "plt.figure(figsize=(12, 8))\n",
        "\n",
        "# Plot macro_avg_precision scores\n",
        "plt.plot(models, precision_macro_scores, marker='o', label='Macro Precision', color='b')\n",
        "# Plot weighted_avg_precision scores\n",
        "plt.plot(models, precision_weighted_scores, marker='o', label='Weighted Precision', color='g')\n",
        "# Plot macro_avg_recall scores\n",
        "plt.plot(models, recall_macro_scores, marker='o', label='Macro Recall', color='r')\n",
        "# Plot weighted_avg_recall scores\n",
        "plt.plot(models, recall_weighted_scores, marker='o', label='Weighted Recall', color='c')\n",
        "\n",
        "plt.xlabel('Models')\n",
        "plt.ylabel('Scores')\n",
        "plt.title('Model Comparison')\n",
        "plt.legend()\n",
        "plt.xticks(rotation=45)\n",
        "plt.grid(True)\n",
        "plt.tight_layout()\n",
        "plt.show()"
      ]
    },
    {
      "cell_type": "markdown",
      "metadata": {},
      "source": [
        "# 7 Export Models for further usage"
      ]
    },
    {
      "cell_type": "code",
      "execution_count": null,
      "metadata": {},
      "outputs": [],
      "source": [
        "nn_model.save('nn_model.keras')"
      ]
    },
    {
      "cell_type": "code",
      "execution_count": null,
      "metadata": {},
      "outputs": [],
      "source": [
        "joblib.dump(lgbm_model, 'lgbm_model.pkl')"
      ]
    },
    {
      "cell_type": "code",
      "execution_count": null,
      "metadata": {},
      "outputs": [],
      "source": [
        "joblib.dump(logisticRegression, 'logisticRegression.pkl')"
      ]
    },
    {
      "cell_type": "code",
      "execution_count": null,
      "metadata": {},
      "outputs": [],
      "source": [
        "joblib.dump(sgdClassifier, 'sgdClassifier.pkl')"
      ]
    }
  ],
  "metadata": {
    "colab": {
      "provenance": [],
      "toc_visible": true
    },
    "kernelspec": {
      "display_name": "Python 3",
      "name": "python3"
    },
    "language_info": {
      "codemirror_mode": {
        "name": "ipython",
        "version": 3
      },
      "file_extension": ".py",
      "mimetype": "text/x-python",
      "name": "python",
      "nbconvert_exporter": "python",
      "pygments_lexer": "ipython3",
      "version": "3.11.3"
    }
  },
  "nbformat": 4,
  "nbformat_minor": 0
}
